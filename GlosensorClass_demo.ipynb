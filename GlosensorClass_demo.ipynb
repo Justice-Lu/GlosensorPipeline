{
 "cells": [
  {
   "cell_type": "code",
   "execution_count": 1,
   "id": "158bdfbf",
   "metadata": {},
   "outputs": [],
   "source": [
    "import pandas as pd \n",
    "import numpy as np \n",
    "import sys \n",
    "import os \n",
    "import copy\n",
    "import importlib\n",
    "from csv import reader\n",
    "# from plotnine import *\n",
    "import plotly.graph_objects as go"
   ]
  },
  {
   "cell_type": "markdown",
   "id": "07a647a4",
   "metadata": {},
   "source": [
    "#### Reading data and preprocessing"
   ]
  },
  {
   "cell_type": "code",
   "execution_count": 2,
   "id": "fb7fdeb5",
   "metadata": {
    "scrolled": true
   },
   "outputs": [],
   "source": [
    "# Declare a path a folder before to read the function file out of current directory \n",
    "sys.path.insert(1, '../.')\n",
    "from utils.GloSensorClass import GlosensorData\n",
    "from utils.GloSensorClass import distinct_colors, continuous_colors\n"
   ]
  },
  {
   "cell_type": "code",
   "execution_count": 3,
   "id": "7bd20949",
   "metadata": {},
   "outputs": [],
   "source": [
    "# UPDATE YOUR EXPERIMENT FILE HERE \n",
    "DATA_PATH = './data/'\n",
    "file_extension = 'experiment_001'\n",
    "path = os.path.join(DATA_PATH+file_extension+'/')\n"
   ]
  },
  {
   "cell_type": "code",
   "execution_count": 4,
   "id": "d9e269bc",
   "metadata": {},
   "outputs": [
    {
     "name": "stdout",
     "output_type": "stream",
     "text": [
      "Read Plate_1 \n",
      "Read Plate_1_blank \n"
     ]
    }
   ],
   "source": [
    "# Initiatate GlossensorData class \n",
    "glo = GlosensorData(path)\n",
    "# Read in data from path\n",
    "glo.ReadTableData()"
   ]
  },
  {
   "cell_type": "markdown",
   "id": "8fbc0f3c",
   "metadata": {},
   "source": [
    "#### Checking plate values (Optional)"
   ]
  },
  {
   "cell_type": "code",
   "execution_count": 5,
   "id": "5dd957ac",
   "metadata": {},
   "outputs": [
    {
     "data": {
      "application/vnd.plotly.v1+json": {
       "config": {
        "plotlyServerURL": "https://plot.ly"
       },
       "data": [
        {
         "hovertemplate": "Row=A<br>Column=1<br>Time=%{x}<br>value=%{y}<extra></extra>",
         "legendgroup": "",
         "line": {
          "color": "#636efa",
          "dash": "solid"
         },
         "marker": {
          "symbol": "circle"
         },
         "mode": "lines",
         "name": "",
         "showlegend": false,
         "type": "scattergl",
         "x": [
          "Time_0",
          "Time_1",
          "Time_2",
          "Time_3",
          "Time_4",
          "Time_5",
          "Time_6",
          "Time_7",
          "Time_8",
          "Time_9",
          "Time_10"
         ],
         "xaxis": "x85",
         "y": [
          25,
          35,
          18,
          12,
          23,
          16,
          16,
          18,
          15,
          26,
          5
         ],
         "yaxis": "y85"
        },
        {
         "hovertemplate": "Row=A<br>Column=2<br>Time=%{x}<br>value=%{y}<extra></extra>",
         "legendgroup": "",
         "line": {
          "color": "#636efa",
          "dash": "solid"
         },
         "marker": {
          "symbol": "circle"
         },
         "mode": "lines",
         "name": "",
         "showlegend": false,
         "type": "scattergl",
         "x": [
          "Time_0",
          "Time_1",
          "Time_2",
          "Time_3",
          "Time_4",
          "Time_5",
          "Time_6",
          "Time_7",
          "Time_8",
          "Time_9",
          "Time_10"
         ],
         "xaxis": "x86",
         "y": [
          25,
          68,
          40,
          83,
          93,
          137,
          177,
          95,
          138,
          152,
          122
         ],
         "yaxis": "y86"
        },
        {
         "hovertemplate": "Row=A<br>Column=3<br>Time=%{x}<br>value=%{y}<extra></extra>",
         "legendgroup": "",
         "line": {
          "color": "#636efa",
          "dash": "solid"
         },
         "marker": {
          "symbol": "circle"
         },
         "mode": "lines",
         "name": "",
         "showlegend": false,
         "type": "scattergl",
         "x": [
          "Time_0",
          "Time_1",
          "Time_2",
          "Time_3",
          "Time_4",
          "Time_5",
          "Time_6",
          "Time_7",
          "Time_8",
          "Time_9",
          "Time_10"
         ],
         "xaxis": "x87",
         "y": [
          25,
          17,
          15,
          28,
          22,
          25,
          18,
          22,
          18,
          35,
          15
         ],
         "yaxis": "y87"
        },
        {
         "hovertemplate": "Row=A<br>Column=4<br>Time=%{x}<br>value=%{y}<extra></extra>",
         "legendgroup": "",
         "line": {
          "color": "#636efa",
          "dash": "solid"
         },
         "marker": {
          "symbol": "circle"
         },
         "mode": "lines",
         "name": "",
         "showlegend": false,
         "type": "scattergl",
         "x": [
          "Time_0",
          "Time_1",
          "Time_2",
          "Time_3",
          "Time_4",
          "Time_5",
          "Time_6",
          "Time_7",
          "Time_8",
          "Time_9",
          "Time_10"
         ],
         "xaxis": "x88",
         "y": [
          175,
          43,
          121,
          117,
          188,
          300,
          350,
          210,
          248,
          256,
          413
         ],
         "yaxis": "y88"
        },
        {
         "hovertemplate": "Row=A<br>Column=5<br>Time=%{x}<br>value=%{y}<extra></extra>",
         "legendgroup": "",
         "line": {
          "color": "#636efa",
          "dash": "solid"
         },
         "marker": {
          "symbol": "circle"
         },
         "mode": "lines",
         "name": "",
         "showlegend": false,
         "type": "scattergl",
         "x": [
          "Time_0",
          "Time_1",
          "Time_2",
          "Time_3",
          "Time_4",
          "Time_5",
          "Time_6",
          "Time_7",
          "Time_8",
          "Time_9",
          "Time_10"
         ],
         "xaxis": "x89",
         "y": [
          25,
          20,
          23,
          26,
          15,
          12,
          12,
          30,
          26,
          18,
          17
         ],
         "yaxis": "y89"
        },
        {
         "hovertemplate": "Row=A<br>Column=6<br>Time=%{x}<br>value=%{y}<extra></extra>",
         "legendgroup": "",
         "line": {
          "color": "#636efa",
          "dash": "solid"
         },
         "marker": {
          "symbol": "circle"
         },
         "mode": "lines",
         "name": "",
         "showlegend": false,
         "type": "scattergl",
         "x": [
          "Time_0",
          "Time_1",
          "Time_2",
          "Time_3",
          "Time_4",
          "Time_5",
          "Time_6",
          "Time_7",
          "Time_8",
          "Time_9",
          "Time_10"
         ],
         "xaxis": "x90",
         "y": [
          25,
          12,
          23,
          23,
          17,
          26,
          45,
          21,
          22,
          13,
          18
         ],
         "yaxis": "y90"
        },
        {
         "hovertemplate": "Row=A<br>Column=7<br>Time=%{x}<br>value=%{y}<extra></extra>",
         "legendgroup": "",
         "line": {
          "color": "#636efa",
          "dash": "solid"
         },
         "marker": {
          "symbol": "circle"
         },
         "mode": "lines",
         "name": "",
         "showlegend": false,
         "type": "scattergl",
         "x": [
          "Time_0",
          "Time_1",
          "Time_2",
          "Time_3",
          "Time_4",
          "Time_5",
          "Time_6",
          "Time_7",
          "Time_8",
          "Time_9",
          "Time_10"
         ],
         "xaxis": "x91",
         "y": [
          25,
          11,
          11,
          18,
          26,
          32,
          22,
          27,
          18,
          12,
          12
         ],
         "yaxis": "y91"
        },
        {
         "hovertemplate": "Row=A<br>Column=8<br>Time=%{x}<br>value=%{y}<extra></extra>",
         "legendgroup": "",
         "line": {
          "color": "#636efa",
          "dash": "solid"
         },
         "marker": {
          "symbol": "circle"
         },
         "mode": "lines",
         "name": "",
         "showlegend": false,
         "type": "scattergl",
         "x": [
          "Time_0",
          "Time_1",
          "Time_2",
          "Time_3",
          "Time_4",
          "Time_5",
          "Time_6",
          "Time_7",
          "Time_8",
          "Time_9",
          "Time_10"
         ],
         "xaxis": "x92",
         "y": [
          25,
          25,
          17,
          30,
          10,
          7,
          12,
          22,
          25,
          23,
          10
         ],
         "yaxis": "y92"
        },
        {
         "hovertemplate": "Row=A<br>Column=9<br>Time=%{x}<br>value=%{y}<extra></extra>",
         "legendgroup": "",
         "line": {
          "color": "#636efa",
          "dash": "solid"
         },
         "marker": {
          "symbol": "circle"
         },
         "mode": "lines",
         "name": "",
         "showlegend": false,
         "type": "scattergl",
         "x": [
          "Time_0",
          "Time_1",
          "Time_2",
          "Time_3",
          "Time_4",
          "Time_5",
          "Time_6",
          "Time_7",
          "Time_8",
          "Time_9",
          "Time_10"
         ],
         "xaxis": "x93",
         "y": [
          25,
          21,
          18,
          17,
          15,
          10,
          12,
          31,
          13,
          16,
          15
         ],
         "yaxis": "y93"
        },
        {
         "hovertemplate": "Row=A<br>Column=10<br>Time=%{x}<br>value=%{y}<extra></extra>",
         "legendgroup": "",
         "line": {
          "color": "#636efa",
          "dash": "solid"
         },
         "marker": {
          "symbol": "circle"
         },
         "mode": "lines",
         "name": "",
         "showlegend": false,
         "type": "scattergl",
         "x": [
          "Time_0",
          "Time_1",
          "Time_2",
          "Time_3",
          "Time_4",
          "Time_5",
          "Time_6",
          "Time_7",
          "Time_8",
          "Time_9",
          "Time_10"
         ],
         "xaxis": "x94",
         "y": [
          50,
          23,
          13,
          16,
          8,
          8,
          22,
          18,
          7,
          36,
          10
         ],
         "yaxis": "y94"
        },
        {
         "hovertemplate": "Row=A<br>Column=11<br>Time=%{x}<br>value=%{y}<extra></extra>",
         "legendgroup": "",
         "line": {
          "color": "#636efa",
          "dash": "solid"
         },
         "marker": {
          "symbol": "circle"
         },
         "mode": "lines",
         "name": "",
         "showlegend": false,
         "type": "scattergl",
         "x": [
          "Time_0",
          "Time_1",
          "Time_2",
          "Time_3",
          "Time_4",
          "Time_5",
          "Time_6",
          "Time_7",
          "Time_8",
          "Time_9",
          "Time_10"
         ],
         "xaxis": "x95",
         "y": [
          25,
          17,
          21,
          18,
          12,
          30,
          28,
          16,
          12,
          27,
          12
         ],
         "yaxis": "y95"
        },
        {
         "hovertemplate": "Row=A<br>Column=12<br>Time=%{x}<br>value=%{y}<extra></extra>",
         "legendgroup": "",
         "line": {
          "color": "#636efa",
          "dash": "solid"
         },
         "marker": {
          "symbol": "circle"
         },
         "mode": "lines",
         "name": "",
         "showlegend": false,
         "type": "scattergl",
         "x": [
          "Time_0",
          "Time_1",
          "Time_2",
          "Time_3",
          "Time_4",
          "Time_5",
          "Time_6",
          "Time_7",
          "Time_8",
          "Time_9",
          "Time_10"
         ],
         "xaxis": "x96",
         "y": [
          50,
          15,
          28,
          18,
          35,
          22,
          22,
          27,
          11,
          6,
          21
         ],
         "yaxis": "y96"
        },
        {
         "hovertemplate": "Row=B<br>Column=1<br>Time=%{x}<br>value=%{y}<extra></extra>",
         "legendgroup": "",
         "line": {
          "color": "#636efa",
          "dash": "solid"
         },
         "marker": {
          "symbol": "circle"
         },
         "mode": "lines",
         "name": "",
         "showlegend": false,
         "type": "scattergl",
         "x": [
          "Time_0",
          "Time_1",
          "Time_2",
          "Time_3",
          "Time_4",
          "Time_5",
          "Time_6",
          "Time_7",
          "Time_8",
          "Time_9",
          "Time_10"
         ],
         "xaxis": "x73",
         "y": [
          50,
          38,
          17,
          15,
          7,
          10,
          10,
          36,
          21,
          17,
          12
         ],
         "yaxis": "y73"
        },
        {
         "hovertemplate": "Row=B<br>Column=2<br>Time=%{x}<br>value=%{y}<extra></extra>",
         "legendgroup": "",
         "line": {
          "color": "#636efa",
          "dash": "solid"
         },
         "marker": {
          "symbol": "circle"
         },
         "mode": "lines",
         "name": "",
         "showlegend": false,
         "type": "scattergl",
         "x": [
          "Time_0",
          "Time_1",
          "Time_2",
          "Time_3",
          "Time_4",
          "Time_5",
          "Time_6",
          "Time_7",
          "Time_8",
          "Time_9",
          "Time_10"
         ],
         "xaxis": "x74",
         "y": [
          50,
          35,
          105,
          163,
          142,
          138,
          140,
          136,
          98,
          127,
          142
         ],
         "yaxis": "y74"
        },
        {
         "hovertemplate": "Row=B<br>Column=3<br>Time=%{x}<br>value=%{y}<extra></extra>",
         "legendgroup": "",
         "line": {
          "color": "#636efa",
          "dash": "solid"
         },
         "marker": {
          "symbol": "circle"
         },
         "mode": "lines",
         "name": "",
         "showlegend": false,
         "type": "scattergl",
         "x": [
          "Time_0",
          "Time_1",
          "Time_2",
          "Time_3",
          "Time_4",
          "Time_5",
          "Time_6",
          "Time_7",
          "Time_8",
          "Time_9",
          "Time_10"
         ],
         "xaxis": "x75",
         "y": [
          100,
          26,
          18,
          11,
          12,
          30,
          25,
          40,
          28,
          37,
          17
         ],
         "yaxis": "y75"
        },
        {
         "hovertemplate": "Row=B<br>Column=4<br>Time=%{x}<br>value=%{y}<extra></extra>",
         "legendgroup": "",
         "line": {
          "color": "#636efa",
          "dash": "solid"
         },
         "marker": {
          "symbol": "circle"
         },
         "mode": "lines",
         "name": "",
         "showlegend": false,
         "type": "scattergl",
         "x": [
          "Time_0",
          "Time_1",
          "Time_2",
          "Time_3",
          "Time_4",
          "Time_5",
          "Time_6",
          "Time_7",
          "Time_8",
          "Time_9",
          "Time_10"
         ],
         "xaxis": "x76",
         "y": [
          50,
          63,
          101,
          116,
          226,
          248,
          232,
          260,
          248,
          351,
          282
         ],
         "yaxis": "y76"
        },
        {
         "hovertemplate": "Row=B<br>Column=5<br>Time=%{x}<br>value=%{y}<extra></extra>",
         "legendgroup": "",
         "line": {
          "color": "#636efa",
          "dash": "solid"
         },
         "marker": {
          "symbol": "circle"
         },
         "mode": "lines",
         "name": "",
         "showlegend": false,
         "type": "scattergl",
         "x": [
          "Time_0",
          "Time_1",
          "Time_2",
          "Time_3",
          "Time_4",
          "Time_5",
          "Time_6",
          "Time_7",
          "Time_8",
          "Time_9",
          "Time_10"
         ],
         "xaxis": "x77",
         "y": [
          25,
          17,
          27,
          12,
          6,
          8,
          26,
          16,
          12,
          11,
          20
         ],
         "yaxis": "y77"
        },
        {
         "hovertemplate": "Row=B<br>Column=6<br>Time=%{x}<br>value=%{y}<extra></extra>",
         "legendgroup": "",
         "line": {
          "color": "#636efa",
          "dash": "solid"
         },
         "marker": {
          "symbol": "circle"
         },
         "mode": "lines",
         "name": "",
         "showlegend": false,
         "type": "scattergl",
         "x": [
          "Time_0",
          "Time_1",
          "Time_2",
          "Time_3",
          "Time_4",
          "Time_5",
          "Time_6",
          "Time_7",
          "Time_8",
          "Time_9",
          "Time_10"
         ],
         "xaxis": "x78",
         "y": [
          25,
          6,
          53,
          7,
          12,
          21,
          13,
          6,
          33,
          55,
          15
         ],
         "yaxis": "y78"
        },
        {
         "hovertemplate": "Row=B<br>Column=7<br>Time=%{x}<br>value=%{y}<extra></extra>",
         "legendgroup": "",
         "line": {
          "color": "#636efa",
          "dash": "solid"
         },
         "marker": {
          "symbol": "circle"
         },
         "mode": "lines",
         "name": "",
         "showlegend": false,
         "type": "scattergl",
         "x": [
          "Time_0",
          "Time_1",
          "Time_2",
          "Time_3",
          "Time_4",
          "Time_5",
          "Time_6",
          "Time_7",
          "Time_8",
          "Time_9",
          "Time_10"
         ],
         "xaxis": "x79",
         "y": [
          25,
          16,
          8,
          8,
          13,
          5,
          17,
          15,
          18,
          11,
          7
         ],
         "yaxis": "y79"
        },
        {
         "hovertemplate": "Row=B<br>Column=8<br>Time=%{x}<br>value=%{y}<extra></extra>",
         "legendgroup": "",
         "line": {
          "color": "#636efa",
          "dash": "solid"
         },
         "marker": {
          "symbol": "circle"
         },
         "mode": "lines",
         "name": "",
         "showlegend": false,
         "type": "scattergl",
         "x": [
          "Time_0",
          "Time_1",
          "Time_2",
          "Time_3",
          "Time_4",
          "Time_5",
          "Time_6",
          "Time_7",
          "Time_8",
          "Time_9",
          "Time_10"
         ],
         "xaxis": "x80",
         "y": [
          25,
          21,
          13,
          22,
          27,
          15,
          20,
          48,
          21,
          31,
          13
         ],
         "yaxis": "y80"
        },
        {
         "hovertemplate": "Row=B<br>Column=9<br>Time=%{x}<br>value=%{y}<extra></extra>",
         "legendgroup": "",
         "line": {
          "color": "#636efa",
          "dash": "solid"
         },
         "marker": {
          "symbol": "circle"
         },
         "mode": "lines",
         "name": "",
         "showlegend": false,
         "type": "scattergl",
         "x": [
          "Time_0",
          "Time_1",
          "Time_2",
          "Time_3",
          "Time_4",
          "Time_5",
          "Time_6",
          "Time_7",
          "Time_8",
          "Time_9",
          "Time_10"
         ],
         "xaxis": "x81",
         "y": [
          25,
          18,
          12,
          11,
          18,
          21,
          15,
          13,
          11,
          20,
          20
         ],
         "yaxis": "y81"
        },
        {
         "hovertemplate": "Row=B<br>Column=10<br>Time=%{x}<br>value=%{y}<extra></extra>",
         "legendgroup": "",
         "line": {
          "color": "#636efa",
          "dash": "solid"
         },
         "marker": {
          "symbol": "circle"
         },
         "mode": "lines",
         "name": "",
         "showlegend": false,
         "type": "scattergl",
         "x": [
          "Time_0",
          "Time_1",
          "Time_2",
          "Time_3",
          "Time_4",
          "Time_5",
          "Time_6",
          "Time_7",
          "Time_8",
          "Time_9",
          "Time_10"
         ],
         "xaxis": "x82",
         "y": [
          75,
          22,
          11,
          10,
          31,
          13,
          15,
          21,
          16,
          16,
          13
         ],
         "yaxis": "y82"
        },
        {
         "hovertemplate": "Row=B<br>Column=11<br>Time=%{x}<br>value=%{y}<extra></extra>",
         "legendgroup": "",
         "line": {
          "color": "#636efa",
          "dash": "solid"
         },
         "marker": {
          "symbol": "circle"
         },
         "mode": "lines",
         "name": "",
         "showlegend": false,
         "type": "scattergl",
         "x": [
          "Time_0",
          "Time_1",
          "Time_2",
          "Time_3",
          "Time_4",
          "Time_5",
          "Time_6",
          "Time_7",
          "Time_8",
          "Time_9",
          "Time_10"
         ],
         "xaxis": "x83",
         "y": [
          25,
          15,
          15,
          20,
          22,
          17,
          23,
          28,
          20,
          11,
          15
         ],
         "yaxis": "y83"
        },
        {
         "hovertemplate": "Row=B<br>Column=12<br>Time=%{x}<br>value=%{y}<extra></extra>",
         "legendgroup": "",
         "line": {
          "color": "#636efa",
          "dash": "solid"
         },
         "marker": {
          "symbol": "circle"
         },
         "mode": "lines",
         "name": "",
         "showlegend": false,
         "type": "scattergl",
         "x": [
          "Time_0",
          "Time_1",
          "Time_2",
          "Time_3",
          "Time_4",
          "Time_5",
          "Time_6",
          "Time_7",
          "Time_8",
          "Time_9",
          "Time_10"
         ],
         "xaxis": "x84",
         "y": [
          100,
          16,
          40,
          72,
          60,
          58,
          32,
          40,
          26,
          38,
          25
         ],
         "yaxis": "y84"
        },
        {
         "hovertemplate": "Row=C<br>Column=1<br>Time=%{x}<br>value=%{y}<extra></extra>",
         "legendgroup": "",
         "line": {
          "color": "#636efa",
          "dash": "solid"
         },
         "marker": {
          "symbol": "circle"
         },
         "mode": "lines",
         "name": "",
         "showlegend": false,
         "type": "scattergl",
         "x": [
          "Time_0",
          "Time_1",
          "Time_2",
          "Time_3",
          "Time_4",
          "Time_5",
          "Time_6",
          "Time_7",
          "Time_8",
          "Time_9",
          "Time_10"
         ],
         "xaxis": "x61",
         "y": [
          25,
          21,
          31,
          3,
          21,
          23,
          7,
          26,
          31,
          13,
          7
         ],
         "yaxis": "y61"
        },
        {
         "hovertemplate": "Row=C<br>Column=2<br>Time=%{x}<br>value=%{y}<extra></extra>",
         "legendgroup": "",
         "line": {
          "color": "#636efa",
          "dash": "solid"
         },
         "marker": {
          "symbol": "circle"
         },
         "mode": "lines",
         "name": "",
         "showlegend": false,
         "type": "scattergl",
         "x": [
          "Time_0",
          "Time_1",
          "Time_2",
          "Time_3",
          "Time_4",
          "Time_5",
          "Time_6",
          "Time_7",
          "Time_8",
          "Time_9",
          "Time_10"
         ],
         "xaxis": "x62",
         "y": [
          125,
          27,
          72,
          56,
          100,
          82,
          78,
          101,
          121,
          107,
          147
         ],
         "yaxis": "y62"
        },
        {
         "hovertemplate": "Row=C<br>Column=3<br>Time=%{x}<br>value=%{y}<extra></extra>",
         "legendgroup": "",
         "line": {
          "color": "#636efa",
          "dash": "solid"
         },
         "marker": {
          "symbol": "circle"
         },
         "mode": "lines",
         "name": "",
         "showlegend": false,
         "type": "scattergl",
         "x": [
          "Time_0",
          "Time_1",
          "Time_2",
          "Time_3",
          "Time_4",
          "Time_5",
          "Time_6",
          "Time_7",
          "Time_8",
          "Time_9",
          "Time_10"
         ],
         "xaxis": "x63",
         "y": [
          25,
          31,
          38,
          18,
          26,
          50,
          28,
          47,
          33,
          27,
          43
         ],
         "yaxis": "y63"
        },
        {
         "hovertemplate": "Row=C<br>Column=4<br>Time=%{x}<br>value=%{y}<extra></extra>",
         "legendgroup": "",
         "line": {
          "color": "#636efa",
          "dash": "solid"
         },
         "marker": {
          "symbol": "circle"
         },
         "mode": "lines",
         "name": "",
         "showlegend": false,
         "type": "scattergl",
         "x": [
          "Time_0",
          "Time_1",
          "Time_2",
          "Time_3",
          "Time_4",
          "Time_5",
          "Time_6",
          "Time_7",
          "Time_8",
          "Time_9",
          "Time_10"
         ],
         "xaxis": "x64",
         "y": [
          100,
          55,
          68,
          112,
          162,
          183,
          151,
          202,
          206,
          208,
          215
         ],
         "yaxis": "y64"
        },
        {
         "hovertemplate": "Row=C<br>Column=5<br>Time=%{x}<br>value=%{y}<extra></extra>",
         "legendgroup": "",
         "line": {
          "color": "#636efa",
          "dash": "solid"
         },
         "marker": {
          "symbol": "circle"
         },
         "mode": "lines",
         "name": "",
         "showlegend": false,
         "type": "scattergl",
         "x": [
          "Time_0",
          "Time_1",
          "Time_2",
          "Time_3",
          "Time_4",
          "Time_5",
          "Time_6",
          "Time_7",
          "Time_8",
          "Time_9",
          "Time_10"
         ],
         "xaxis": "x65",
         "y": [
          25,
          21,
          23,
          13,
          10,
          26,
          11,
          28,
          21,
          16,
          23
         ],
         "yaxis": "y65"
        },
        {
         "hovertemplate": "Row=C<br>Column=6<br>Time=%{x}<br>value=%{y}<extra></extra>",
         "legendgroup": "",
         "line": {
          "color": "#636efa",
          "dash": "solid"
         },
         "marker": {
          "symbol": "circle"
         },
         "mode": "lines",
         "name": "",
         "showlegend": false,
         "type": "scattergl",
         "x": [
          "Time_0",
          "Time_1",
          "Time_2",
          "Time_3",
          "Time_4",
          "Time_5",
          "Time_6",
          "Time_7",
          "Time_8",
          "Time_9",
          "Time_10"
         ],
         "xaxis": "x66",
         "y": [
          25,
          25,
          17,
          16,
          23,
          31,
          32,
          31,
          16,
          41,
          25
         ],
         "yaxis": "y66"
        },
        {
         "hovertemplate": "Row=C<br>Column=7<br>Time=%{x}<br>value=%{y}<extra></extra>",
         "legendgroup": "",
         "line": {
          "color": "#636efa",
          "dash": "solid"
         },
         "marker": {
          "symbol": "circle"
         },
         "mode": "lines",
         "name": "",
         "showlegend": false,
         "type": "scattergl",
         "x": [
          "Time_0",
          "Time_1",
          "Time_2",
          "Time_3",
          "Time_4",
          "Time_5",
          "Time_6",
          "Time_7",
          "Time_8",
          "Time_9",
          "Time_10"
         ],
         "xaxis": "x67",
         "y": [
          50,
          10,
          30,
          15,
          21,
          13,
          26,
          26,
          17,
          11,
          25
         ],
         "yaxis": "y67"
        },
        {
         "hovertemplate": "Row=C<br>Column=8<br>Time=%{x}<br>value=%{y}<extra></extra>",
         "legendgroup": "",
         "line": {
          "color": "#636efa",
          "dash": "solid"
         },
         "marker": {
          "symbol": "circle"
         },
         "mode": "lines",
         "name": "",
         "showlegend": false,
         "type": "scattergl",
         "x": [
          "Time_0",
          "Time_1",
          "Time_2",
          "Time_3",
          "Time_4",
          "Time_5",
          "Time_6",
          "Time_7",
          "Time_8",
          "Time_9",
          "Time_10"
         ],
         "xaxis": "x68",
         "y": [
          25,
          30,
          31,
          15,
          25,
          20,
          20,
          38,
          56,
          6,
          27
         ],
         "yaxis": "y68"
        },
        {
         "hovertemplate": "Row=C<br>Column=9<br>Time=%{x}<br>value=%{y}<extra></extra>",
         "legendgroup": "",
         "line": {
          "color": "#636efa",
          "dash": "solid"
         },
         "marker": {
          "symbol": "circle"
         },
         "mode": "lines",
         "name": "",
         "showlegend": false,
         "type": "scattergl",
         "x": [
          "Time_0",
          "Time_1",
          "Time_2",
          "Time_3",
          "Time_4",
          "Time_5",
          "Time_6",
          "Time_7",
          "Time_8",
          "Time_9",
          "Time_10"
         ],
         "xaxis": "x69",
         "y": [
          75,
          11,
          17,
          22,
          23,
          7,
          8,
          12,
          13,
          15,
          15
         ],
         "yaxis": "y69"
        },
        {
         "hovertemplate": "Row=C<br>Column=10<br>Time=%{x}<br>value=%{y}<extra></extra>",
         "legendgroup": "",
         "line": {
          "color": "#636efa",
          "dash": "solid"
         },
         "marker": {
          "symbol": "circle"
         },
         "mode": "lines",
         "name": "",
         "showlegend": false,
         "type": "scattergl",
         "x": [
          "Time_0",
          "Time_1",
          "Time_2",
          "Time_3",
          "Time_4",
          "Time_5",
          "Time_6",
          "Time_7",
          "Time_8",
          "Time_9",
          "Time_10"
         ],
         "xaxis": "x70",
         "y": [
          25,
          27,
          15,
          25,
          12,
          22,
          26,
          10,
          22,
          30,
          20
         ],
         "yaxis": "y70"
        },
        {
         "hovertemplate": "Row=C<br>Column=11<br>Time=%{x}<br>value=%{y}<extra></extra>",
         "legendgroup": "",
         "line": {
          "color": "#636efa",
          "dash": "solid"
         },
         "marker": {
          "symbol": "circle"
         },
         "mode": "lines",
         "name": "",
         "showlegend": false,
         "type": "scattergl",
         "x": [
          "Time_0",
          "Time_1",
          "Time_2",
          "Time_3",
          "Time_4",
          "Time_5",
          "Time_6",
          "Time_7",
          "Time_8",
          "Time_9",
          "Time_10"
         ],
         "xaxis": "x71",
         "y": [
          25,
          25,
          28,
          31,
          15,
          12,
          22,
          28,
          25,
          15,
          25
         ],
         "yaxis": "y71"
        },
        {
         "hovertemplate": "Row=C<br>Column=12<br>Time=%{x}<br>value=%{y}<extra></extra>",
         "legendgroup": "",
         "line": {
          "color": "#636efa",
          "dash": "solid"
         },
         "marker": {
          "symbol": "circle"
         },
         "mode": "lines",
         "name": "",
         "showlegend": false,
         "type": "scattergl",
         "x": [
          "Time_0",
          "Time_1",
          "Time_2",
          "Time_3",
          "Time_4",
          "Time_5",
          "Time_6",
          "Time_7",
          "Time_8",
          "Time_9",
          "Time_10"
         ],
         "xaxis": "x72",
         "y": [
          25,
          21,
          27,
          47,
          51,
          16,
          40,
          58,
          20,
          37,
          45
         ],
         "yaxis": "y72"
        },
        {
         "hovertemplate": "Row=D<br>Column=1<br>Time=%{x}<br>value=%{y}<extra></extra>",
         "legendgroup": "",
         "line": {
          "color": "#636efa",
          "dash": "solid"
         },
         "marker": {
          "symbol": "circle"
         },
         "mode": "lines",
         "name": "",
         "showlegend": false,
         "type": "scattergl",
         "x": [
          "Time_0",
          "Time_1",
          "Time_2",
          "Time_3",
          "Time_4",
          "Time_5",
          "Time_6",
          "Time_7",
          "Time_8",
          "Time_9",
          "Time_10"
         ],
         "xaxis": "x49",
         "y": [
          25,
          8,
          22,
          7,
          17,
          10,
          16,
          18,
          16,
          18,
          12
         ],
         "yaxis": "y49"
        },
        {
         "hovertemplate": "Row=D<br>Column=2<br>Time=%{x}<br>value=%{y}<extra></extra>",
         "legendgroup": "",
         "line": {
          "color": "#636efa",
          "dash": "solid"
         },
         "marker": {
          "symbol": "circle"
         },
         "mode": "lines",
         "name": "",
         "showlegend": false,
         "type": "scattergl",
         "x": [
          "Time_0",
          "Time_1",
          "Time_2",
          "Time_3",
          "Time_4",
          "Time_5",
          "Time_6",
          "Time_7",
          "Time_8",
          "Time_9",
          "Time_10"
         ],
         "xaxis": "x50",
         "y": [
          100,
          35,
          60,
          90,
          117,
          87,
          132,
          115,
          146,
          103,
          75
         ],
         "yaxis": "y50"
        },
        {
         "hovertemplate": "Row=D<br>Column=3<br>Time=%{x}<br>value=%{y}<extra></extra>",
         "legendgroup": "",
         "line": {
          "color": "#636efa",
          "dash": "solid"
         },
         "marker": {
          "symbol": "circle"
         },
         "mode": "lines",
         "name": "",
         "showlegend": false,
         "type": "scattergl",
         "x": [
          "Time_0",
          "Time_1",
          "Time_2",
          "Time_3",
          "Time_4",
          "Time_5",
          "Time_6",
          "Time_7",
          "Time_8",
          "Time_9",
          "Time_10"
         ],
         "xaxis": "x51",
         "y": [
          75,
          26,
          20,
          7,
          22,
          21,
          12,
          17,
          15,
          20,
          26
         ],
         "yaxis": "y51"
        },
        {
         "hovertemplate": "Row=D<br>Column=4<br>Time=%{x}<br>value=%{y}<extra></extra>",
         "legendgroup": "",
         "line": {
          "color": "#636efa",
          "dash": "solid"
         },
         "marker": {
          "symbol": "circle"
         },
         "mode": "lines",
         "name": "",
         "showlegend": false,
         "type": "scattergl",
         "x": [
          "Time_0",
          "Time_1",
          "Time_2",
          "Time_3",
          "Time_4",
          "Time_5",
          "Time_6",
          "Time_7",
          "Time_8",
          "Time_9",
          "Time_10"
         ],
         "xaxis": "x52",
         "y": [
          150,
          82,
          97,
          98,
          123,
          143,
          148,
          161,
          112,
          138,
          217
         ],
         "yaxis": "y52"
        },
        {
         "hovertemplate": "Row=D<br>Column=5<br>Time=%{x}<br>value=%{y}<extra></extra>",
         "legendgroup": "",
         "line": {
          "color": "#636efa",
          "dash": "solid"
         },
         "marker": {
          "symbol": "circle"
         },
         "mode": "lines",
         "name": "",
         "showlegend": false,
         "type": "scattergl",
         "x": [
          "Time_0",
          "Time_1",
          "Time_2",
          "Time_3",
          "Time_4",
          "Time_5",
          "Time_6",
          "Time_7",
          "Time_8",
          "Time_9",
          "Time_10"
         ],
         "xaxis": "x53",
         "y": [
          25,
          17,
          23,
          22,
          25,
          12,
          12,
          8,
          31,
          13,
          25
         ],
         "yaxis": "y53"
        },
        {
         "hovertemplate": "Row=D<br>Column=6<br>Time=%{x}<br>value=%{y}<extra></extra>",
         "legendgroup": "",
         "line": {
          "color": "#636efa",
          "dash": "solid"
         },
         "marker": {
          "symbol": "circle"
         },
         "mode": "lines",
         "name": "",
         "showlegend": false,
         "type": "scattergl",
         "x": [
          "Time_0",
          "Time_1",
          "Time_2",
          "Time_3",
          "Time_4",
          "Time_5",
          "Time_6",
          "Time_7",
          "Time_8",
          "Time_9",
          "Time_10"
         ],
         "xaxis": "x54",
         "y": [
          25,
          56,
          60,
          26,
          27,
          36,
          16,
          56,
          32,
          28,
          16
         ],
         "yaxis": "y54"
        },
        {
         "hovertemplate": "Row=D<br>Column=7<br>Time=%{x}<br>value=%{y}<extra></extra>",
         "legendgroup": "",
         "line": {
          "color": "#636efa",
          "dash": "solid"
         },
         "marker": {
          "symbol": "circle"
         },
         "mode": "lines",
         "name": "",
         "showlegend": false,
         "type": "scattergl",
         "x": [
          "Time_0",
          "Time_1",
          "Time_2",
          "Time_3",
          "Time_4",
          "Time_5",
          "Time_6",
          "Time_7",
          "Time_8",
          "Time_9",
          "Time_10"
         ],
         "xaxis": "x55",
         "y": [
          25,
          18,
          16,
          11,
          12,
          5,
          21,
          8,
          15,
          5,
          17
         ],
         "yaxis": "y55"
        },
        {
         "hovertemplate": "Row=D<br>Column=8<br>Time=%{x}<br>value=%{y}<extra></extra>",
         "legendgroup": "",
         "line": {
          "color": "#636efa",
          "dash": "solid"
         },
         "marker": {
          "symbol": "circle"
         },
         "mode": "lines",
         "name": "",
         "showlegend": false,
         "type": "scattergl",
         "x": [
          "Time_0",
          "Time_1",
          "Time_2",
          "Time_3",
          "Time_4",
          "Time_5",
          "Time_6",
          "Time_7",
          "Time_8",
          "Time_9",
          "Time_10"
         ],
         "xaxis": "x56",
         "y": [
          25,
          25,
          12,
          18,
          18,
          7,
          18,
          18,
          21,
          25,
          23
         ],
         "yaxis": "y56"
        },
        {
         "hovertemplate": "Row=D<br>Column=9<br>Time=%{x}<br>value=%{y}<extra></extra>",
         "legendgroup": "",
         "line": {
          "color": "#636efa",
          "dash": "solid"
         },
         "marker": {
          "symbol": "circle"
         },
         "mode": "lines",
         "name": "",
         "showlegend": false,
         "type": "scattergl",
         "x": [
          "Time_0",
          "Time_1",
          "Time_2",
          "Time_3",
          "Time_4",
          "Time_5",
          "Time_6",
          "Time_7",
          "Time_8",
          "Time_9",
          "Time_10"
         ],
         "xaxis": "x57",
         "y": [
          75,
          15,
          22,
          31,
          17,
          8,
          18,
          10,
          12,
          63,
          13
         ],
         "yaxis": "y57"
        },
        {
         "hovertemplate": "Row=D<br>Column=10<br>Time=%{x}<br>value=%{y}<extra></extra>",
         "legendgroup": "",
         "line": {
          "color": "#636efa",
          "dash": "solid"
         },
         "marker": {
          "symbol": "circle"
         },
         "mode": "lines",
         "name": "",
         "showlegend": false,
         "type": "scattergl",
         "x": [
          "Time_0",
          "Time_1",
          "Time_2",
          "Time_3",
          "Time_4",
          "Time_5",
          "Time_6",
          "Time_7",
          "Time_8",
          "Time_9",
          "Time_10"
         ],
         "xaxis": "x58",
         "y": [
          50,
          17,
          12,
          7,
          45,
          12,
          10,
          22,
          12,
          22,
          16
         ],
         "yaxis": "y58"
        },
        {
         "hovertemplate": "Row=D<br>Column=11<br>Time=%{x}<br>value=%{y}<extra></extra>",
         "legendgroup": "",
         "line": {
          "color": "#636efa",
          "dash": "solid"
         },
         "marker": {
          "symbol": "circle"
         },
         "mode": "lines",
         "name": "",
         "showlegend": false,
         "type": "scattergl",
         "x": [
          "Time_0",
          "Time_1",
          "Time_2",
          "Time_3",
          "Time_4",
          "Time_5",
          "Time_6",
          "Time_7",
          "Time_8",
          "Time_9",
          "Time_10"
         ],
         "xaxis": "x59",
         "y": [
          25,
          21,
          11,
          25,
          13,
          36,
          33,
          45,
          17,
          5,
          18
         ],
         "yaxis": "y59"
        },
        {
         "hovertemplate": "Row=D<br>Column=12<br>Time=%{x}<br>value=%{y}<extra></extra>",
         "legendgroup": "",
         "line": {
          "color": "#636efa",
          "dash": "solid"
         },
         "marker": {
          "symbol": "circle"
         },
         "mode": "lines",
         "name": "",
         "showlegend": false,
         "type": "scattergl",
         "x": [
          "Time_0",
          "Time_1",
          "Time_2",
          "Time_3",
          "Time_4",
          "Time_5",
          "Time_6",
          "Time_7",
          "Time_8",
          "Time_9",
          "Time_10"
         ],
         "xaxis": "x60",
         "y": [
          25,
          32,
          25,
          31,
          30,
          42,
          48,
          41,
          45,
          33,
          35
         ],
         "yaxis": "y60"
        },
        {
         "hovertemplate": "Row=E<br>Column=1<br>Time=%{x}<br>value=%{y}<extra></extra>",
         "legendgroup": "",
         "line": {
          "color": "#636efa",
          "dash": "solid"
         },
         "marker": {
          "symbol": "circle"
         },
         "mode": "lines",
         "name": "",
         "showlegend": false,
         "type": "scattergl",
         "x": [
          "Time_0",
          "Time_1",
          "Time_2",
          "Time_3",
          "Time_4",
          "Time_5",
          "Time_6",
          "Time_7",
          "Time_8",
          "Time_9",
          "Time_10"
         ],
         "xaxis": "x37",
         "y": [
          25,
          17,
          15,
          38,
          8,
          11,
          15,
          7,
          8,
          16,
          12
         ],
         "yaxis": "y37"
        },
        {
         "hovertemplate": "Row=E<br>Column=2<br>Time=%{x}<br>value=%{y}<extra></extra>",
         "legendgroup": "",
         "line": {
          "color": "#636efa",
          "dash": "solid"
         },
         "marker": {
          "symbol": "circle"
         },
         "mode": "lines",
         "name": "",
         "showlegend": false,
         "type": "scattergl",
         "x": [
          "Time_0",
          "Time_1",
          "Time_2",
          "Time_3",
          "Time_4",
          "Time_5",
          "Time_6",
          "Time_7",
          "Time_8",
          "Time_9",
          "Time_10"
         ],
         "xaxis": "x38",
         "y": [
          25,
          36,
          23,
          25,
          103,
          47,
          40,
          48,
          40,
          36,
          28
         ],
         "yaxis": "y38"
        },
        {
         "hovertemplate": "Row=E<br>Column=3<br>Time=%{x}<br>value=%{y}<extra></extra>",
         "legendgroup": "",
         "line": {
          "color": "#636efa",
          "dash": "solid"
         },
         "marker": {
          "symbol": "circle"
         },
         "mode": "lines",
         "name": "",
         "showlegend": false,
         "type": "scattergl",
         "x": [
          "Time_0",
          "Time_1",
          "Time_2",
          "Time_3",
          "Time_4",
          "Time_5",
          "Time_6",
          "Time_7",
          "Time_8",
          "Time_9",
          "Time_10"
         ],
         "xaxis": "x39",
         "y": [
          25,
          21,
          13,
          10,
          23,
          16,
          20,
          10,
          21,
          21,
          7
         ],
         "yaxis": "y39"
        },
        {
         "hovertemplate": "Row=E<br>Column=4<br>Time=%{x}<br>value=%{y}<extra></extra>",
         "legendgroup": "",
         "line": {
          "color": "#636efa",
          "dash": "solid"
         },
         "marker": {
          "symbol": "circle"
         },
         "mode": "lines",
         "name": "",
         "showlegend": false,
         "type": "scattergl",
         "x": [
          "Time_0",
          "Time_1",
          "Time_2",
          "Time_3",
          "Time_4",
          "Time_5",
          "Time_6",
          "Time_7",
          "Time_8",
          "Time_9",
          "Time_10"
         ],
         "xaxis": "x40",
         "y": [
          25,
          103,
          51,
          72,
          85,
          117,
          182,
          152,
          127,
          150,
          108
         ],
         "yaxis": "y40"
        },
        {
         "hovertemplate": "Row=E<br>Column=5<br>Time=%{x}<br>value=%{y}<extra></extra>",
         "legendgroup": "",
         "line": {
          "color": "#636efa",
          "dash": "solid"
         },
         "marker": {
          "symbol": "circle"
         },
         "mode": "lines",
         "name": "",
         "showlegend": false,
         "type": "scattergl",
         "x": [
          "Time_0",
          "Time_1",
          "Time_2",
          "Time_3",
          "Time_4",
          "Time_5",
          "Time_6",
          "Time_7",
          "Time_8",
          "Time_9",
          "Time_10"
         ],
         "xaxis": "x41",
         "y": [
          100,
          21,
          32,
          6,
          15,
          31,
          32,
          21,
          10,
          13,
          13
         ],
         "yaxis": "y41"
        },
        {
         "hovertemplate": "Row=E<br>Column=6<br>Time=%{x}<br>value=%{y}<extra></extra>",
         "legendgroup": "",
         "line": {
          "color": "#636efa",
          "dash": "solid"
         },
         "marker": {
          "symbol": "circle"
         },
         "mode": "lines",
         "name": "",
         "showlegend": false,
         "type": "scattergl",
         "x": [
          "Time_0",
          "Time_1",
          "Time_2",
          "Time_3",
          "Time_4",
          "Time_5",
          "Time_6",
          "Time_7",
          "Time_8",
          "Time_9",
          "Time_10"
         ],
         "xaxis": "x42",
         "y": [
          25,
          21,
          11,
          20,
          11,
          10,
          28,
          26,
          13,
          13,
          10
         ],
         "yaxis": "y42"
        },
        {
         "hovertemplate": "Row=E<br>Column=7<br>Time=%{x}<br>value=%{y}<extra></extra>",
         "legendgroup": "",
         "line": {
          "color": "#636efa",
          "dash": "solid"
         },
         "marker": {
          "symbol": "circle"
         },
         "mode": "lines",
         "name": "",
         "showlegend": false,
         "type": "scattergl",
         "x": [
          "Time_0",
          "Time_1",
          "Time_2",
          "Time_3",
          "Time_4",
          "Time_5",
          "Time_6",
          "Time_7",
          "Time_8",
          "Time_9",
          "Time_10"
         ],
         "xaxis": "x43",
         "y": [
          25,
          23,
          26,
          10,
          16,
          17,
          18,
          28,
          22,
          33,
          8
         ],
         "yaxis": "y43"
        },
        {
         "hovertemplate": "Row=E<br>Column=8<br>Time=%{x}<br>value=%{y}<extra></extra>",
         "legendgroup": "",
         "line": {
          "color": "#636efa",
          "dash": "solid"
         },
         "marker": {
          "symbol": "circle"
         },
         "mode": "lines",
         "name": "",
         "showlegend": false,
         "type": "scattergl",
         "x": [
          "Time_0",
          "Time_1",
          "Time_2",
          "Time_3",
          "Time_4",
          "Time_5",
          "Time_6",
          "Time_7",
          "Time_8",
          "Time_9",
          "Time_10"
         ],
         "xaxis": "x44",
         "y": [
          25,
          26,
          30,
          45,
          22,
          22,
          7,
          22,
          23,
          15,
          21
         ],
         "yaxis": "y44"
        },
        {
         "hovertemplate": "Row=E<br>Column=9<br>Time=%{x}<br>value=%{y}<extra></extra>",
         "legendgroup": "",
         "line": {
          "color": "#636efa",
          "dash": "solid"
         },
         "marker": {
          "symbol": "circle"
         },
         "mode": "lines",
         "name": "",
         "showlegend": false,
         "type": "scattergl",
         "x": [
          "Time_0",
          "Time_1",
          "Time_2",
          "Time_3",
          "Time_4",
          "Time_5",
          "Time_6",
          "Time_7",
          "Time_8",
          "Time_9",
          "Time_10"
         ],
         "xaxis": "x45",
         "y": [
          25,
          13,
          18,
          16,
          28,
          21,
          7,
          22,
          7,
          11,
          22
         ],
         "yaxis": "y45"
        },
        {
         "hovertemplate": "Row=E<br>Column=10<br>Time=%{x}<br>value=%{y}<extra></extra>",
         "legendgroup": "",
         "line": {
          "color": "#636efa",
          "dash": "solid"
         },
         "marker": {
          "symbol": "circle"
         },
         "mode": "lines",
         "name": "",
         "showlegend": false,
         "type": "scattergl",
         "x": [
          "Time_0",
          "Time_1",
          "Time_2",
          "Time_3",
          "Time_4",
          "Time_5",
          "Time_6",
          "Time_7",
          "Time_8",
          "Time_9",
          "Time_10"
         ],
         "xaxis": "x46",
         "y": [
          100,
          25,
          16,
          7,
          15,
          10,
          7,
          6,
          12,
          22,
          31
         ],
         "yaxis": "y46"
        },
        {
         "hovertemplate": "Row=E<br>Column=11<br>Time=%{x}<br>value=%{y}<extra></extra>",
         "legendgroup": "",
         "line": {
          "color": "#636efa",
          "dash": "solid"
         },
         "marker": {
          "symbol": "circle"
         },
         "mode": "lines",
         "name": "",
         "showlegend": false,
         "type": "scattergl",
         "x": [
          "Time_0",
          "Time_1",
          "Time_2",
          "Time_3",
          "Time_4",
          "Time_5",
          "Time_6",
          "Time_7",
          "Time_8",
          "Time_9",
          "Time_10"
         ],
         "xaxis": "x47",
         "y": [
          75,
          21,
          25,
          28,
          41,
          33,
          28,
          33,
          27,
          7,
          47
         ],
         "yaxis": "y47"
        },
        {
         "hovertemplate": "Row=E<br>Column=12<br>Time=%{x}<br>value=%{y}<extra></extra>",
         "legendgroup": "",
         "line": {
          "color": "#636efa",
          "dash": "solid"
         },
         "marker": {
          "symbol": "circle"
         },
         "mode": "lines",
         "name": "",
         "showlegend": false,
         "type": "scattergl",
         "x": [
          "Time_0",
          "Time_1",
          "Time_2",
          "Time_3",
          "Time_4",
          "Time_5",
          "Time_6",
          "Time_7",
          "Time_8",
          "Time_9",
          "Time_10"
         ],
         "xaxis": "x48",
         "y": [
          50,
          21,
          20,
          21,
          25,
          16,
          28,
          6,
          12,
          16,
          18
         ],
         "yaxis": "y48"
        },
        {
         "hovertemplate": "Row=F<br>Column=1<br>Time=%{x}<br>value=%{y}<extra></extra>",
         "legendgroup": "",
         "line": {
          "color": "#636efa",
          "dash": "solid"
         },
         "marker": {
          "symbol": "circle"
         },
         "mode": "lines",
         "name": "",
         "showlegend": false,
         "type": "scattergl",
         "x": [
          "Time_0",
          "Time_1",
          "Time_2",
          "Time_3",
          "Time_4",
          "Time_5",
          "Time_6",
          "Time_7",
          "Time_8",
          "Time_9",
          "Time_10"
         ],
         "xaxis": "x25",
         "y": [
          25,
          31,
          11,
          15,
          20,
          11,
          21,
          32,
          10,
          17,
          25
         ],
         "yaxis": "y25"
        },
        {
         "hovertemplate": "Row=F<br>Column=2<br>Time=%{x}<br>value=%{y}<extra></extra>",
         "legendgroup": "",
         "line": {
          "color": "#636efa",
          "dash": "solid"
         },
         "marker": {
          "symbol": "circle"
         },
         "mode": "lines",
         "name": "",
         "showlegend": false,
         "type": "scattergl",
         "x": [
          "Time_0",
          "Time_1",
          "Time_2",
          "Time_3",
          "Time_4",
          "Time_5",
          "Time_6",
          "Time_7",
          "Time_8",
          "Time_9",
          "Time_10"
         ],
         "xaxis": "x26",
         "y": [
          25,
          67,
          48,
          46,
          158,
          62,
          86,
          97,
          93,
          111,
          73
         ],
         "yaxis": "y26"
        },
        {
         "hovertemplate": "Row=F<br>Column=3<br>Time=%{x}<br>value=%{y}<extra></extra>",
         "legendgroup": "",
         "line": {
          "color": "#636efa",
          "dash": "solid"
         },
         "marker": {
          "symbol": "circle"
         },
         "mode": "lines",
         "name": "",
         "showlegend": false,
         "type": "scattergl",
         "x": [
          "Time_0",
          "Time_1",
          "Time_2",
          "Time_3",
          "Time_4",
          "Time_5",
          "Time_6",
          "Time_7",
          "Time_8",
          "Time_9",
          "Time_10"
         ],
         "xaxis": "x27",
         "y": [
          125,
          17,
          27,
          13,
          13,
          20,
          10,
          15,
          36,
          12,
          37
         ],
         "yaxis": "y27"
        },
        {
         "hovertemplate": "Row=F<br>Column=4<br>Time=%{x}<br>value=%{y}<extra></extra>",
         "legendgroup": "",
         "line": {
          "color": "#636efa",
          "dash": "solid"
         },
         "marker": {
          "symbol": "circle"
         },
         "mode": "lines",
         "name": "",
         "showlegend": false,
         "type": "scattergl",
         "x": [
          "Time_0",
          "Time_1",
          "Time_2",
          "Time_3",
          "Time_4",
          "Time_5",
          "Time_6",
          "Time_7",
          "Time_8",
          "Time_9",
          "Time_10"
         ],
         "xaxis": "x28",
         "y": [
          25,
          41,
          46,
          77,
          66,
          87,
          107,
          118,
          95,
          118,
          90
         ],
         "yaxis": "y28"
        },
        {
         "hovertemplate": "Row=F<br>Column=5<br>Time=%{x}<br>value=%{y}<extra></extra>",
         "legendgroup": "",
         "line": {
          "color": "#636efa",
          "dash": "solid"
         },
         "marker": {
          "symbol": "circle"
         },
         "mode": "lines",
         "name": "",
         "showlegend": false,
         "type": "scattergl",
         "x": [
          "Time_0",
          "Time_1",
          "Time_2",
          "Time_3",
          "Time_4",
          "Time_5",
          "Time_6",
          "Time_7",
          "Time_8",
          "Time_9",
          "Time_10"
         ],
         "xaxis": "x29",
         "y": [
          25,
          17,
          5,
          13,
          13,
          17,
          18,
          6,
          23,
          6,
          11
         ],
         "yaxis": "y29"
        },
        {
         "hovertemplate": "Row=F<br>Column=6<br>Time=%{x}<br>value=%{y}<extra></extra>",
         "legendgroup": "",
         "line": {
          "color": "#636efa",
          "dash": "solid"
         },
         "marker": {
          "symbol": "circle"
         },
         "mode": "lines",
         "name": "",
         "showlegend": false,
         "type": "scattergl",
         "x": [
          "Time_0",
          "Time_1",
          "Time_2",
          "Time_3",
          "Time_4",
          "Time_5",
          "Time_6",
          "Time_7",
          "Time_8",
          "Time_9",
          "Time_10"
         ],
         "xaxis": "x30",
         "y": [
          25,
          12,
          46,
          31,
          23,
          13,
          33,
          23,
          8,
          23,
          13
         ],
         "yaxis": "y30"
        },
        {
         "hovertemplate": "Row=F<br>Column=7<br>Time=%{x}<br>value=%{y}<extra></extra>",
         "legendgroup": "",
         "line": {
          "color": "#636efa",
          "dash": "solid"
         },
         "marker": {
          "symbol": "circle"
         },
         "mode": "lines",
         "name": "",
         "showlegend": false,
         "type": "scattergl",
         "x": [
          "Time_0",
          "Time_1",
          "Time_2",
          "Time_3",
          "Time_4",
          "Time_5",
          "Time_6",
          "Time_7",
          "Time_8",
          "Time_9",
          "Time_10"
         ],
         "xaxis": "x31",
         "y": [
          25,
          18,
          25,
          12,
          17,
          20,
          28,
          36,
          13,
          25,
          18
         ],
         "yaxis": "y31"
        },
        {
         "hovertemplate": "Row=F<br>Column=8<br>Time=%{x}<br>value=%{y}<extra></extra>",
         "legendgroup": "",
         "line": {
          "color": "#636efa",
          "dash": "solid"
         },
         "marker": {
          "symbol": "circle"
         },
         "mode": "lines",
         "name": "",
         "showlegend": false,
         "type": "scattergl",
         "x": [
          "Time_0",
          "Time_1",
          "Time_2",
          "Time_3",
          "Time_4",
          "Time_5",
          "Time_6",
          "Time_7",
          "Time_8",
          "Time_9",
          "Time_10"
         ],
         "xaxis": "x32",
         "y": [
          25,
          18,
          28,
          22,
          33,
          17,
          21,
          25,
          21,
          27,
          25
         ],
         "yaxis": "y32"
        },
        {
         "hovertemplate": "Row=F<br>Column=9<br>Time=%{x}<br>value=%{y}<extra></extra>",
         "legendgroup": "",
         "line": {
          "color": "#636efa",
          "dash": "solid"
         },
         "marker": {
          "symbol": "circle"
         },
         "mode": "lines",
         "name": "",
         "showlegend": false,
         "type": "scattergl",
         "x": [
          "Time_0",
          "Time_1",
          "Time_2",
          "Time_3",
          "Time_4",
          "Time_5",
          "Time_6",
          "Time_7",
          "Time_8",
          "Time_9",
          "Time_10"
         ],
         "xaxis": "x33",
         "y": [
          25,
          21,
          8,
          26,
          23,
          22,
          25,
          17,
          11,
          13,
          17
         ],
         "yaxis": "y33"
        },
        {
         "hovertemplate": "Row=F<br>Column=10<br>Time=%{x}<br>value=%{y}<extra></extra>",
         "legendgroup": "",
         "line": {
          "color": "#636efa",
          "dash": "solid"
         },
         "marker": {
          "symbol": "circle"
         },
         "mode": "lines",
         "name": "",
         "showlegend": false,
         "type": "scattergl",
         "x": [
          "Time_0",
          "Time_1",
          "Time_2",
          "Time_3",
          "Time_4",
          "Time_5",
          "Time_6",
          "Time_7",
          "Time_8",
          "Time_9",
          "Time_10"
         ],
         "xaxis": "x34",
         "y": [
          25,
          48,
          10,
          20,
          10,
          13,
          18,
          20,
          8,
          17,
          38
         ],
         "yaxis": "y34"
        },
        {
         "hovertemplate": "Row=F<br>Column=11<br>Time=%{x}<br>value=%{y}<extra></extra>",
         "legendgroup": "",
         "line": {
          "color": "#636efa",
          "dash": "solid"
         },
         "marker": {
          "symbol": "circle"
         },
         "mode": "lines",
         "name": "",
         "showlegend": false,
         "type": "scattergl",
         "x": [
          "Time_0",
          "Time_1",
          "Time_2",
          "Time_3",
          "Time_4",
          "Time_5",
          "Time_6",
          "Time_7",
          "Time_8",
          "Time_9",
          "Time_10"
         ],
         "xaxis": "x35",
         "y": [
          25,
          13,
          11,
          26,
          16,
          20,
          23,
          20,
          48,
          12,
          23
         ],
         "yaxis": "y35"
        },
        {
         "hovertemplate": "Row=F<br>Column=12<br>Time=%{x}<br>value=%{y}<extra></extra>",
         "legendgroup": "",
         "line": {
          "color": "#636efa",
          "dash": "solid"
         },
         "marker": {
          "symbol": "circle"
         },
         "mode": "lines",
         "name": "",
         "showlegend": false,
         "type": "scattergl",
         "x": [
          "Time_0",
          "Time_1",
          "Time_2",
          "Time_3",
          "Time_4",
          "Time_5",
          "Time_6",
          "Time_7",
          "Time_8",
          "Time_9",
          "Time_10"
         ],
         "xaxis": "x36",
         "y": [
          25,
          16,
          35,
          30,
          18,
          40,
          26,
          30,
          51,
          45,
          27
         ],
         "yaxis": "y36"
        },
        {
         "hovertemplate": "Row=G<br>Column=1<br>Time=%{x}<br>value=%{y}<extra></extra>",
         "legendgroup": "",
         "line": {
          "color": "#636efa",
          "dash": "solid"
         },
         "marker": {
          "symbol": "circle"
         },
         "mode": "lines",
         "name": "",
         "showlegend": false,
         "type": "scattergl",
         "x": [
          "Time_0",
          "Time_1",
          "Time_2",
          "Time_3",
          "Time_4",
          "Time_5",
          "Time_6",
          "Time_7",
          "Time_8",
          "Time_9",
          "Time_10"
         ],
         "xaxis": "x13",
         "y": [
          25,
          17,
          16,
          18,
          6,
          28,
          12,
          16,
          13,
          8,
          21
         ],
         "yaxis": "y13"
        },
        {
         "hovertemplate": "Row=G<br>Column=2<br>Time=%{x}<br>value=%{y}<extra></extra>",
         "legendgroup": "",
         "line": {
          "color": "#636efa",
          "dash": "solid"
         },
         "marker": {
          "symbol": "circle"
         },
         "mode": "lines",
         "name": "",
         "showlegend": false,
         "type": "scattergl",
         "x": [
          "Time_0",
          "Time_1",
          "Time_2",
          "Time_3",
          "Time_4",
          "Time_5",
          "Time_6",
          "Time_7",
          "Time_8",
          "Time_9",
          "Time_10"
         ],
         "xaxis": "x14",
         "y": [
          25,
          35,
          37,
          37,
          53,
          28,
          32,
          50,
          37,
          36,
          30
         ],
         "yaxis": "y14"
        },
        {
         "hovertemplate": "Row=G<br>Column=3<br>Time=%{x}<br>value=%{y}<extra></extra>",
         "legendgroup": "",
         "line": {
          "color": "#636efa",
          "dash": "solid"
         },
         "marker": {
          "symbol": "circle"
         },
         "mode": "lines",
         "name": "",
         "showlegend": false,
         "type": "scattergl",
         "x": [
          "Time_0",
          "Time_1",
          "Time_2",
          "Time_3",
          "Time_4",
          "Time_5",
          "Time_6",
          "Time_7",
          "Time_8",
          "Time_9",
          "Time_10"
         ],
         "xaxis": "x15",
         "y": [
          25,
          26,
          15,
          22,
          18,
          11,
          8,
          17,
          12,
          20,
          10
         ],
         "yaxis": "y15"
        },
        {
         "hovertemplate": "Row=G<br>Column=4<br>Time=%{x}<br>value=%{y}<extra></extra>",
         "legendgroup": "",
         "line": {
          "color": "#636efa",
          "dash": "solid"
         },
         "marker": {
          "symbol": "circle"
         },
         "mode": "lines",
         "name": "",
         "showlegend": false,
         "type": "scattergl",
         "x": [
          "Time_0",
          "Time_1",
          "Time_2",
          "Time_3",
          "Time_4",
          "Time_5",
          "Time_6",
          "Time_7",
          "Time_8",
          "Time_9",
          "Time_10"
         ],
         "xaxis": "x16",
         "y": [
          25,
          65,
          67,
          62,
          52,
          37,
          28,
          36,
          37,
          60,
          35
         ],
         "yaxis": "y16"
        },
        {
         "hovertemplate": "Row=G<br>Column=5<br>Time=%{x}<br>value=%{y}<extra></extra>",
         "legendgroup": "",
         "line": {
          "color": "#636efa",
          "dash": "solid"
         },
         "marker": {
          "symbol": "circle"
         },
         "mode": "lines",
         "name": "",
         "showlegend": false,
         "type": "scattergl",
         "x": [
          "Time_0",
          "Time_1",
          "Time_2",
          "Time_3",
          "Time_4",
          "Time_5",
          "Time_6",
          "Time_7",
          "Time_8",
          "Time_9",
          "Time_10"
         ],
         "xaxis": "x17",
         "y": [
          25,
          28,
          13,
          11,
          36,
          10,
          11,
          17,
          23,
          18,
          15
         ],
         "yaxis": "y17"
        },
        {
         "hovertemplate": "Row=G<br>Column=6<br>Time=%{x}<br>value=%{y}<extra></extra>",
         "legendgroup": "",
         "line": {
          "color": "#636efa",
          "dash": "solid"
         },
         "marker": {
          "symbol": "circle"
         },
         "mode": "lines",
         "name": "",
         "showlegend": false,
         "type": "scattergl",
         "x": [
          "Time_0",
          "Time_1",
          "Time_2",
          "Time_3",
          "Time_4",
          "Time_5",
          "Time_6",
          "Time_7",
          "Time_8",
          "Time_9",
          "Time_10"
         ],
         "xaxis": "x18",
         "y": [
          100,
          42,
          22,
          13,
          10,
          11,
          25,
          33,
          20,
          13,
          26
         ],
         "yaxis": "y18"
        },
        {
         "hovertemplate": "Row=G<br>Column=7<br>Time=%{x}<br>value=%{y}<extra></extra>",
         "legendgroup": "",
         "line": {
          "color": "#636efa",
          "dash": "solid"
         },
         "marker": {
          "symbol": "circle"
         },
         "mode": "lines",
         "name": "",
         "showlegend": false,
         "type": "scattergl",
         "x": [
          "Time_0",
          "Time_1",
          "Time_2",
          "Time_3",
          "Time_4",
          "Time_5",
          "Time_6",
          "Time_7",
          "Time_8",
          "Time_9",
          "Time_10"
         ],
         "xaxis": "x19",
         "y": [
          50,
          6,
          18,
          18,
          6,
          13,
          21,
          8,
          26,
          17,
          6
         ],
         "yaxis": "y19"
        },
        {
         "hovertemplate": "Row=G<br>Column=8<br>Time=%{x}<br>value=%{y}<extra></extra>",
         "legendgroup": "",
         "line": {
          "color": "#636efa",
          "dash": "solid"
         },
         "marker": {
          "symbol": "circle"
         },
         "mode": "lines",
         "name": "",
         "showlegend": false,
         "type": "scattergl",
         "x": [
          "Time_0",
          "Time_1",
          "Time_2",
          "Time_3",
          "Time_4",
          "Time_5",
          "Time_6",
          "Time_7",
          "Time_8",
          "Time_9",
          "Time_10"
         ],
         "xaxis": "x20",
         "y": [
          100,
          18,
          25,
          3,
          42,
          22,
          8,
          26,
          13,
          22,
          16
         ],
         "yaxis": "y20"
        },
        {
         "hovertemplate": "Row=G<br>Column=9<br>Time=%{x}<br>value=%{y}<extra></extra>",
         "legendgroup": "",
         "line": {
          "color": "#636efa",
          "dash": "solid"
         },
         "marker": {
          "symbol": "circle"
         },
         "mode": "lines",
         "name": "",
         "showlegend": false,
         "type": "scattergl",
         "x": [
          "Time_0",
          "Time_1",
          "Time_2",
          "Time_3",
          "Time_4",
          "Time_5",
          "Time_6",
          "Time_7",
          "Time_8",
          "Time_9",
          "Time_10"
         ],
         "xaxis": "x21",
         "y": [
          25,
          3,
          18,
          22,
          21,
          12,
          11,
          17,
          13,
          16,
          15
         ],
         "yaxis": "y21"
        },
        {
         "hovertemplate": "Row=G<br>Column=10<br>Time=%{x}<br>value=%{y}<extra></extra>",
         "legendgroup": "",
         "line": {
          "color": "#636efa",
          "dash": "solid"
         },
         "marker": {
          "symbol": "circle"
         },
         "mode": "lines",
         "name": "",
         "showlegend": false,
         "type": "scattergl",
         "x": [
          "Time_0",
          "Time_1",
          "Time_2",
          "Time_3",
          "Time_4",
          "Time_5",
          "Time_6",
          "Time_7",
          "Time_8",
          "Time_9",
          "Time_10"
         ],
         "xaxis": "x22",
         "y": [
          50,
          20,
          18,
          15,
          16,
          6,
          21,
          6,
          16,
          25,
          17
         ],
         "yaxis": "y22"
        },
        {
         "hovertemplate": "Row=G<br>Column=11<br>Time=%{x}<br>value=%{y}<extra></extra>",
         "legendgroup": "",
         "line": {
          "color": "#636efa",
          "dash": "solid"
         },
         "marker": {
          "symbol": "circle"
         },
         "mode": "lines",
         "name": "",
         "showlegend": false,
         "type": "scattergl",
         "x": [
          "Time_0",
          "Time_1",
          "Time_2",
          "Time_3",
          "Time_4",
          "Time_5",
          "Time_6",
          "Time_7",
          "Time_8",
          "Time_9",
          "Time_10"
         ],
         "xaxis": "x23",
         "y": [
          25,
          17,
          15,
          11,
          16,
          11,
          48,
          23,
          12,
          21,
          23
         ],
         "yaxis": "y23"
        },
        {
         "hovertemplate": "Row=G<br>Column=12<br>Time=%{x}<br>value=%{y}<extra></extra>",
         "legendgroup": "",
         "line": {
          "color": "#636efa",
          "dash": "solid"
         },
         "marker": {
          "symbol": "circle"
         },
         "mode": "lines",
         "name": "",
         "showlegend": false,
         "type": "scattergl",
         "x": [
          "Time_0",
          "Time_1",
          "Time_2",
          "Time_3",
          "Time_4",
          "Time_5",
          "Time_6",
          "Time_7",
          "Time_8",
          "Time_9",
          "Time_10"
         ],
         "xaxis": "x24",
         "y": [
          25,
          31,
          30,
          13,
          21,
          35,
          32,
          10,
          18,
          17,
          31
         ],
         "yaxis": "y24"
        },
        {
         "hovertemplate": "Row=H<br>Column=1<br>Time=%{x}<br>value=%{y}<extra></extra>",
         "legendgroup": "",
         "line": {
          "color": "#636efa",
          "dash": "solid"
         },
         "marker": {
          "symbol": "circle"
         },
         "mode": "lines",
         "name": "",
         "showlegend": false,
         "type": "scattergl",
         "x": [
          "Time_0",
          "Time_1",
          "Time_2",
          "Time_3",
          "Time_4",
          "Time_5",
          "Time_6",
          "Time_7",
          "Time_8",
          "Time_9",
          "Time_10"
         ],
         "xaxis": "x",
         "y": [
          25,
          12,
          13,
          20,
          10,
          13,
          15,
          23,
          17,
          16,
          16
         ],
         "yaxis": "y"
        },
        {
         "hovertemplate": "Row=H<br>Column=2<br>Time=%{x}<br>value=%{y}<extra></extra>",
         "legendgroup": "",
         "line": {
          "color": "#636efa",
          "dash": "solid"
         },
         "marker": {
          "symbol": "circle"
         },
         "mode": "lines",
         "name": "",
         "showlegend": false,
         "type": "scattergl",
         "x": [
          "Time_0",
          "Time_1",
          "Time_2",
          "Time_3",
          "Time_4",
          "Time_5",
          "Time_6",
          "Time_7",
          "Time_8",
          "Time_9",
          "Time_10"
         ],
         "xaxis": "x2",
         "y": [
          25,
          21,
          30,
          35,
          51,
          36,
          32,
          17,
          21,
          28,
          27
         ],
         "yaxis": "y2"
        },
        {
         "hovertemplate": "Row=H<br>Column=3<br>Time=%{x}<br>value=%{y}<extra></extra>",
         "legendgroup": "",
         "line": {
          "color": "#636efa",
          "dash": "solid"
         },
         "marker": {
          "symbol": "circle"
         },
         "mode": "lines",
         "name": "",
         "showlegend": false,
         "type": "scattergl",
         "x": [
          "Time_0",
          "Time_1",
          "Time_2",
          "Time_3",
          "Time_4",
          "Time_5",
          "Time_6",
          "Time_7",
          "Time_8",
          "Time_9",
          "Time_10"
         ],
         "xaxis": "x3",
         "y": [
          25,
          16,
          26,
          21,
          15,
          18,
          26,
          18,
          23,
          17,
          26
         ],
         "yaxis": "y3"
        },
        {
         "hovertemplate": "Row=H<br>Column=4<br>Time=%{x}<br>value=%{y}<extra></extra>",
         "legendgroup": "",
         "line": {
          "color": "#636efa",
          "dash": "solid"
         },
         "marker": {
          "symbol": "circle"
         },
         "mode": "lines",
         "name": "",
         "showlegend": false,
         "type": "scattergl",
         "x": [
          "Time_0",
          "Time_1",
          "Time_2",
          "Time_3",
          "Time_4",
          "Time_5",
          "Time_6",
          "Time_7",
          "Time_8",
          "Time_9",
          "Time_10"
         ],
         "xaxis": "x4",
         "y": [
          25,
          62,
          57,
          75,
          75,
          37,
          60,
          60,
          73,
          46,
          57
         ],
         "yaxis": "y4"
        },
        {
         "hovertemplate": "Row=H<br>Column=5<br>Time=%{x}<br>value=%{y}<extra></extra>",
         "legendgroup": "",
         "line": {
          "color": "#636efa",
          "dash": "solid"
         },
         "marker": {
          "symbol": "circle"
         },
         "mode": "lines",
         "name": "",
         "showlegend": false,
         "type": "scattergl",
         "x": [
          "Time_0",
          "Time_1",
          "Time_2",
          "Time_3",
          "Time_4",
          "Time_5",
          "Time_6",
          "Time_7",
          "Time_8",
          "Time_9",
          "Time_10"
         ],
         "xaxis": "x5",
         "y": [
          25,
          13,
          17,
          11,
          23,
          11,
          12,
          22,
          23,
          8,
          16
         ],
         "yaxis": "y5"
        },
        {
         "hovertemplate": "Row=H<br>Column=6<br>Time=%{x}<br>value=%{y}<extra></extra>",
         "legendgroup": "",
         "line": {
          "color": "#636efa",
          "dash": "solid"
         },
         "marker": {
          "symbol": "circle"
         },
         "mode": "lines",
         "name": "",
         "showlegend": false,
         "type": "scattergl",
         "x": [
          "Time_0",
          "Time_1",
          "Time_2",
          "Time_3",
          "Time_4",
          "Time_5",
          "Time_6",
          "Time_7",
          "Time_8",
          "Time_9",
          "Time_10"
         ],
         "xaxis": "x6",
         "y": [
          25,
          15,
          6,
          8,
          26,
          6,
          31,
          18,
          12,
          6,
          13
         ],
         "yaxis": "y6"
        },
        {
         "hovertemplate": "Row=H<br>Column=7<br>Time=%{x}<br>value=%{y}<extra></extra>",
         "legendgroup": "",
         "line": {
          "color": "#636efa",
          "dash": "solid"
         },
         "marker": {
          "symbol": "circle"
         },
         "mode": "lines",
         "name": "",
         "showlegend": false,
         "type": "scattergl",
         "x": [
          "Time_0",
          "Time_1",
          "Time_2",
          "Time_3",
          "Time_4",
          "Time_5",
          "Time_6",
          "Time_7",
          "Time_8",
          "Time_9",
          "Time_10"
         ],
         "xaxis": "x7",
         "y": [
          25,
          8,
          13,
          15,
          18,
          12,
          21,
          13,
          25,
          31,
          23
         ],
         "yaxis": "y7"
        },
        {
         "hovertemplate": "Row=H<br>Column=8<br>Time=%{x}<br>value=%{y}<extra></extra>",
         "legendgroup": "",
         "line": {
          "color": "#636efa",
          "dash": "solid"
         },
         "marker": {
          "symbol": "circle"
         },
         "mode": "lines",
         "name": "",
         "showlegend": false,
         "type": "scattergl",
         "x": [
          "Time_0",
          "Time_1",
          "Time_2",
          "Time_3",
          "Time_4",
          "Time_5",
          "Time_6",
          "Time_7",
          "Time_8",
          "Time_9",
          "Time_10"
         ],
         "xaxis": "x8",
         "y": [
          25,
          20,
          23,
          17,
          18,
          21,
          31,
          26,
          28,
          18,
          88
         ],
         "yaxis": "y8"
        },
        {
         "hovertemplate": "Row=H<br>Column=9<br>Time=%{x}<br>value=%{y}<extra></extra>",
         "legendgroup": "",
         "line": {
          "color": "#636efa",
          "dash": "solid"
         },
         "marker": {
          "symbol": "circle"
         },
         "mode": "lines",
         "name": "",
         "showlegend": false,
         "type": "scattergl",
         "x": [
          "Time_0",
          "Time_1",
          "Time_2",
          "Time_3",
          "Time_4",
          "Time_5",
          "Time_6",
          "Time_7",
          "Time_8",
          "Time_9",
          "Time_10"
         ],
         "xaxis": "x9",
         "y": [
          25,
          36,
          22,
          17,
          15,
          17,
          62,
          23,
          11,
          25,
          7
         ],
         "yaxis": "y9"
        },
        {
         "hovertemplate": "Row=H<br>Column=10<br>Time=%{x}<br>value=%{y}<extra></extra>",
         "legendgroup": "",
         "line": {
          "color": "#636efa",
          "dash": "solid"
         },
         "marker": {
          "symbol": "circle"
         },
         "mode": "lines",
         "name": "",
         "showlegend": false,
         "type": "scattergl",
         "x": [
          "Time_0",
          "Time_1",
          "Time_2",
          "Time_3",
          "Time_4",
          "Time_5",
          "Time_6",
          "Time_7",
          "Time_8",
          "Time_9",
          "Time_10"
         ],
         "xaxis": "x10",
         "y": [
          75,
          23,
          22,
          17,
          12,
          28,
          30,
          15,
          13,
          65,
          7
         ],
         "yaxis": "y10"
        },
        {
         "hovertemplate": "Row=H<br>Column=11<br>Time=%{x}<br>value=%{y}<extra></extra>",
         "legendgroup": "",
         "line": {
          "color": "#636efa",
          "dash": "solid"
         },
         "marker": {
          "symbol": "circle"
         },
         "mode": "lines",
         "name": "",
         "showlegend": false,
         "type": "scattergl",
         "x": [
          "Time_0",
          "Time_1",
          "Time_2",
          "Time_3",
          "Time_4",
          "Time_5",
          "Time_6",
          "Time_7",
          "Time_8",
          "Time_9",
          "Time_10"
         ],
         "xaxis": "x11",
         "y": [
          25,
          10,
          25,
          57,
          32,
          25,
          26,
          16,
          21,
          11,
          18
         ],
         "yaxis": "y11"
        },
        {
         "hovertemplate": "Row=H<br>Column=12<br>Time=%{x}<br>value=%{y}<extra></extra>",
         "legendgroup": "",
         "line": {
          "color": "#636efa",
          "dash": "solid"
         },
         "marker": {
          "symbol": "circle"
         },
         "mode": "lines",
         "name": "",
         "showlegend": false,
         "type": "scattergl",
         "x": [
          "Time_0",
          "Time_1",
          "Time_2",
          "Time_3",
          "Time_4",
          "Time_5",
          "Time_6",
          "Time_7",
          "Time_8",
          "Time_9",
          "Time_10"
         ],
         "xaxis": "x12",
         "y": [
          25,
          17,
          36,
          25,
          11,
          18,
          30,
          7,
          23,
          22,
          15
         ],
         "yaxis": "y12"
        }
       ],
       "layout": {
        "annotations": [
         {
          "font": {},
          "showarrow": false,
          "text": "1",
          "x": 0.03166666666666666,
          "xanchor": "center",
          "xref": "paper",
          "y": 1,
          "yanchor": "bottom",
          "yref": "paper"
         },
         {
          "font": {},
          "showarrow": false,
          "text": "2",
          "x": 0.11499999999999999,
          "xanchor": "center",
          "xref": "paper",
          "y": 1,
          "yanchor": "bottom",
          "yref": "paper"
         },
         {
          "font": {},
          "showarrow": false,
          "text": "3",
          "x": 0.1983333333333333,
          "xanchor": "center",
          "xref": "paper",
          "y": 1,
          "yanchor": "bottom",
          "yref": "paper"
         },
         {
          "font": {},
          "showarrow": false,
          "text": "4",
          "x": 0.2816666666666666,
          "xanchor": "center",
          "xref": "paper",
          "y": 1,
          "yanchor": "bottom",
          "yref": "paper"
         },
         {
          "font": {},
          "showarrow": false,
          "text": "5",
          "x": 0.365,
          "xanchor": "center",
          "xref": "paper",
          "y": 1,
          "yanchor": "bottom",
          "yref": "paper"
         },
         {
          "font": {},
          "showarrow": false,
          "text": "6",
          "x": 0.4483333333333333,
          "xanchor": "center",
          "xref": "paper",
          "y": 1,
          "yanchor": "bottom",
          "yref": "paper"
         },
         {
          "font": {},
          "showarrow": false,
          "text": "7",
          "x": 0.5316666666666666,
          "xanchor": "center",
          "xref": "paper",
          "y": 1,
          "yanchor": "bottom",
          "yref": "paper"
         },
         {
          "font": {},
          "showarrow": false,
          "text": "8",
          "x": 0.615,
          "xanchor": "center",
          "xref": "paper",
          "y": 1,
          "yanchor": "bottom",
          "yref": "paper"
         },
         {
          "font": {},
          "showarrow": false,
          "text": "9",
          "x": 0.6983333333333333,
          "xanchor": "center",
          "xref": "paper",
          "y": 1,
          "yanchor": "bottom",
          "yref": "paper"
         },
         {
          "font": {},
          "showarrow": false,
          "text": "10",
          "x": 0.7816666666666667,
          "xanchor": "center",
          "xref": "paper",
          "y": 1,
          "yanchor": "bottom",
          "yref": "paper"
         },
         {
          "font": {},
          "showarrow": false,
          "text": "11",
          "x": 0.865,
          "xanchor": "center",
          "xref": "paper",
          "y": 1,
          "yanchor": "bottom",
          "yref": "paper"
         },
         {
          "font": {},
          "showarrow": false,
          "text": "12",
          "x": 0.9483333333333333,
          "xanchor": "center",
          "xref": "paper",
          "y": 1,
          "yanchor": "bottom",
          "yref": "paper"
         },
         {
          "font": {},
          "showarrow": false,
          "text": "H",
          "textangle": 90,
          "x": 0.9799999999999999,
          "xanchor": "left",
          "xref": "paper",
          "y": 0.049375,
          "yanchor": "middle",
          "yref": "paper"
         },
         {
          "font": {},
          "showarrow": false,
          "text": "G",
          "textangle": 90,
          "x": 0.9799999999999999,
          "xanchor": "left",
          "xref": "paper",
          "y": 0.178125,
          "yanchor": "middle",
          "yref": "paper"
         },
         {
          "font": {},
          "showarrow": false,
          "text": "F",
          "textangle": 90,
          "x": 0.9799999999999999,
          "xanchor": "left",
          "xref": "paper",
          "y": 0.306875,
          "yanchor": "middle",
          "yref": "paper"
         },
         {
          "font": {},
          "showarrow": false,
          "text": "E",
          "textangle": 90,
          "x": 0.9799999999999999,
          "xanchor": "left",
          "xref": "paper",
          "y": 0.435625,
          "yanchor": "middle",
          "yref": "paper"
         },
         {
          "font": {},
          "showarrow": false,
          "text": "D",
          "textangle": 90,
          "x": 0.9799999999999999,
          "xanchor": "left",
          "xref": "paper",
          "y": 0.5643750000000001,
          "yanchor": "middle",
          "yref": "paper"
         },
         {
          "font": {},
          "showarrow": false,
          "text": "C",
          "textangle": 90,
          "x": 0.9799999999999999,
          "xanchor": "left",
          "xref": "paper",
          "y": 0.693125,
          "yanchor": "middle",
          "yref": "paper"
         },
         {
          "font": {},
          "showarrow": false,
          "text": "B",
          "textangle": 90,
          "x": 0.9799999999999999,
          "xanchor": "left",
          "xref": "paper",
          "y": 0.8218749999999999,
          "yanchor": "middle",
          "yref": "paper"
         },
         {
          "font": {},
          "showarrow": false,
          "text": "A",
          "textangle": 90,
          "x": 0.9799999999999999,
          "xanchor": "left",
          "xref": "paper",
          "y": 0.950625,
          "yanchor": "middle",
          "yref": "paper"
         }
        ],
        "font": {
         "size": 10
        },
        "legend": {
         "tracegroupgap": 0
        },
        "margin": {
         "t": 60
        },
        "template": {
         "data": {
          "bar": [
           {
            "error_x": {
             "color": "#2a3f5f"
            },
            "error_y": {
             "color": "#2a3f5f"
            },
            "marker": {
             "line": {
              "color": "#E5ECF6",
              "width": 0.5
             },
             "pattern": {
              "fillmode": "overlay",
              "size": 10,
              "solidity": 0.2
             }
            },
            "type": "bar"
           }
          ],
          "barpolar": [
           {
            "marker": {
             "line": {
              "color": "#E5ECF6",
              "width": 0.5
             },
             "pattern": {
              "fillmode": "overlay",
              "size": 10,
              "solidity": 0.2
             }
            },
            "type": "barpolar"
           }
          ],
          "carpet": [
           {
            "aaxis": {
             "endlinecolor": "#2a3f5f",
             "gridcolor": "white",
             "linecolor": "white",
             "minorgridcolor": "white",
             "startlinecolor": "#2a3f5f"
            },
            "baxis": {
             "endlinecolor": "#2a3f5f",
             "gridcolor": "white",
             "linecolor": "white",
             "minorgridcolor": "white",
             "startlinecolor": "#2a3f5f"
            },
            "type": "carpet"
           }
          ],
          "choropleth": [
           {
            "colorbar": {
             "outlinewidth": 0,
             "ticks": ""
            },
            "type": "choropleth"
           }
          ],
          "contour": [
           {
            "colorbar": {
             "outlinewidth": 0,
             "ticks": ""
            },
            "colorscale": [
             [
              0,
              "#0d0887"
             ],
             [
              0.1111111111111111,
              "#46039f"
             ],
             [
              0.2222222222222222,
              "#7201a8"
             ],
             [
              0.3333333333333333,
              "#9c179e"
             ],
             [
              0.4444444444444444,
              "#bd3786"
             ],
             [
              0.5555555555555556,
              "#d8576b"
             ],
             [
              0.6666666666666666,
              "#ed7953"
             ],
             [
              0.7777777777777778,
              "#fb9f3a"
             ],
             [
              0.8888888888888888,
              "#fdca26"
             ],
             [
              1,
              "#f0f921"
             ]
            ],
            "type": "contour"
           }
          ],
          "contourcarpet": [
           {
            "colorbar": {
             "outlinewidth": 0,
             "ticks": ""
            },
            "type": "contourcarpet"
           }
          ],
          "heatmap": [
           {
            "colorbar": {
             "outlinewidth": 0,
             "ticks": ""
            },
            "colorscale": [
             [
              0,
              "#0d0887"
             ],
             [
              0.1111111111111111,
              "#46039f"
             ],
             [
              0.2222222222222222,
              "#7201a8"
             ],
             [
              0.3333333333333333,
              "#9c179e"
             ],
             [
              0.4444444444444444,
              "#bd3786"
             ],
             [
              0.5555555555555556,
              "#d8576b"
             ],
             [
              0.6666666666666666,
              "#ed7953"
             ],
             [
              0.7777777777777778,
              "#fb9f3a"
             ],
             [
              0.8888888888888888,
              "#fdca26"
             ],
             [
              1,
              "#f0f921"
             ]
            ],
            "type": "heatmap"
           }
          ],
          "heatmapgl": [
           {
            "colorbar": {
             "outlinewidth": 0,
             "ticks": ""
            },
            "colorscale": [
             [
              0,
              "#0d0887"
             ],
             [
              0.1111111111111111,
              "#46039f"
             ],
             [
              0.2222222222222222,
              "#7201a8"
             ],
             [
              0.3333333333333333,
              "#9c179e"
             ],
             [
              0.4444444444444444,
              "#bd3786"
             ],
             [
              0.5555555555555556,
              "#d8576b"
             ],
             [
              0.6666666666666666,
              "#ed7953"
             ],
             [
              0.7777777777777778,
              "#fb9f3a"
             ],
             [
              0.8888888888888888,
              "#fdca26"
             ],
             [
              1,
              "#f0f921"
             ]
            ],
            "type": "heatmapgl"
           }
          ],
          "histogram": [
           {
            "marker": {
             "pattern": {
              "fillmode": "overlay",
              "size": 10,
              "solidity": 0.2
             }
            },
            "type": "histogram"
           }
          ],
          "histogram2d": [
           {
            "colorbar": {
             "outlinewidth": 0,
             "ticks": ""
            },
            "colorscale": [
             [
              0,
              "#0d0887"
             ],
             [
              0.1111111111111111,
              "#46039f"
             ],
             [
              0.2222222222222222,
              "#7201a8"
             ],
             [
              0.3333333333333333,
              "#9c179e"
             ],
             [
              0.4444444444444444,
              "#bd3786"
             ],
             [
              0.5555555555555556,
              "#d8576b"
             ],
             [
              0.6666666666666666,
              "#ed7953"
             ],
             [
              0.7777777777777778,
              "#fb9f3a"
             ],
             [
              0.8888888888888888,
              "#fdca26"
             ],
             [
              1,
              "#f0f921"
             ]
            ],
            "type": "histogram2d"
           }
          ],
          "histogram2dcontour": [
           {
            "colorbar": {
             "outlinewidth": 0,
             "ticks": ""
            },
            "colorscale": [
             [
              0,
              "#0d0887"
             ],
             [
              0.1111111111111111,
              "#46039f"
             ],
             [
              0.2222222222222222,
              "#7201a8"
             ],
             [
              0.3333333333333333,
              "#9c179e"
             ],
             [
              0.4444444444444444,
              "#bd3786"
             ],
             [
              0.5555555555555556,
              "#d8576b"
             ],
             [
              0.6666666666666666,
              "#ed7953"
             ],
             [
              0.7777777777777778,
              "#fb9f3a"
             ],
             [
              0.8888888888888888,
              "#fdca26"
             ],
             [
              1,
              "#f0f921"
             ]
            ],
            "type": "histogram2dcontour"
           }
          ],
          "mesh3d": [
           {
            "colorbar": {
             "outlinewidth": 0,
             "ticks": ""
            },
            "type": "mesh3d"
           }
          ],
          "parcoords": [
           {
            "line": {
             "colorbar": {
              "outlinewidth": 0,
              "ticks": ""
             }
            },
            "type": "parcoords"
           }
          ],
          "pie": [
           {
            "automargin": true,
            "type": "pie"
           }
          ],
          "scatter": [
           {
            "fillpattern": {
             "fillmode": "overlay",
             "size": 10,
             "solidity": 0.2
            },
            "type": "scatter"
           }
          ],
          "scatter3d": [
           {
            "line": {
             "colorbar": {
              "outlinewidth": 0,
              "ticks": ""
             }
            },
            "marker": {
             "colorbar": {
              "outlinewidth": 0,
              "ticks": ""
             }
            },
            "type": "scatter3d"
           }
          ],
          "scattercarpet": [
           {
            "marker": {
             "colorbar": {
              "outlinewidth": 0,
              "ticks": ""
             }
            },
            "type": "scattercarpet"
           }
          ],
          "scattergeo": [
           {
            "marker": {
             "colorbar": {
              "outlinewidth": 0,
              "ticks": ""
             }
            },
            "type": "scattergeo"
           }
          ],
          "scattergl": [
           {
            "marker": {
             "colorbar": {
              "outlinewidth": 0,
              "ticks": ""
             }
            },
            "type": "scattergl"
           }
          ],
          "scattermapbox": [
           {
            "marker": {
             "colorbar": {
              "outlinewidth": 0,
              "ticks": ""
             }
            },
            "type": "scattermapbox"
           }
          ],
          "scatterpolar": [
           {
            "marker": {
             "colorbar": {
              "outlinewidth": 0,
              "ticks": ""
             }
            },
            "type": "scatterpolar"
           }
          ],
          "scatterpolargl": [
           {
            "marker": {
             "colorbar": {
              "outlinewidth": 0,
              "ticks": ""
             }
            },
            "type": "scatterpolargl"
           }
          ],
          "scatterternary": [
           {
            "marker": {
             "colorbar": {
              "outlinewidth": 0,
              "ticks": ""
             }
            },
            "type": "scatterternary"
           }
          ],
          "surface": [
           {
            "colorbar": {
             "outlinewidth": 0,
             "ticks": ""
            },
            "colorscale": [
             [
              0,
              "#0d0887"
             ],
             [
              0.1111111111111111,
              "#46039f"
             ],
             [
              0.2222222222222222,
              "#7201a8"
             ],
             [
              0.3333333333333333,
              "#9c179e"
             ],
             [
              0.4444444444444444,
              "#bd3786"
             ],
             [
              0.5555555555555556,
              "#d8576b"
             ],
             [
              0.6666666666666666,
              "#ed7953"
             ],
             [
              0.7777777777777778,
              "#fb9f3a"
             ],
             [
              0.8888888888888888,
              "#fdca26"
             ],
             [
              1,
              "#f0f921"
             ]
            ],
            "type": "surface"
           }
          ],
          "table": [
           {
            "cells": {
             "fill": {
              "color": "#EBF0F8"
             },
             "line": {
              "color": "white"
             }
            },
            "header": {
             "fill": {
              "color": "#C8D4E3"
             },
             "line": {
              "color": "white"
             }
            },
            "type": "table"
           }
          ]
         },
         "layout": {
          "annotationdefaults": {
           "arrowcolor": "#2a3f5f",
           "arrowhead": 0,
           "arrowwidth": 1
          },
          "autotypenumbers": "strict",
          "coloraxis": {
           "colorbar": {
            "outlinewidth": 0,
            "ticks": ""
           }
          },
          "colorscale": {
           "diverging": [
            [
             0,
             "#8e0152"
            ],
            [
             0.1,
             "#c51b7d"
            ],
            [
             0.2,
             "#de77ae"
            ],
            [
             0.3,
             "#f1b6da"
            ],
            [
             0.4,
             "#fde0ef"
            ],
            [
             0.5,
             "#f7f7f7"
            ],
            [
             0.6,
             "#e6f5d0"
            ],
            [
             0.7,
             "#b8e186"
            ],
            [
             0.8,
             "#7fbc41"
            ],
            [
             0.9,
             "#4d9221"
            ],
            [
             1,
             "#276419"
            ]
           ],
           "sequential": [
            [
             0,
             "#0d0887"
            ],
            [
             0.1111111111111111,
             "#46039f"
            ],
            [
             0.2222222222222222,
             "#7201a8"
            ],
            [
             0.3333333333333333,
             "#9c179e"
            ],
            [
             0.4444444444444444,
             "#bd3786"
            ],
            [
             0.5555555555555556,
             "#d8576b"
            ],
            [
             0.6666666666666666,
             "#ed7953"
            ],
            [
             0.7777777777777778,
             "#fb9f3a"
            ],
            [
             0.8888888888888888,
             "#fdca26"
            ],
            [
             1,
             "#f0f921"
            ]
           ],
           "sequentialminus": [
            [
             0,
             "#0d0887"
            ],
            [
             0.1111111111111111,
             "#46039f"
            ],
            [
             0.2222222222222222,
             "#7201a8"
            ],
            [
             0.3333333333333333,
             "#9c179e"
            ],
            [
             0.4444444444444444,
             "#bd3786"
            ],
            [
             0.5555555555555556,
             "#d8576b"
            ],
            [
             0.6666666666666666,
             "#ed7953"
            ],
            [
             0.7777777777777778,
             "#fb9f3a"
            ],
            [
             0.8888888888888888,
             "#fdca26"
            ],
            [
             1,
             "#f0f921"
            ]
           ]
          },
          "colorway": [
           "#636efa",
           "#EF553B",
           "#00cc96",
           "#ab63fa",
           "#FFA15A",
           "#19d3f3",
           "#FF6692",
           "#B6E880",
           "#FF97FF",
           "#FECB52"
          ],
          "font": {
           "color": "#2a3f5f"
          },
          "geo": {
           "bgcolor": "white",
           "lakecolor": "white",
           "landcolor": "#E5ECF6",
           "showlakes": true,
           "showland": true,
           "subunitcolor": "white"
          },
          "hoverlabel": {
           "align": "left"
          },
          "hovermode": "closest",
          "mapbox": {
           "style": "light"
          },
          "paper_bgcolor": "white",
          "plot_bgcolor": "#E5ECF6",
          "polar": {
           "angularaxis": {
            "gridcolor": "white",
            "linecolor": "white",
            "ticks": ""
           },
           "bgcolor": "#E5ECF6",
           "radialaxis": {
            "gridcolor": "white",
            "linecolor": "white",
            "ticks": ""
           }
          },
          "scene": {
           "xaxis": {
            "backgroundcolor": "#E5ECF6",
            "gridcolor": "white",
            "gridwidth": 2,
            "linecolor": "white",
            "showbackground": true,
            "ticks": "",
            "zerolinecolor": "white"
           },
           "yaxis": {
            "backgroundcolor": "#E5ECF6",
            "gridcolor": "white",
            "gridwidth": 2,
            "linecolor": "white",
            "showbackground": true,
            "ticks": "",
            "zerolinecolor": "white"
           },
           "zaxis": {
            "backgroundcolor": "#E5ECF6",
            "gridcolor": "white",
            "gridwidth": 2,
            "linecolor": "white",
            "showbackground": true,
            "ticks": "",
            "zerolinecolor": "white"
           }
          },
          "shapedefaults": {
           "line": {
            "color": "#2a3f5f"
           }
          },
          "ternary": {
           "aaxis": {
            "gridcolor": "white",
            "linecolor": "white",
            "ticks": ""
           },
           "baxis": {
            "gridcolor": "white",
            "linecolor": "white",
            "ticks": ""
           },
           "bgcolor": "#E5ECF6",
           "caxis": {
            "gridcolor": "white",
            "linecolor": "white",
            "ticks": ""
           }
          },
          "title": {
           "x": 0.05
          },
          "xaxis": {
           "automargin": true,
           "gridcolor": "white",
           "linecolor": "white",
           "ticks": "",
           "title": {
            "standoff": 15
           },
           "zerolinecolor": "white",
           "zerolinewidth": 2
          },
          "yaxis": {
           "automargin": true,
           "gridcolor": "white",
           "linecolor": "white",
           "ticks": "",
           "title": {
            "standoff": 15
           },
           "zerolinecolor": "white",
           "zerolinewidth": 2
          }
         }
        },
        "title": {
         "text": "Plate_1"
        },
        "xaxis": {
         "anchor": "y",
         "domain": [
          0,
          0.06333333333333332
         ],
         "title": {
          "text": ""
         }
        },
        "xaxis10": {
         "anchor": "y10",
         "domain": [
          0.75,
          0.8133333333333334
         ],
         "matches": "x",
         "title": {
          "text": ""
         }
        },
        "xaxis11": {
         "anchor": "y11",
         "domain": [
          0.8333333333333333,
          0.8966666666666666
         ],
         "matches": "x",
         "title": {
          "text": ""
         }
        },
        "xaxis12": {
         "anchor": "y12",
         "domain": [
          0.9166666666666665,
          0.9799999999999999
         ],
         "matches": "x",
         "title": {
          "text": ""
         }
        },
        "xaxis13": {
         "anchor": "y13",
         "domain": [
          0,
          0.06333333333333332
         ],
         "matches": "x",
         "showticklabels": false,
         "title": {
          "text": ""
         }
        },
        "xaxis14": {
         "anchor": "y14",
         "domain": [
          0.08333333333333333,
          0.14666666666666667
         ],
         "matches": "x",
         "showticklabels": false,
         "title": {
          "text": ""
         }
        },
        "xaxis15": {
         "anchor": "y15",
         "domain": [
          0.16666666666666666,
          0.22999999999999998
         ],
         "matches": "x",
         "showticklabels": false,
         "title": {
          "text": ""
         }
        },
        "xaxis16": {
         "anchor": "y16",
         "domain": [
          0.24999999999999997,
          0.3133333333333333
         ],
         "matches": "x",
         "showticklabels": false,
         "title": {
          "text": ""
         }
        },
        "xaxis17": {
         "anchor": "y17",
         "domain": [
          0.3333333333333333,
          0.3966666666666666
         ],
         "matches": "x",
         "showticklabels": false,
         "title": {
          "text": ""
         }
        },
        "xaxis18": {
         "anchor": "y18",
         "domain": [
          0.41666666666666663,
          0.48
         ],
         "matches": "x",
         "showticklabels": false,
         "title": {
          "text": ""
         }
        },
        "xaxis19": {
         "anchor": "y19",
         "domain": [
          0.49999999999999994,
          0.5633333333333332
         ],
         "matches": "x",
         "showticklabels": false,
         "title": {
          "text": ""
         }
        },
        "xaxis2": {
         "anchor": "y2",
         "domain": [
          0.08333333333333333,
          0.14666666666666667
         ],
         "matches": "x",
         "title": {
          "text": ""
         }
        },
        "xaxis20": {
         "anchor": "y20",
         "domain": [
          0.5833333333333333,
          0.6466666666666666
         ],
         "matches": "x",
         "showticklabels": false,
         "title": {
          "text": ""
         }
        },
        "xaxis21": {
         "anchor": "y21",
         "domain": [
          0.6666666666666666,
          0.73
         ],
         "matches": "x",
         "showticklabels": false,
         "title": {
          "text": ""
         }
        },
        "xaxis22": {
         "anchor": "y22",
         "domain": [
          0.75,
          0.8133333333333334
         ],
         "matches": "x",
         "showticklabels": false,
         "title": {
          "text": ""
         }
        },
        "xaxis23": {
         "anchor": "y23",
         "domain": [
          0.8333333333333333,
          0.8966666666666666
         ],
         "matches": "x",
         "showticklabels": false,
         "title": {
          "text": ""
         }
        },
        "xaxis24": {
         "anchor": "y24",
         "domain": [
          0.9166666666666665,
          0.9799999999999999
         ],
         "matches": "x",
         "showticklabels": false,
         "title": {
          "text": ""
         }
        },
        "xaxis25": {
         "anchor": "y25",
         "domain": [
          0,
          0.06333333333333332
         ],
         "matches": "x",
         "showticklabels": false,
         "title": {
          "text": ""
         }
        },
        "xaxis26": {
         "anchor": "y26",
         "domain": [
          0.08333333333333333,
          0.14666666666666667
         ],
         "matches": "x",
         "showticklabels": false,
         "title": {
          "text": ""
         }
        },
        "xaxis27": {
         "anchor": "y27",
         "domain": [
          0.16666666666666666,
          0.22999999999999998
         ],
         "matches": "x",
         "showticklabels": false,
         "title": {
          "text": ""
         }
        },
        "xaxis28": {
         "anchor": "y28",
         "domain": [
          0.24999999999999997,
          0.3133333333333333
         ],
         "matches": "x",
         "showticklabels": false,
         "title": {
          "text": ""
         }
        },
        "xaxis29": {
         "anchor": "y29",
         "domain": [
          0.3333333333333333,
          0.3966666666666666
         ],
         "matches": "x",
         "showticklabels": false,
         "title": {
          "text": ""
         }
        },
        "xaxis3": {
         "anchor": "y3",
         "domain": [
          0.16666666666666666,
          0.22999999999999998
         ],
         "matches": "x",
         "title": {
          "text": ""
         }
        },
        "xaxis30": {
         "anchor": "y30",
         "domain": [
          0.41666666666666663,
          0.48
         ],
         "matches": "x",
         "showticklabels": false,
         "title": {
          "text": ""
         }
        },
        "xaxis31": {
         "anchor": "y31",
         "domain": [
          0.49999999999999994,
          0.5633333333333332
         ],
         "matches": "x",
         "showticklabels": false,
         "title": {
          "text": ""
         }
        },
        "xaxis32": {
         "anchor": "y32",
         "domain": [
          0.5833333333333333,
          0.6466666666666666
         ],
         "matches": "x",
         "showticklabels": false,
         "title": {
          "text": ""
         }
        },
        "xaxis33": {
         "anchor": "y33",
         "domain": [
          0.6666666666666666,
          0.73
         ],
         "matches": "x",
         "showticklabels": false,
         "title": {
          "text": ""
         }
        },
        "xaxis34": {
         "anchor": "y34",
         "domain": [
          0.75,
          0.8133333333333334
         ],
         "matches": "x",
         "showticklabels": false,
         "title": {
          "text": ""
         }
        },
        "xaxis35": {
         "anchor": "y35",
         "domain": [
          0.8333333333333333,
          0.8966666666666666
         ],
         "matches": "x",
         "showticklabels": false,
         "title": {
          "text": ""
         }
        },
        "xaxis36": {
         "anchor": "y36",
         "domain": [
          0.9166666666666665,
          0.9799999999999999
         ],
         "matches": "x",
         "showticklabels": false,
         "title": {
          "text": ""
         }
        },
        "xaxis37": {
         "anchor": "y37",
         "domain": [
          0,
          0.06333333333333332
         ],
         "matches": "x",
         "showticklabels": false,
         "title": {
          "text": ""
         }
        },
        "xaxis38": {
         "anchor": "y38",
         "domain": [
          0.08333333333333333,
          0.14666666666666667
         ],
         "matches": "x",
         "showticklabels": false,
         "title": {
          "text": ""
         }
        },
        "xaxis39": {
         "anchor": "y39",
         "domain": [
          0.16666666666666666,
          0.22999999999999998
         ],
         "matches": "x",
         "showticklabels": false,
         "title": {
          "text": ""
         }
        },
        "xaxis4": {
         "anchor": "y4",
         "domain": [
          0.24999999999999997,
          0.3133333333333333
         ],
         "matches": "x",
         "title": {
          "text": ""
         }
        },
        "xaxis40": {
         "anchor": "y40",
         "domain": [
          0.24999999999999997,
          0.3133333333333333
         ],
         "matches": "x",
         "showticklabels": false,
         "title": {
          "text": ""
         }
        },
        "xaxis41": {
         "anchor": "y41",
         "domain": [
          0.3333333333333333,
          0.3966666666666666
         ],
         "matches": "x",
         "showticklabels": false,
         "title": {
          "text": ""
         }
        },
        "xaxis42": {
         "anchor": "y42",
         "domain": [
          0.41666666666666663,
          0.48
         ],
         "matches": "x",
         "showticklabels": false,
         "title": {
          "text": ""
         }
        },
        "xaxis43": {
         "anchor": "y43",
         "domain": [
          0.49999999999999994,
          0.5633333333333332
         ],
         "matches": "x",
         "showticklabels": false,
         "title": {
          "text": ""
         }
        },
        "xaxis44": {
         "anchor": "y44",
         "domain": [
          0.5833333333333333,
          0.6466666666666666
         ],
         "matches": "x",
         "showticklabels": false,
         "title": {
          "text": ""
         }
        },
        "xaxis45": {
         "anchor": "y45",
         "domain": [
          0.6666666666666666,
          0.73
         ],
         "matches": "x",
         "showticklabels": false,
         "title": {
          "text": ""
         }
        },
        "xaxis46": {
         "anchor": "y46",
         "domain": [
          0.75,
          0.8133333333333334
         ],
         "matches": "x",
         "showticklabels": false,
         "title": {
          "text": ""
         }
        },
        "xaxis47": {
         "anchor": "y47",
         "domain": [
          0.8333333333333333,
          0.8966666666666666
         ],
         "matches": "x",
         "showticklabels": false,
         "title": {
          "text": ""
         }
        },
        "xaxis48": {
         "anchor": "y48",
         "domain": [
          0.9166666666666665,
          0.9799999999999999
         ],
         "matches": "x",
         "showticklabels": false,
         "title": {
          "text": ""
         }
        },
        "xaxis49": {
         "anchor": "y49",
         "domain": [
          0,
          0.06333333333333332
         ],
         "matches": "x",
         "showticklabels": false,
         "title": {
          "text": ""
         }
        },
        "xaxis5": {
         "anchor": "y5",
         "domain": [
          0.3333333333333333,
          0.3966666666666666
         ],
         "matches": "x",
         "title": {
          "text": ""
         }
        },
        "xaxis50": {
         "anchor": "y50",
         "domain": [
          0.08333333333333333,
          0.14666666666666667
         ],
         "matches": "x",
         "showticklabels": false,
         "title": {
          "text": ""
         }
        },
        "xaxis51": {
         "anchor": "y51",
         "domain": [
          0.16666666666666666,
          0.22999999999999998
         ],
         "matches": "x",
         "showticklabels": false,
         "title": {
          "text": ""
         }
        },
        "xaxis52": {
         "anchor": "y52",
         "domain": [
          0.24999999999999997,
          0.3133333333333333
         ],
         "matches": "x",
         "showticklabels": false,
         "title": {
          "text": ""
         }
        },
        "xaxis53": {
         "anchor": "y53",
         "domain": [
          0.3333333333333333,
          0.3966666666666666
         ],
         "matches": "x",
         "showticklabels": false,
         "title": {
          "text": ""
         }
        },
        "xaxis54": {
         "anchor": "y54",
         "domain": [
          0.41666666666666663,
          0.48
         ],
         "matches": "x",
         "showticklabels": false,
         "title": {
          "text": ""
         }
        },
        "xaxis55": {
         "anchor": "y55",
         "domain": [
          0.49999999999999994,
          0.5633333333333332
         ],
         "matches": "x",
         "showticklabels": false,
         "title": {
          "text": ""
         }
        },
        "xaxis56": {
         "anchor": "y56",
         "domain": [
          0.5833333333333333,
          0.6466666666666666
         ],
         "matches": "x",
         "showticklabels": false,
         "title": {
          "text": ""
         }
        },
        "xaxis57": {
         "anchor": "y57",
         "domain": [
          0.6666666666666666,
          0.73
         ],
         "matches": "x",
         "showticklabels": false,
         "title": {
          "text": ""
         }
        },
        "xaxis58": {
         "anchor": "y58",
         "domain": [
          0.75,
          0.8133333333333334
         ],
         "matches": "x",
         "showticklabels": false,
         "title": {
          "text": ""
         }
        },
        "xaxis59": {
         "anchor": "y59",
         "domain": [
          0.8333333333333333,
          0.8966666666666666
         ],
         "matches": "x",
         "showticklabels": false,
         "title": {
          "text": ""
         }
        },
        "xaxis6": {
         "anchor": "y6",
         "domain": [
          0.41666666666666663,
          0.48
         ],
         "matches": "x",
         "title": {
          "text": ""
         }
        },
        "xaxis60": {
         "anchor": "y60",
         "domain": [
          0.9166666666666665,
          0.9799999999999999
         ],
         "matches": "x",
         "showticklabels": false,
         "title": {
          "text": ""
         }
        },
        "xaxis61": {
         "anchor": "y61",
         "domain": [
          0,
          0.06333333333333332
         ],
         "matches": "x",
         "showticklabels": false,
         "title": {
          "text": ""
         }
        },
        "xaxis62": {
         "anchor": "y62",
         "domain": [
          0.08333333333333333,
          0.14666666666666667
         ],
         "matches": "x",
         "showticklabels": false,
         "title": {
          "text": ""
         }
        },
        "xaxis63": {
         "anchor": "y63",
         "domain": [
          0.16666666666666666,
          0.22999999999999998
         ],
         "matches": "x",
         "showticklabels": false,
         "title": {
          "text": ""
         }
        },
        "xaxis64": {
         "anchor": "y64",
         "domain": [
          0.24999999999999997,
          0.3133333333333333
         ],
         "matches": "x",
         "showticklabels": false,
         "title": {
          "text": ""
         }
        },
        "xaxis65": {
         "anchor": "y65",
         "domain": [
          0.3333333333333333,
          0.3966666666666666
         ],
         "matches": "x",
         "showticklabels": false,
         "title": {
          "text": ""
         }
        },
        "xaxis66": {
         "anchor": "y66",
         "domain": [
          0.41666666666666663,
          0.48
         ],
         "matches": "x",
         "showticklabels": false,
         "title": {
          "text": ""
         }
        },
        "xaxis67": {
         "anchor": "y67",
         "domain": [
          0.49999999999999994,
          0.5633333333333332
         ],
         "matches": "x",
         "showticklabels": false,
         "title": {
          "text": ""
         }
        },
        "xaxis68": {
         "anchor": "y68",
         "domain": [
          0.5833333333333333,
          0.6466666666666666
         ],
         "matches": "x",
         "showticklabels": false,
         "title": {
          "text": ""
         }
        },
        "xaxis69": {
         "anchor": "y69",
         "domain": [
          0.6666666666666666,
          0.73
         ],
         "matches": "x",
         "showticklabels": false,
         "title": {
          "text": ""
         }
        },
        "xaxis7": {
         "anchor": "y7",
         "domain": [
          0.49999999999999994,
          0.5633333333333332
         ],
         "matches": "x",
         "title": {
          "text": ""
         }
        },
        "xaxis70": {
         "anchor": "y70",
         "domain": [
          0.75,
          0.8133333333333334
         ],
         "matches": "x",
         "showticklabels": false,
         "title": {
          "text": ""
         }
        },
        "xaxis71": {
         "anchor": "y71",
         "domain": [
          0.8333333333333333,
          0.8966666666666666
         ],
         "matches": "x",
         "showticklabels": false,
         "title": {
          "text": ""
         }
        },
        "xaxis72": {
         "anchor": "y72",
         "domain": [
          0.9166666666666665,
          0.9799999999999999
         ],
         "matches": "x",
         "showticklabels": false,
         "title": {
          "text": ""
         }
        },
        "xaxis73": {
         "anchor": "y73",
         "domain": [
          0,
          0.06333333333333332
         ],
         "matches": "x",
         "showticklabels": false,
         "title": {
          "text": ""
         }
        },
        "xaxis74": {
         "anchor": "y74",
         "domain": [
          0.08333333333333333,
          0.14666666666666667
         ],
         "matches": "x",
         "showticklabels": false,
         "title": {
          "text": ""
         }
        },
        "xaxis75": {
         "anchor": "y75",
         "domain": [
          0.16666666666666666,
          0.22999999999999998
         ],
         "matches": "x",
         "showticklabels": false,
         "title": {
          "text": ""
         }
        },
        "xaxis76": {
         "anchor": "y76",
         "domain": [
          0.24999999999999997,
          0.3133333333333333
         ],
         "matches": "x",
         "showticklabels": false,
         "title": {
          "text": ""
         }
        },
        "xaxis77": {
         "anchor": "y77",
         "domain": [
          0.3333333333333333,
          0.3966666666666666
         ],
         "matches": "x",
         "showticklabels": false,
         "title": {
          "text": ""
         }
        },
        "xaxis78": {
         "anchor": "y78",
         "domain": [
          0.41666666666666663,
          0.48
         ],
         "matches": "x",
         "showticklabels": false,
         "title": {
          "text": ""
         }
        },
        "xaxis79": {
         "anchor": "y79",
         "domain": [
          0.49999999999999994,
          0.5633333333333332
         ],
         "matches": "x",
         "showticklabels": false,
         "title": {
          "text": ""
         }
        },
        "xaxis8": {
         "anchor": "y8",
         "domain": [
          0.5833333333333333,
          0.6466666666666666
         ],
         "matches": "x",
         "title": {
          "text": ""
         }
        },
        "xaxis80": {
         "anchor": "y80",
         "domain": [
          0.5833333333333333,
          0.6466666666666666
         ],
         "matches": "x",
         "showticklabels": false,
         "title": {
          "text": ""
         }
        },
        "xaxis81": {
         "anchor": "y81",
         "domain": [
          0.6666666666666666,
          0.73
         ],
         "matches": "x",
         "showticklabels": false,
         "title": {
          "text": ""
         }
        },
        "xaxis82": {
         "anchor": "y82",
         "domain": [
          0.75,
          0.8133333333333334
         ],
         "matches": "x",
         "showticklabels": false,
         "title": {
          "text": ""
         }
        },
        "xaxis83": {
         "anchor": "y83",
         "domain": [
          0.8333333333333333,
          0.8966666666666666
         ],
         "matches": "x",
         "showticklabels": false,
         "title": {
          "text": ""
         }
        },
        "xaxis84": {
         "anchor": "y84",
         "domain": [
          0.9166666666666665,
          0.9799999999999999
         ],
         "matches": "x",
         "showticklabels": false,
         "title": {
          "text": ""
         }
        },
        "xaxis85": {
         "anchor": "y85",
         "domain": [
          0,
          0.06333333333333332
         ],
         "matches": "x",
         "showticklabels": false,
         "title": {
          "text": ""
         }
        },
        "xaxis86": {
         "anchor": "y86",
         "domain": [
          0.08333333333333333,
          0.14666666666666667
         ],
         "matches": "x",
         "showticklabels": false,
         "title": {
          "text": ""
         }
        },
        "xaxis87": {
         "anchor": "y87",
         "domain": [
          0.16666666666666666,
          0.22999999999999998
         ],
         "matches": "x",
         "showticklabels": false,
         "title": {
          "text": ""
         }
        },
        "xaxis88": {
         "anchor": "y88",
         "domain": [
          0.24999999999999997,
          0.3133333333333333
         ],
         "matches": "x",
         "showticklabels": false,
         "title": {
          "text": ""
         }
        },
        "xaxis89": {
         "anchor": "y89",
         "domain": [
          0.3333333333333333,
          0.3966666666666666
         ],
         "matches": "x",
         "showticklabels": false,
         "title": {
          "text": ""
         }
        },
        "xaxis9": {
         "anchor": "y9",
         "domain": [
          0.6666666666666666,
          0.73
         ],
         "matches": "x",
         "title": {
          "text": ""
         }
        },
        "xaxis90": {
         "anchor": "y90",
         "domain": [
          0.41666666666666663,
          0.48
         ],
         "matches": "x",
         "showticklabels": false,
         "title": {
          "text": ""
         }
        },
        "xaxis91": {
         "anchor": "y91",
         "domain": [
          0.49999999999999994,
          0.5633333333333332
         ],
         "matches": "x",
         "showticklabels": false,
         "title": {
          "text": ""
         }
        },
        "xaxis92": {
         "anchor": "y92",
         "domain": [
          0.5833333333333333,
          0.6466666666666666
         ],
         "matches": "x",
         "showticklabels": false,
         "title": {
          "text": ""
         }
        },
        "xaxis93": {
         "anchor": "y93",
         "domain": [
          0.6666666666666666,
          0.73
         ],
         "matches": "x",
         "showticklabels": false,
         "title": {
          "text": ""
         }
        },
        "xaxis94": {
         "anchor": "y94",
         "domain": [
          0.75,
          0.8133333333333334
         ],
         "matches": "x",
         "showticklabels": false,
         "title": {
          "text": ""
         }
        },
        "xaxis95": {
         "anchor": "y95",
         "domain": [
          0.8333333333333333,
          0.8966666666666666
         ],
         "matches": "x",
         "showticklabels": false,
         "title": {
          "text": ""
         }
        },
        "xaxis96": {
         "anchor": "y96",
         "domain": [
          0.9166666666666665,
          0.9799999999999999
         ],
         "matches": "x",
         "showticklabels": false,
         "title": {
          "text": ""
         }
        },
        "yaxis": {
         "anchor": "x",
         "domain": [
          0,
          0.09875
         ],
         "range": [
          2.7,
          454.3
         ],
         "title": {
          "text": ""
         }
        },
        "yaxis10": {
         "anchor": "x10",
         "domain": [
          0,
          0.09875
         ],
         "matches": "y",
         "showticklabels": false,
         "title": {
          "text": ""
         }
        },
        "yaxis11": {
         "anchor": "x11",
         "domain": [
          0,
          0.09875
         ],
         "matches": "y",
         "showticklabels": false,
         "title": {
          "text": ""
         }
        },
        "yaxis12": {
         "anchor": "x12",
         "domain": [
          0,
          0.09875
         ],
         "matches": "y",
         "showticklabels": false,
         "title": {
          "text": ""
         }
        },
        "yaxis13": {
         "anchor": "x13",
         "domain": [
          0.12875,
          0.2275
         ],
         "matches": "y",
         "title": {
          "text": ""
         }
        },
        "yaxis14": {
         "anchor": "x14",
         "domain": [
          0.12875,
          0.2275
         ],
         "matches": "y",
         "showticklabels": false,
         "title": {
          "text": ""
         }
        },
        "yaxis15": {
         "anchor": "x15",
         "domain": [
          0.12875,
          0.2275
         ],
         "matches": "y",
         "showticklabels": false,
         "title": {
          "text": ""
         }
        },
        "yaxis16": {
         "anchor": "x16",
         "domain": [
          0.12875,
          0.2275
         ],
         "matches": "y",
         "showticklabels": false,
         "title": {
          "text": ""
         }
        },
        "yaxis17": {
         "anchor": "x17",
         "domain": [
          0.12875,
          0.2275
         ],
         "matches": "y",
         "showticklabels": false,
         "title": {
          "text": ""
         }
        },
        "yaxis18": {
         "anchor": "x18",
         "domain": [
          0.12875,
          0.2275
         ],
         "matches": "y",
         "showticklabels": false,
         "title": {
          "text": ""
         }
        },
        "yaxis19": {
         "anchor": "x19",
         "domain": [
          0.12875,
          0.2275
         ],
         "matches": "y",
         "showticklabels": false,
         "title": {
          "text": ""
         }
        },
        "yaxis2": {
         "anchor": "x2",
         "domain": [
          0,
          0.09875
         ],
         "matches": "y",
         "showticklabels": false,
         "title": {
          "text": ""
         }
        },
        "yaxis20": {
         "anchor": "x20",
         "domain": [
          0.12875,
          0.2275
         ],
         "matches": "y",
         "showticklabels": false,
         "title": {
          "text": ""
         }
        },
        "yaxis21": {
         "anchor": "x21",
         "domain": [
          0.12875,
          0.2275
         ],
         "matches": "y",
         "showticklabels": false,
         "title": {
          "text": ""
         }
        },
        "yaxis22": {
         "anchor": "x22",
         "domain": [
          0.12875,
          0.2275
         ],
         "matches": "y",
         "showticklabels": false,
         "title": {
          "text": ""
         }
        },
        "yaxis23": {
         "anchor": "x23",
         "domain": [
          0.12875,
          0.2275
         ],
         "matches": "y",
         "showticklabels": false,
         "title": {
          "text": ""
         }
        },
        "yaxis24": {
         "anchor": "x24",
         "domain": [
          0.12875,
          0.2275
         ],
         "matches": "y",
         "showticklabels": false,
         "title": {
          "text": ""
         }
        },
        "yaxis25": {
         "anchor": "x25",
         "domain": [
          0.2575,
          0.35625
         ],
         "matches": "y",
         "title": {
          "text": ""
         }
        },
        "yaxis26": {
         "anchor": "x26",
         "domain": [
          0.2575,
          0.35625
         ],
         "matches": "y",
         "showticklabels": false,
         "title": {
          "text": ""
         }
        },
        "yaxis27": {
         "anchor": "x27",
         "domain": [
          0.2575,
          0.35625
         ],
         "matches": "y",
         "showticklabels": false,
         "title": {
          "text": ""
         }
        },
        "yaxis28": {
         "anchor": "x28",
         "domain": [
          0.2575,
          0.35625
         ],
         "matches": "y",
         "showticklabels": false,
         "title": {
          "text": ""
         }
        },
        "yaxis29": {
         "anchor": "x29",
         "domain": [
          0.2575,
          0.35625
         ],
         "matches": "y",
         "showticklabels": false,
         "title": {
          "text": ""
         }
        },
        "yaxis3": {
         "anchor": "x3",
         "domain": [
          0,
          0.09875
         ],
         "matches": "y",
         "showticklabels": false,
         "title": {
          "text": ""
         }
        },
        "yaxis30": {
         "anchor": "x30",
         "domain": [
          0.2575,
          0.35625
         ],
         "matches": "y",
         "showticklabels": false,
         "title": {
          "text": ""
         }
        },
        "yaxis31": {
         "anchor": "x31",
         "domain": [
          0.2575,
          0.35625
         ],
         "matches": "y",
         "showticklabels": false,
         "title": {
          "text": ""
         }
        },
        "yaxis32": {
         "anchor": "x32",
         "domain": [
          0.2575,
          0.35625
         ],
         "matches": "y",
         "showticklabels": false,
         "title": {
          "text": ""
         }
        },
        "yaxis33": {
         "anchor": "x33",
         "domain": [
          0.2575,
          0.35625
         ],
         "matches": "y",
         "showticklabels": false,
         "title": {
          "text": ""
         }
        },
        "yaxis34": {
         "anchor": "x34",
         "domain": [
          0.2575,
          0.35625
         ],
         "matches": "y",
         "showticklabels": false,
         "title": {
          "text": ""
         }
        },
        "yaxis35": {
         "anchor": "x35",
         "domain": [
          0.2575,
          0.35625
         ],
         "matches": "y",
         "showticklabels": false,
         "title": {
          "text": ""
         }
        },
        "yaxis36": {
         "anchor": "x36",
         "domain": [
          0.2575,
          0.35625
         ],
         "matches": "y",
         "showticklabels": false,
         "title": {
          "text": ""
         }
        },
        "yaxis37": {
         "anchor": "x37",
         "domain": [
          0.38625,
          0.485
         ],
         "matches": "y",
         "title": {
          "text": ""
         }
        },
        "yaxis38": {
         "anchor": "x38",
         "domain": [
          0.38625,
          0.485
         ],
         "matches": "y",
         "showticklabels": false,
         "title": {
          "text": ""
         }
        },
        "yaxis39": {
         "anchor": "x39",
         "domain": [
          0.38625,
          0.485
         ],
         "matches": "y",
         "showticklabels": false,
         "title": {
          "text": ""
         }
        },
        "yaxis4": {
         "anchor": "x4",
         "domain": [
          0,
          0.09875
         ],
         "matches": "y",
         "showticklabels": false,
         "title": {
          "text": ""
         }
        },
        "yaxis40": {
         "anchor": "x40",
         "domain": [
          0.38625,
          0.485
         ],
         "matches": "y",
         "showticklabels": false,
         "title": {
          "text": ""
         }
        },
        "yaxis41": {
         "anchor": "x41",
         "domain": [
          0.38625,
          0.485
         ],
         "matches": "y",
         "showticklabels": false,
         "title": {
          "text": ""
         }
        },
        "yaxis42": {
         "anchor": "x42",
         "domain": [
          0.38625,
          0.485
         ],
         "matches": "y",
         "showticklabels": false,
         "title": {
          "text": ""
         }
        },
        "yaxis43": {
         "anchor": "x43",
         "domain": [
          0.38625,
          0.485
         ],
         "matches": "y",
         "showticklabels": false,
         "title": {
          "text": ""
         }
        },
        "yaxis44": {
         "anchor": "x44",
         "domain": [
          0.38625,
          0.485
         ],
         "matches": "y",
         "showticklabels": false,
         "title": {
          "text": ""
         }
        },
        "yaxis45": {
         "anchor": "x45",
         "domain": [
          0.38625,
          0.485
         ],
         "matches": "y",
         "showticklabels": false,
         "title": {
          "text": ""
         }
        },
        "yaxis46": {
         "anchor": "x46",
         "domain": [
          0.38625,
          0.485
         ],
         "matches": "y",
         "showticklabels": false,
         "title": {
          "text": ""
         }
        },
        "yaxis47": {
         "anchor": "x47",
         "domain": [
          0.38625,
          0.485
         ],
         "matches": "y",
         "showticklabels": false,
         "title": {
          "text": ""
         }
        },
        "yaxis48": {
         "anchor": "x48",
         "domain": [
          0.38625,
          0.485
         ],
         "matches": "y",
         "showticklabels": false,
         "title": {
          "text": ""
         }
        },
        "yaxis49": {
         "anchor": "x49",
         "domain": [
          0.515,
          0.61375
         ],
         "matches": "y",
         "title": {
          "text": ""
         }
        },
        "yaxis5": {
         "anchor": "x5",
         "domain": [
          0,
          0.09875
         ],
         "matches": "y",
         "showticklabels": false,
         "title": {
          "text": ""
         }
        },
        "yaxis50": {
         "anchor": "x50",
         "domain": [
          0.515,
          0.61375
         ],
         "matches": "y",
         "showticklabels": false,
         "title": {
          "text": ""
         }
        },
        "yaxis51": {
         "anchor": "x51",
         "domain": [
          0.515,
          0.61375
         ],
         "matches": "y",
         "showticklabels": false,
         "title": {
          "text": ""
         }
        },
        "yaxis52": {
         "anchor": "x52",
         "domain": [
          0.515,
          0.61375
         ],
         "matches": "y",
         "showticklabels": false,
         "title": {
          "text": ""
         }
        },
        "yaxis53": {
         "anchor": "x53",
         "domain": [
          0.515,
          0.61375
         ],
         "matches": "y",
         "showticklabels": false,
         "title": {
          "text": ""
         }
        },
        "yaxis54": {
         "anchor": "x54",
         "domain": [
          0.515,
          0.61375
         ],
         "matches": "y",
         "showticklabels": false,
         "title": {
          "text": ""
         }
        },
        "yaxis55": {
         "anchor": "x55",
         "domain": [
          0.515,
          0.61375
         ],
         "matches": "y",
         "showticklabels": false,
         "title": {
          "text": ""
         }
        },
        "yaxis56": {
         "anchor": "x56",
         "domain": [
          0.515,
          0.61375
         ],
         "matches": "y",
         "showticklabels": false,
         "title": {
          "text": ""
         }
        },
        "yaxis57": {
         "anchor": "x57",
         "domain": [
          0.515,
          0.61375
         ],
         "matches": "y",
         "showticklabels": false,
         "title": {
          "text": ""
         }
        },
        "yaxis58": {
         "anchor": "x58",
         "domain": [
          0.515,
          0.61375
         ],
         "matches": "y",
         "showticklabels": false,
         "title": {
          "text": ""
         }
        },
        "yaxis59": {
         "anchor": "x59",
         "domain": [
          0.515,
          0.61375
         ],
         "matches": "y",
         "showticklabels": false,
         "title": {
          "text": ""
         }
        },
        "yaxis6": {
         "anchor": "x6",
         "domain": [
          0,
          0.09875
         ],
         "matches": "y",
         "showticklabels": false,
         "title": {
          "text": ""
         }
        },
        "yaxis60": {
         "anchor": "x60",
         "domain": [
          0.515,
          0.61375
         ],
         "matches": "y",
         "showticklabels": false,
         "title": {
          "text": ""
         }
        },
        "yaxis61": {
         "anchor": "x61",
         "domain": [
          0.64375,
          0.7425
         ],
         "matches": "y",
         "title": {
          "text": ""
         }
        },
        "yaxis62": {
         "anchor": "x62",
         "domain": [
          0.64375,
          0.7425
         ],
         "matches": "y",
         "showticklabels": false,
         "title": {
          "text": ""
         }
        },
        "yaxis63": {
         "anchor": "x63",
         "domain": [
          0.64375,
          0.7425
         ],
         "matches": "y",
         "showticklabels": false,
         "title": {
          "text": ""
         }
        },
        "yaxis64": {
         "anchor": "x64",
         "domain": [
          0.64375,
          0.7425
         ],
         "matches": "y",
         "showticklabels": false,
         "title": {
          "text": ""
         }
        },
        "yaxis65": {
         "anchor": "x65",
         "domain": [
          0.64375,
          0.7425
         ],
         "matches": "y",
         "showticklabels": false,
         "title": {
          "text": ""
         }
        },
        "yaxis66": {
         "anchor": "x66",
         "domain": [
          0.64375,
          0.7425
         ],
         "matches": "y",
         "showticklabels": false,
         "title": {
          "text": ""
         }
        },
        "yaxis67": {
         "anchor": "x67",
         "domain": [
          0.64375,
          0.7425
         ],
         "matches": "y",
         "showticklabels": false,
         "title": {
          "text": ""
         }
        },
        "yaxis68": {
         "anchor": "x68",
         "domain": [
          0.64375,
          0.7425
         ],
         "matches": "y",
         "showticklabels": false,
         "title": {
          "text": ""
         }
        },
        "yaxis69": {
         "anchor": "x69",
         "domain": [
          0.64375,
          0.7425
         ],
         "matches": "y",
         "showticklabels": false,
         "title": {
          "text": ""
         }
        },
        "yaxis7": {
         "anchor": "x7",
         "domain": [
          0,
          0.09875
         ],
         "matches": "y",
         "showticklabels": false,
         "title": {
          "text": ""
         }
        },
        "yaxis70": {
         "anchor": "x70",
         "domain": [
          0.64375,
          0.7425
         ],
         "matches": "y",
         "showticklabels": false,
         "title": {
          "text": ""
         }
        },
        "yaxis71": {
         "anchor": "x71",
         "domain": [
          0.64375,
          0.7425
         ],
         "matches": "y",
         "showticklabels": false,
         "title": {
          "text": ""
         }
        },
        "yaxis72": {
         "anchor": "x72",
         "domain": [
          0.64375,
          0.7425
         ],
         "matches": "y",
         "showticklabels": false,
         "title": {
          "text": ""
         }
        },
        "yaxis73": {
         "anchor": "x73",
         "domain": [
          0.7725,
          0.87125
         ],
         "matches": "y",
         "title": {
          "text": ""
         }
        },
        "yaxis74": {
         "anchor": "x74",
         "domain": [
          0.7725,
          0.87125
         ],
         "matches": "y",
         "showticklabels": false,
         "title": {
          "text": ""
         }
        },
        "yaxis75": {
         "anchor": "x75",
         "domain": [
          0.7725,
          0.87125
         ],
         "matches": "y",
         "showticklabels": false,
         "title": {
          "text": ""
         }
        },
        "yaxis76": {
         "anchor": "x76",
         "domain": [
          0.7725,
          0.87125
         ],
         "matches": "y",
         "showticklabels": false,
         "title": {
          "text": ""
         }
        },
        "yaxis77": {
         "anchor": "x77",
         "domain": [
          0.7725,
          0.87125
         ],
         "matches": "y",
         "showticklabels": false,
         "title": {
          "text": ""
         }
        },
        "yaxis78": {
         "anchor": "x78",
         "domain": [
          0.7725,
          0.87125
         ],
         "matches": "y",
         "showticklabels": false,
         "title": {
          "text": ""
         }
        },
        "yaxis79": {
         "anchor": "x79",
         "domain": [
          0.7725,
          0.87125
         ],
         "matches": "y",
         "showticklabels": false,
         "title": {
          "text": ""
         }
        },
        "yaxis8": {
         "anchor": "x8",
         "domain": [
          0,
          0.09875
         ],
         "matches": "y",
         "showticklabels": false,
         "title": {
          "text": ""
         }
        },
        "yaxis80": {
         "anchor": "x80",
         "domain": [
          0.7725,
          0.87125
         ],
         "matches": "y",
         "showticklabels": false,
         "title": {
          "text": ""
         }
        },
        "yaxis81": {
         "anchor": "x81",
         "domain": [
          0.7725,
          0.87125
         ],
         "matches": "y",
         "showticklabels": false,
         "title": {
          "text": ""
         }
        },
        "yaxis82": {
         "anchor": "x82",
         "domain": [
          0.7725,
          0.87125
         ],
         "matches": "y",
         "showticklabels": false,
         "title": {
          "text": ""
         }
        },
        "yaxis83": {
         "anchor": "x83",
         "domain": [
          0.7725,
          0.87125
         ],
         "matches": "y",
         "showticklabels": false,
         "title": {
          "text": ""
         }
        },
        "yaxis84": {
         "anchor": "x84",
         "domain": [
          0.7725,
          0.87125
         ],
         "matches": "y",
         "showticklabels": false,
         "title": {
          "text": ""
         }
        },
        "yaxis85": {
         "anchor": "x85",
         "domain": [
          0.90125,
          1
         ],
         "matches": "y",
         "title": {
          "text": ""
         }
        },
        "yaxis86": {
         "anchor": "x86",
         "domain": [
          0.90125,
          1
         ],
         "matches": "y",
         "showticklabels": false,
         "title": {
          "text": ""
         }
        },
        "yaxis87": {
         "anchor": "x87",
         "domain": [
          0.90125,
          1
         ],
         "matches": "y",
         "showticklabels": false,
         "title": {
          "text": ""
         }
        },
        "yaxis88": {
         "anchor": "x88",
         "domain": [
          0.90125,
          1
         ],
         "matches": "y",
         "showticklabels": false,
         "title": {
          "text": ""
         }
        },
        "yaxis89": {
         "anchor": "x89",
         "domain": [
          0.90125,
          1
         ],
         "matches": "y",
         "showticklabels": false,
         "title": {
          "text": ""
         }
        },
        "yaxis9": {
         "anchor": "x9",
         "domain": [
          0,
          0.09875
         ],
         "matches": "y",
         "showticklabels": false,
         "title": {
          "text": ""
         }
        },
        "yaxis90": {
         "anchor": "x90",
         "domain": [
          0.90125,
          1
         ],
         "matches": "y",
         "showticklabels": false,
         "title": {
          "text": ""
         }
        },
        "yaxis91": {
         "anchor": "x91",
         "domain": [
          0.90125,
          1
         ],
         "matches": "y",
         "showticklabels": false,
         "title": {
          "text": ""
         }
        },
        "yaxis92": {
         "anchor": "x92",
         "domain": [
          0.90125,
          1
         ],
         "matches": "y",
         "showticklabels": false,
         "title": {
          "text": ""
         }
        },
        "yaxis93": {
         "anchor": "x93",
         "domain": [
          0.90125,
          1
         ],
         "matches": "y",
         "showticklabels": false,
         "title": {
          "text": ""
         }
        },
        "yaxis94": {
         "anchor": "x94",
         "domain": [
          0.90125,
          1
         ],
         "matches": "y",
         "showticklabels": false,
         "title": {
          "text": ""
         }
        },
        "yaxis95": {
         "anchor": "x95",
         "domain": [
          0.90125,
          1
         ],
         "matches": "y",
         "showticklabels": false,
         "title": {
          "text": ""
         }
        },
        "yaxis96": {
         "anchor": "x96",
         "domain": [
          0.90125,
          1
         ],
         "matches": "y",
         "showticklabels": false,
         "title": {
          "text": ""
         }
        }
       }
      }
     },
     "metadata": {},
     "output_type": "display_data"
    }
   ],
   "source": [
    "fig_list = glo.view_96well_curve(x_by = 'Time', \n",
    "                                 y_by = 'value',\n",
    "                                 facet_col_by = 'Column', facet_row_by = 'Row',\n",
    "                                 facet_col_spacing=0, facet_row_spacing=0,\n",
    "                                 n_facet_col_wrap = 12)\n",
    "for i in fig_list:\n",
    "    i.show()"
   ]
  },
  {
   "cell_type": "markdown",
   "id": "0b0cd249",
   "metadata": {},
   "source": [
    "#### Set up plate transfection scheme "
   ]
  },
  {
   "cell_type": "code",
   "execution_count": 6,
   "id": "0921e284",
   "metadata": {},
   "outputs": [],
   "source": [
    "\"\"\"\n",
    "In the following chunk label your 96-well Plate based on the transfected schema\n",
    "\"\"\"\n",
    "glo.data.loc[(glo.data.Column.isin([1,2,3,4])), 'Odor'] = 'Odor_1'\n",
    "glo.data.loc[(glo.data.Column.isin([5,6,7,8,9,10,11,12])), 'Odor'] = 'Odor2'\n",
    "\n",
    "glo.data.loc[(glo.data.Column.isin([1])), 'Group'] = 'A'\n",
    "glo.data.loc[(glo.data.Column.isin([2])), 'Group'] = 'B'\n",
    "glo.data.loc[(glo.data.Column.isin([3])), 'Group'] = 'C'\n",
    "glo.data.loc[(glo.data.Column.isin([4])), 'Group'] = 'D'\n",
    "\n",
    "\n",
    "glo.data.loc[(glo.data.Row.isin(['A','B'])), 'Odor_conc'] = 100\n",
    "glo.data.loc[(glo.data.Row.isin(['C','D'])), 'Odor_conc'] = 10\n",
    "glo.data.loc[(glo.data.Row.isin(['E','F'])), 'Odor_conc'] = 1\n",
    "glo.data.loc[(glo.data.Row.isin(['G','H'])), 'Odor_conc'] = 0\n",
    "\n",
    "glo.data = glo.data.dropna()"
   ]
  },
  {
   "cell_type": "code",
   "execution_count": 5,
   "id": "5d047822",
   "metadata": {},
   "outputs": [],
   "source": [
    "# save data \n",
    "# glo.data.to_csv(file_extension+'.csv', index = 0)\n",
    "# glo.data = pd.read_csv(file_extension+'.csv')"
   ]
  },
  {
   "cell_type": "markdown",
   "id": "6dd1944d",
   "metadata": {},
   "source": [
    "#### Normalize and generate dataframes for plotting "
   ]
  },
  {
   "cell_type": "code",
   "execution_count": 7,
   "id": "111cb0aa",
   "metadata": {},
   "outputs": [],
   "source": [
    "# Raw data dataframes \n",
    "melted_data, \\\n",
    "    AUC_data, \\\n",
    "        slope_data = glo.get_melted_AUC_slope_data(group_col = ['Odor', 'Group', 'Odor_conc'], \n",
    "                                                                  slope_AUC_time = [0,3],\n",
    "                                                                  data = glo.data)"
   ]
  },
  {
   "cell_type": "code",
   "execution_count": 8,
   "id": "fa11f729",
   "metadata": {},
   "outputs": [
    {
     "name": "stdout",
     "output_type": "stream",
     "text": [
      "data normalized by Time_1 with divide\n"
     ]
    }
   ],
   "source": [
    "# Normalize by Time_0 Usage\n",
    "t_norm_data = glo.normalize_by_t(data = glo.data, \n",
    "                                 how = 'divide',\n",
    "                                by_time = 1)\n",
    "t_norm_melted_data, \\\n",
    "    t_norm_AUC_data, \\\n",
    "        t_norm_slope_data = glo.get_melted_AUC_slope_data(group_col = ['Odor', 'Group', 'Odor_conc'], \n",
    "                                                                  slope_AUC_time = [0,3],\n",
    "                                                                  data = t_norm_data)"
   ]
  },
  {
   "cell_type": "code",
   "execution_count": null,
   "id": "60d8c331",
   "metadata": {},
   "outputs": [],
   "source": [
    "# save data_summary \n",
    "# glo.melted_data.to_csv(file_extension+'_summary.csv')\n",
    "# glo.melted_data = pd.read_csv(file_extension+'_summary.csv', index_col=0)"
   ]
  },
  {
   "cell_type": "markdown",
   "id": "4a44ac8f",
   "metadata": {},
   "source": [
    "#### Raw scatter plot raw values"
   ]
  },
  {
   "cell_type": "code",
   "execution_count": 9,
   "id": "30a31d26",
   "metadata": {},
   "outputs": [
    {
     "data": {
      "application/vnd.plotly.v1+json": {
       "config": {
        "plotlyServerURL": "https://plot.ly"
       },
       "data": [
        {
         "error_y": {
          "array": [
           17.67766952966369,
           17.67766952966369,
           2.1213203435596424,
           2.1213203435596424,
           0.7071067811865476,
           0.7071067811865476,
           2.1213203435596424,
           2.1213203435596424,
           11.313708498984761,
           11.313708498984761,
           4.242640687119285,
           4.242640687119285,
           4.242640687119285,
           4.242640687119285,
           12.727922061357855,
           12.727922061357855,
           4.242640687119285,
           4.242640687119285,
           6.363961030678928,
           6.363961030678928,
           4.949747468305833,
           4.949747468305833
          ]
         },
         "hovertemplate": "Odor_conc=100.0<br>Group=A<br>Time=%{x}<br>mean=%{y}<extra></extra>",
         "legendgroup": "100.0",
         "line": {
          "color": "#FFA15A",
          "dash": "solid"
         },
         "marker": {
          "symbol": "circle"
         },
         "mode": "lines",
         "name": "100.0",
         "orientation": "v",
         "showlegend": true,
         "type": "scatter",
         "x": [
          0,
          0,
          1,
          1,
          2,
          2,
          3,
          3,
          4,
          4,
          5,
          5,
          6,
          6,
          7,
          7,
          8,
          8,
          9,
          9,
          10,
          10
         ],
         "xaxis": "x",
         "y": [
          37.5,
          37.5,
          36.5,
          36.5,
          17.5,
          17.5,
          13.5,
          13.5,
          15,
          15,
          13,
          13,
          13,
          13,
          27,
          27,
          18,
          18,
          21.5,
          21.5,
          8.5,
          8.5
         ],
         "yaxis": "y"
        },
        {
         "error_y": {
          "array": [
           17.67766952966369,
           17.67766952966369,
           23.33452377915607,
           23.33452377915607,
           45.96194077712559,
           45.96194077712559,
           56.568542494923804,
           56.568542494923804,
           34.64823227814083,
           34.64823227814083,
           0.7071067811865476,
           0.7071067811865476,
           26.16295090390226,
           26.16295090390226,
           28.991378028648448,
           28.991378028648448,
           28.284271247461902,
           28.284271247461902,
           17.67766952966369,
           17.67766952966369,
           14.142135623730951,
           14.142135623730951
          ]
         },
         "hovertemplate": "Odor_conc=100.0<br>Group=B<br>Time=%{x}<br>mean=%{y}<extra></extra>",
         "legendgroup": "100.0",
         "line": {
          "color": "#FFA15A",
          "dash": "solid"
         },
         "marker": {
          "symbol": "circle"
         },
         "mode": "lines",
         "name": "100.0",
         "orientation": "v",
         "showlegend": false,
         "type": "scatter",
         "x": [
          0,
          0,
          1,
          1,
          2,
          2,
          3,
          3,
          4,
          4,
          5,
          5,
          6,
          6,
          7,
          7,
          8,
          8,
          9,
          9,
          10,
          10
         ],
         "xaxis": "x2",
         "y": [
          37.5,
          37.5,
          51.5,
          51.5,
          72.5,
          72.5,
          123,
          123,
          117.5,
          117.5,
          137.5,
          137.5,
          158.5,
          158.5,
          115.5,
          115.5,
          118,
          118,
          139.5,
          139.5,
          132,
          132
         ],
         "yaxis": "y2"
        },
        {
         "error_y": {
          "array": [
           53.033008588991066,
           53.033008588991066,
           6.363961030678928,
           6.363961030678928,
           2.1213203435596424,
           2.1213203435596424,
           12.020815280171307,
           12.020815280171307,
           7.0710678118654755,
           7.0710678118654755,
           3.5355339059327378,
           3.5355339059327378,
           4.949747468305833,
           4.949747468305833,
           12.727922061357855,
           12.727922061357855,
           7.0710678118654755,
           7.0710678118654755,
           1.4142135623730951,
           1.4142135623730951,
           1.4142135623730951,
           1.4142135623730951
          ]
         },
         "hovertemplate": "Odor_conc=100.0<br>Group=C<br>Time=%{x}<br>mean=%{y}<extra></extra>",
         "legendgroup": "100.0",
         "line": {
          "color": "#FFA15A",
          "dash": "solid"
         },
         "marker": {
          "symbol": "circle"
         },
         "mode": "lines",
         "name": "100.0",
         "orientation": "v",
         "showlegend": false,
         "type": "scatter",
         "x": [
          0,
          0,
          1,
          1,
          2,
          2,
          3,
          3,
          4,
          4,
          5,
          5,
          6,
          6,
          7,
          7,
          8,
          8,
          9,
          9,
          10,
          10
         ],
         "xaxis": "x3",
         "y": [
          62.5,
          62.5,
          21.5,
          21.5,
          16.5,
          16.5,
          19.5,
          19.5,
          17,
          17,
          27.5,
          27.5,
          21.5,
          21.5,
          31,
          31,
          23,
          23,
          36,
          36,
          16,
          16
         ],
         "yaxis": "y3"
        },
        {
         "error_y": {
          "array": [
           88.38834764831844,
           88.38834764831844,
           14.142135623730951,
           14.142135623730951,
           14.142135623730951,
           14.142135623730951,
           0.7071067811865476,
           0.7071067811865476,
           26.870057685088806,
           26.870057685088806,
           36.76955262170047,
           36.76955262170047,
           83.43860018001261,
           83.43860018001261,
           35.35533905932738,
           35.35533905932738,
           0,
           0,
           67.17514421272202,
           67.17514421272202,
           92.63098833543772,
           92.63098833543772
          ]
         },
         "hovertemplate": "Odor_conc=100.0<br>Group=D<br>Time=%{x}<br>mean=%{y}<extra></extra>",
         "legendgroup": "100.0",
         "line": {
          "color": "#FFA15A",
          "dash": "solid"
         },
         "marker": {
          "symbol": "circle"
         },
         "mode": "lines",
         "name": "100.0",
         "orientation": "v",
         "showlegend": false,
         "type": "scatter",
         "x": [
          0,
          0,
          1,
          1,
          2,
          2,
          3,
          3,
          4,
          4,
          5,
          5,
          6,
          6,
          7,
          7,
          8,
          8,
          9,
          9,
          10,
          10
         ],
         "xaxis": "x4",
         "y": [
          112.5,
          112.5,
          53,
          53,
          111,
          111,
          116.5,
          116.5,
          207,
          207,
          274,
          274,
          291,
          291,
          235,
          235,
          248,
          248,
          303.5,
          303.5,
          347.5,
          347.5
         ],
         "yaxis": "y4"
        },
        {
         "error_y": {
          "array": [
           0,
           0,
           9.192388155425117,
           9.192388155425117,
           6.363961030678928,
           6.363961030678928,
           2.8284271247461903,
           2.8284271247461903,
           2.8284271247461903,
           2.8284271247461903,
           9.192388155425117,
           9.192388155425117,
           6.363961030678928,
           6.363961030678928,
           5.656854249492381,
           5.656854249492381,
           10.606601717798213,
           10.606601717798213,
           3.5355339059327378,
           3.5355339059327378,
           3.5355339059327378,
           3.5355339059327378
          ]
         },
         "hovertemplate": "Odor_conc=10.0<br>Group=A<br>Time=%{x}<br>mean=%{y}<extra></extra>",
         "legendgroup": "10.0",
         "line": {
          "color": "#19d3f3",
          "dash": "solid"
         },
         "marker": {
          "symbol": "circle"
         },
         "mode": "lines",
         "name": "10.0",
         "orientation": "v",
         "showlegend": true,
         "type": "scatter",
         "x": [
          0,
          0,
          1,
          1,
          2,
          2,
          3,
          3,
          4,
          4,
          5,
          5,
          6,
          6,
          7,
          7,
          8,
          8,
          9,
          9,
          10,
          10
         ],
         "xaxis": "x",
         "y": [
          25,
          25,
          14.5,
          14.5,
          26.5,
          26.5,
          5,
          5,
          19,
          19,
          16.5,
          16.5,
          11.5,
          11.5,
          22,
          22,
          23.5,
          23.5,
          15.5,
          15.5,
          9.5,
          9.5
         ],
         "yaxis": "y"
        },
        {
         "error_y": {
          "array": [
           17.67766952966369,
           17.67766952966369,
           5.656854249492381,
           5.656854249492381,
           8.48528137423857,
           8.48528137423857,
           24.041630560342615,
           24.041630560342615,
           12.020815280171307,
           12.020815280171307,
           3.5355339059327378,
           3.5355339059327378,
           38.18376618407357,
           38.18376618407357,
           9.899494936611665,
           9.899494936611665,
           17.67766952966369,
           17.67766952966369,
           2.8284271247461903,
           2.8284271247461903,
           50.91168824543142,
           50.91168824543142
          ]
         },
         "hovertemplate": "Odor_conc=10.0<br>Group=B<br>Time=%{x}<br>mean=%{y}<extra></extra>",
         "legendgroup": "10.0",
         "line": {
          "color": "#19d3f3",
          "dash": "solid"
         },
         "marker": {
          "symbol": "circle"
         },
         "mode": "lines",
         "name": "10.0",
         "orientation": "v",
         "showlegend": false,
         "type": "scatter",
         "x": [
          0,
          0,
          1,
          1,
          2,
          2,
          3,
          3,
          4,
          4,
          5,
          5,
          6,
          6,
          7,
          7,
          8,
          8,
          9,
          9,
          10,
          10
         ],
         "xaxis": "x2",
         "y": [
          112.5,
          112.5,
          31,
          31,
          66,
          66,
          73,
          73,
          108.5,
          108.5,
          84.5,
          84.5,
          105,
          105,
          108,
          108,
          133.5,
          133.5,
          105,
          105,
          111,
          111
         ],
         "yaxis": "y2"
        },
        {
         "error_y": {
          "array": [
           35.35533905932738,
           35.35533905932738,
           3.5355339059327378,
           3.5355339059327378,
           12.727922061357855,
           12.727922061357855,
           7.7781745930520225,
           7.7781745930520225,
           2.8284271247461903,
           2.8284271247461903,
           20.506096654409877,
           20.506096654409877,
           11.313708498984761,
           11.313708498984761,
           21.213203435596427,
           21.213203435596427,
           12.727922061357855,
           12.727922061357855,
           4.949747468305833,
           4.949747468305833,
           12.020815280171307,
           12.020815280171307
          ]
         },
         "hovertemplate": "Odor_conc=10.0<br>Group=C<br>Time=%{x}<br>mean=%{y}<extra></extra>",
         "legendgroup": "10.0",
         "line": {
          "color": "#19d3f3",
          "dash": "solid"
         },
         "marker": {
          "symbol": "circle"
         },
         "mode": "lines",
         "name": "10.0",
         "orientation": "v",
         "showlegend": false,
         "type": "scatter",
         "x": [
          0,
          0,
          1,
          1,
          2,
          2,
          3,
          3,
          4,
          4,
          5,
          5,
          6,
          6,
          7,
          7,
          8,
          8,
          9,
          9,
          10,
          10
         ],
         "xaxis": "x3",
         "y": [
          50,
          50,
          28.5,
          28.5,
          29,
          29,
          12.5,
          12.5,
          24,
          24,
          35.5,
          35.5,
          20,
          20,
          32,
          32,
          24,
          24,
          23.5,
          23.5,
          34.5,
          34.5
         ],
         "yaxis": "y3"
        },
        {
         "error_y": {
          "array": [
           35.35533905932738,
           35.35533905932738,
           19.091883092036785,
           19.091883092036785,
           20.506096654409877,
           20.506096654409877,
           9.899494936611665,
           9.899494936611665,
           27.577164466275352,
           27.577164466275352,
           28.284271247461902,
           28.284271247461902,
           2.1213203435596424,
           2.1213203435596424,
           28.991378028648448,
           28.991378028648448,
           66.46803743153546,
           66.46803743153546,
           49.49747468305833,
           49.49747468305833,
           1.4142135623730951,
           1.4142135623730951
          ]
         },
         "hovertemplate": "Odor_conc=10.0<br>Group=D<br>Time=%{x}<br>mean=%{y}<extra></extra>",
         "legendgroup": "10.0",
         "line": {
          "color": "#19d3f3",
          "dash": "solid"
         },
         "marker": {
          "symbol": "circle"
         },
         "mode": "lines",
         "name": "10.0",
         "orientation": "v",
         "showlegend": false,
         "type": "scatter",
         "x": [
          0,
          0,
          1,
          1,
          2,
          2,
          3,
          3,
          4,
          4,
          5,
          5,
          6,
          6,
          7,
          7,
          8,
          8,
          9,
          9,
          10,
          10
         ],
         "xaxis": "x4",
         "y": [
          125,
          125,
          68.5,
          68.5,
          82.5,
          82.5,
          105,
          105,
          142.5,
          142.5,
          163,
          163,
          149.5,
          149.5,
          181.5,
          181.5,
          159,
          159,
          173,
          173,
          216,
          216
         ],
         "yaxis": "y4"
        },
        {
         "error_y": {
          "array": [
           0,
           0,
           9.899494936611665,
           9.899494936611665,
           2.8284271247461903,
           2.8284271247461903,
           16.263455967290593,
           16.263455967290593,
           8.48528137423857,
           8.48528137423857,
           0,
           0,
           4.242640687119285,
           4.242640687119285,
           17.67766952966369,
           17.67766952966369,
           1.4142135623730951,
           1.4142135623730951,
           0.7071067811865476,
           0.7071067811865476,
           9.192388155425117,
           9.192388155425117
          ]
         },
         "hovertemplate": "Odor_conc=1.0<br>Group=A<br>Time=%{x}<br>mean=%{y}<extra></extra>",
         "legendgroup": "1.0",
         "line": {
          "color": "#FF6692",
          "dash": "solid"
         },
         "marker": {
          "symbol": "circle"
         },
         "mode": "lines",
         "name": "1.0",
         "orientation": "v",
         "showlegend": true,
         "type": "scatter",
         "x": [
          0,
          0,
          1,
          1,
          2,
          2,
          3,
          3,
          4,
          4,
          5,
          5,
          6,
          6,
          7,
          7,
          8,
          8,
          9,
          9,
          10,
          10
         ],
         "xaxis": "x",
         "y": [
          25,
          25,
          24,
          24,
          13,
          13,
          26.5,
          26.5,
          14,
          14,
          11,
          11,
          18,
          18,
          19.5,
          19.5,
          9,
          9,
          16.5,
          16.5,
          18.5,
          18.5
         ],
         "yaxis": "y"
        },
        {
         "error_y": {
          "array": [
           0,
           0,
           21.920310216782973,
           21.920310216782973,
           17.67766952966369,
           17.67766952966369,
           14.849242404917497,
           14.849242404917497,
           38.890872965260115,
           38.890872965260115,
           10.606601717798213,
           10.606601717798213,
           32.526911934581186,
           32.526911934581186,
           34.64823227814083,
           34.64823227814083,
           37.476659402887016,
           37.476659402887016,
           53.033008588991066,
           53.033008588991066,
           31.81980515339464,
           31.81980515339464
          ]
         },
         "hovertemplate": "Odor_conc=1.0<br>Group=B<br>Time=%{x}<br>mean=%{y}<extra></extra>",
         "legendgroup": "1.0",
         "line": {
          "color": "#FF6692",
          "dash": "solid"
         },
         "marker": {
          "symbol": "circle"
         },
         "mode": "lines",
         "name": "1.0",
         "orientation": "v",
         "showlegend": false,
         "type": "scatter",
         "x": [
          0,
          0,
          1,
          1,
          2,
          2,
          3,
          3,
          4,
          4,
          5,
          5,
          6,
          6,
          7,
          7,
          8,
          8,
          9,
          9,
          10,
          10
         ],
         "xaxis": "x2",
         "y": [
          25,
          25,
          51.5,
          51.5,
          35.5,
          35.5,
          35.5,
          35.5,
          130.5,
          130.5,
          54.5,
          54.5,
          63,
          63,
          72.5,
          72.5,
          66.5,
          66.5,
          73.5,
          73.5,
          50.5,
          50.5
         ],
         "yaxis": "y2"
        },
        {
         "error_y": {
          "array": [
           70.71067811865476,
           70.71067811865476,
           2.8284271247461903,
           2.8284271247461903,
           9.899494936611665,
           9.899494936611665,
           2.1213203435596424,
           2.1213203435596424,
           7.0710678118654755,
           7.0710678118654755,
           2.8284271247461903,
           2.8284271247461903,
           7.0710678118654755,
           7.0710678118654755,
           3.5355339059327378,
           3.5355339059327378,
           10.606601717798213,
           10.606601717798213,
           6.363961030678928,
           6.363961030678928,
           21.213203435596427,
           21.213203435596427
          ]
         },
         "hovertemplate": "Odor_conc=1.0<br>Group=C<br>Time=%{x}<br>mean=%{y}<extra></extra>",
         "legendgroup": "1.0",
         "line": {
          "color": "#FF6692",
          "dash": "solid"
         },
         "marker": {
          "symbol": "circle"
         },
         "mode": "lines",
         "name": "1.0",
         "orientation": "v",
         "showlegend": false,
         "type": "scatter",
         "x": [
          0,
          0,
          1,
          1,
          2,
          2,
          3,
          3,
          4,
          4,
          5,
          5,
          6,
          6,
          7,
          7,
          8,
          8,
          9,
          9,
          10,
          10
         ],
         "xaxis": "x3",
         "y": [
          75,
          75,
          19,
          19,
          20,
          20,
          11.5,
          11.5,
          18,
          18,
          18,
          18,
          15,
          15,
          12.5,
          12.5,
          28.5,
          28.5,
          16.5,
          16.5,
          22,
          22
         ],
         "yaxis": "y3"
        },
        {
         "error_y": {
          "array": [
           0,
           0,
           43.840620433565945,
           43.840620433565945,
           3.5355339059327378,
           3.5355339059327378,
           3.5355339059327378,
           3.5355339059327378,
           13.435028842544403,
           13.435028842544403,
           21.213203435596427,
           21.213203435596427,
           53.033008588991066,
           53.033008588991066,
           24.041630560342615,
           24.041630560342615,
           22.627416997969522,
           22.627416997969522,
           22.627416997969522,
           22.627416997969522,
           12.727922061357855,
           12.727922061357855
          ]
         },
         "hovertemplate": "Odor_conc=1.0<br>Group=D<br>Time=%{x}<br>mean=%{y}<extra></extra>",
         "legendgroup": "1.0",
         "line": {
          "color": "#FF6692",
          "dash": "solid"
         },
         "marker": {
          "symbol": "circle"
         },
         "mode": "lines",
         "name": "1.0",
         "orientation": "v",
         "showlegend": false,
         "type": "scatter",
         "x": [
          0,
          0,
          1,
          1,
          2,
          2,
          3,
          3,
          4,
          4,
          5,
          5,
          6,
          6,
          7,
          7,
          8,
          8,
          9,
          9,
          10,
          10
         ],
         "xaxis": "x4",
         "y": [
          25,
          25,
          72,
          72,
          48.5,
          48.5,
          74.5,
          74.5,
          75.5,
          75.5,
          102,
          102,
          144.5,
          144.5,
          135,
          135,
          111,
          111,
          134,
          134,
          99,
          99
         ],
         "yaxis": "y4"
        },
        {
         "error_y": {
          "array": [
           0,
           0,
           3.5355339059327378,
           3.5355339059327378,
           2.1213203435596424,
           2.1213203435596424,
           1.4142135623730951,
           1.4142135623730951,
           2.8284271247461903,
           2.8284271247461903,
           10.606601717798213,
           10.606601717798213,
           2.1213203435596424,
           2.1213203435596424,
           4.949747468305833,
           4.949747468305833,
           2.8284271247461903,
           2.8284271247461903,
           5.656854249492381,
           5.656854249492381,
           3.5355339059327378,
           3.5355339059327378
          ]
         },
         "hovertemplate": "Odor_conc=0.0<br>Group=A<br>Time=%{x}<br>mean=%{y}<extra></extra>",
         "legendgroup": "0.0",
         "line": {
          "color": "#B6E880",
          "dash": "solid"
         },
         "marker": {
          "symbol": "circle"
         },
         "mode": "lines",
         "name": "0.0",
         "orientation": "v",
         "showlegend": true,
         "type": "scatter",
         "x": [
          0,
          0,
          1,
          1,
          2,
          2,
          3,
          3,
          4,
          4,
          5,
          5,
          6,
          6,
          7,
          7,
          8,
          8,
          9,
          9,
          10,
          10
         ],
         "xaxis": "x",
         "y": [
          25,
          25,
          14.5,
          14.5,
          14.5,
          14.5,
          19,
          19,
          8,
          8,
          20.5,
          20.5,
          13.5,
          13.5,
          19.5,
          19.5,
          15,
          15,
          12,
          12,
          18.5,
          18.5
         ],
         "yaxis": "y"
        },
        {
         "error_y": {
          "array": [
           0,
           0,
           9.899494936611665,
           9.899494936611665,
           4.949747468305833,
           4.949747468305833,
           1.4142135623730951,
           1.4142135623730951,
           1.4142135623730951,
           1.4142135623730951,
           5.656854249492381,
           5.656854249492381,
           0,
           0,
           23.33452377915607,
           23.33452377915607,
           11.313708498984761,
           11.313708498984761,
           5.656854249492381,
           5.656854249492381,
           2.1213203435596424,
           2.1213203435596424
          ]
         },
         "hovertemplate": "Odor_conc=0.0<br>Group=B<br>Time=%{x}<br>mean=%{y}<extra></extra>",
         "legendgroup": "0.0",
         "line": {
          "color": "#B6E880",
          "dash": "solid"
         },
         "marker": {
          "symbol": "circle"
         },
         "mode": "lines",
         "name": "0.0",
         "orientation": "v",
         "showlegend": false,
         "type": "scatter",
         "x": [
          0,
          0,
          1,
          1,
          2,
          2,
          3,
          3,
          4,
          4,
          5,
          5,
          6,
          6,
          7,
          7,
          8,
          8,
          9,
          9,
          10,
          10
         ],
         "xaxis": "x2",
         "y": [
          25,
          25,
          28,
          28,
          33.5,
          33.5,
          36,
          36,
          52,
          52,
          32,
          32,
          32,
          32,
          33.5,
          33.5,
          29,
          29,
          32,
          32,
          28.5,
          28.5
         ],
         "yaxis": "y2"
        },
        {
         "error_y": {
          "array": [
           0,
           0,
           7.0710678118654755,
           7.0710678118654755,
           7.7781745930520225,
           7.7781745930520225,
           0.7071067811865476,
           0.7071067811865476,
           2.1213203435596424,
           2.1213203435596424,
           4.949747468305833,
           4.949747468305833,
           12.727922061357855,
           12.727922061357855,
           0.7071067811865476,
           0.7071067811865476,
           7.7781745930520225,
           7.7781745930520225,
           2.1213203435596424,
           2.1213203435596424,
           11.313708498984761,
           11.313708498984761
          ]
         },
         "hovertemplate": "Odor_conc=0.0<br>Group=C<br>Time=%{x}<br>mean=%{y}<extra></extra>",
         "legendgroup": "0.0",
         "line": {
          "color": "#B6E880",
          "dash": "solid"
         },
         "marker": {
          "symbol": "circle"
         },
         "mode": "lines",
         "name": "0.0",
         "orientation": "v",
         "showlegend": false,
         "type": "scatter",
         "x": [
          0,
          0,
          1,
          1,
          2,
          2,
          3,
          3,
          4,
          4,
          5,
          5,
          6,
          6,
          7,
          7,
          8,
          8,
          9,
          9,
          10,
          10
         ],
         "xaxis": "x3",
         "y": [
          25,
          25,
          21,
          21,
          20.5,
          20.5,
          21.5,
          21.5,
          16.5,
          16.5,
          14.5,
          14.5,
          17,
          17,
          17.5,
          17.5,
          17.5,
          17.5,
          18.5,
          18.5,
          18,
          18
         ],
         "yaxis": "y3"
        },
        {
         "error_y": {
          "array": [
           0,
           0,
           2.1213203435596424,
           2.1213203435596424,
           7.0710678118654755,
           7.0710678118654755,
           9.192388155425117,
           9.192388155425117,
           16.263455967290593,
           16.263455967290593,
           0,
           0,
           22.627416997969522,
           22.627416997969522,
           16.97056274847714,
           16.97056274847714,
           25.45584412271571,
           25.45584412271571,
           9.899494936611665,
           9.899494936611665,
           15.556349186104045,
           15.556349186104045
          ]
         },
         "hovertemplate": "Odor_conc=0.0<br>Group=D<br>Time=%{x}<br>mean=%{y}<extra></extra>",
         "legendgroup": "0.0",
         "line": {
          "color": "#B6E880",
          "dash": "solid"
         },
         "marker": {
          "symbol": "circle"
         },
         "mode": "lines",
         "name": "0.0",
         "orientation": "v",
         "showlegend": false,
         "type": "scatter",
         "x": [
          0,
          0,
          1,
          1,
          2,
          2,
          3,
          3,
          4,
          4,
          5,
          5,
          6,
          6,
          7,
          7,
          8,
          8,
          9,
          9,
          10,
          10
         ],
         "xaxis": "x4",
         "y": [
          25,
          25,
          63.5,
          63.5,
          62,
          62,
          68.5,
          68.5,
          63.5,
          63.5,
          37,
          37,
          44,
          44,
          48,
          48,
          55,
          55,
          53,
          53,
          46,
          46
         ],
         "yaxis": "y4"
        }
       ],
       "layout": {
        "annotations": [
         {
          "font": {},
          "showarrow": false,
          "text": "A",
          "x": 0.1175,
          "xanchor": "center",
          "xref": "paper",
          "y": 1,
          "yanchor": "bottom",
          "yref": "paper"
         },
         {
          "font": {},
          "showarrow": false,
          "text": "B",
          "x": 0.3725,
          "xanchor": "center",
          "xref": "paper",
          "y": 1,
          "yanchor": "bottom",
          "yref": "paper"
         },
         {
          "font": {},
          "showarrow": false,
          "text": "C",
          "x": 0.6275,
          "xanchor": "center",
          "xref": "paper",
          "y": 1,
          "yanchor": "bottom",
          "yref": "paper"
         },
         {
          "font": {},
          "showarrow": false,
          "text": "D",
          "x": 0.8824999999999998,
          "xanchor": "center",
          "xref": "paper",
          "y": 1,
          "yanchor": "bottom",
          "yref": "paper"
         }
        ],
        "legend": {
         "title": {
          "text": "Odor_conc"
         },
         "tracegroupgap": 0
        },
        "margin": {
         "t": 60
        },
        "template": {
         "data": {
          "bar": [
           {
            "error_x": {
             "color": "#2a3f5f"
            },
            "error_y": {
             "color": "#2a3f5f"
            },
            "marker": {
             "line": {
              "color": "#E5ECF6",
              "width": 0.5
             },
             "pattern": {
              "fillmode": "overlay",
              "size": 10,
              "solidity": 0.2
             }
            },
            "type": "bar"
           }
          ],
          "barpolar": [
           {
            "marker": {
             "line": {
              "color": "#E5ECF6",
              "width": 0.5
             },
             "pattern": {
              "fillmode": "overlay",
              "size": 10,
              "solidity": 0.2
             }
            },
            "type": "barpolar"
           }
          ],
          "carpet": [
           {
            "aaxis": {
             "endlinecolor": "#2a3f5f",
             "gridcolor": "white",
             "linecolor": "white",
             "minorgridcolor": "white",
             "startlinecolor": "#2a3f5f"
            },
            "baxis": {
             "endlinecolor": "#2a3f5f",
             "gridcolor": "white",
             "linecolor": "white",
             "minorgridcolor": "white",
             "startlinecolor": "#2a3f5f"
            },
            "type": "carpet"
           }
          ],
          "choropleth": [
           {
            "colorbar": {
             "outlinewidth": 0,
             "ticks": ""
            },
            "type": "choropleth"
           }
          ],
          "contour": [
           {
            "colorbar": {
             "outlinewidth": 0,
             "ticks": ""
            },
            "colorscale": [
             [
              0,
              "#0d0887"
             ],
             [
              0.1111111111111111,
              "#46039f"
             ],
             [
              0.2222222222222222,
              "#7201a8"
             ],
             [
              0.3333333333333333,
              "#9c179e"
             ],
             [
              0.4444444444444444,
              "#bd3786"
             ],
             [
              0.5555555555555556,
              "#d8576b"
             ],
             [
              0.6666666666666666,
              "#ed7953"
             ],
             [
              0.7777777777777778,
              "#fb9f3a"
             ],
             [
              0.8888888888888888,
              "#fdca26"
             ],
             [
              1,
              "#f0f921"
             ]
            ],
            "type": "contour"
           }
          ],
          "contourcarpet": [
           {
            "colorbar": {
             "outlinewidth": 0,
             "ticks": ""
            },
            "type": "contourcarpet"
           }
          ],
          "heatmap": [
           {
            "colorbar": {
             "outlinewidth": 0,
             "ticks": ""
            },
            "colorscale": [
             [
              0,
              "#0d0887"
             ],
             [
              0.1111111111111111,
              "#46039f"
             ],
             [
              0.2222222222222222,
              "#7201a8"
             ],
             [
              0.3333333333333333,
              "#9c179e"
             ],
             [
              0.4444444444444444,
              "#bd3786"
             ],
             [
              0.5555555555555556,
              "#d8576b"
             ],
             [
              0.6666666666666666,
              "#ed7953"
             ],
             [
              0.7777777777777778,
              "#fb9f3a"
             ],
             [
              0.8888888888888888,
              "#fdca26"
             ],
             [
              1,
              "#f0f921"
             ]
            ],
            "type": "heatmap"
           }
          ],
          "heatmapgl": [
           {
            "colorbar": {
             "outlinewidth": 0,
             "ticks": ""
            },
            "colorscale": [
             [
              0,
              "#0d0887"
             ],
             [
              0.1111111111111111,
              "#46039f"
             ],
             [
              0.2222222222222222,
              "#7201a8"
             ],
             [
              0.3333333333333333,
              "#9c179e"
             ],
             [
              0.4444444444444444,
              "#bd3786"
             ],
             [
              0.5555555555555556,
              "#d8576b"
             ],
             [
              0.6666666666666666,
              "#ed7953"
             ],
             [
              0.7777777777777778,
              "#fb9f3a"
             ],
             [
              0.8888888888888888,
              "#fdca26"
             ],
             [
              1,
              "#f0f921"
             ]
            ],
            "type": "heatmapgl"
           }
          ],
          "histogram": [
           {
            "marker": {
             "pattern": {
              "fillmode": "overlay",
              "size": 10,
              "solidity": 0.2
             }
            },
            "type": "histogram"
           }
          ],
          "histogram2d": [
           {
            "colorbar": {
             "outlinewidth": 0,
             "ticks": ""
            },
            "colorscale": [
             [
              0,
              "#0d0887"
             ],
             [
              0.1111111111111111,
              "#46039f"
             ],
             [
              0.2222222222222222,
              "#7201a8"
             ],
             [
              0.3333333333333333,
              "#9c179e"
             ],
             [
              0.4444444444444444,
              "#bd3786"
             ],
             [
              0.5555555555555556,
              "#d8576b"
             ],
             [
              0.6666666666666666,
              "#ed7953"
             ],
             [
              0.7777777777777778,
              "#fb9f3a"
             ],
             [
              0.8888888888888888,
              "#fdca26"
             ],
             [
              1,
              "#f0f921"
             ]
            ],
            "type": "histogram2d"
           }
          ],
          "histogram2dcontour": [
           {
            "colorbar": {
             "outlinewidth": 0,
             "ticks": ""
            },
            "colorscale": [
             [
              0,
              "#0d0887"
             ],
             [
              0.1111111111111111,
              "#46039f"
             ],
             [
              0.2222222222222222,
              "#7201a8"
             ],
             [
              0.3333333333333333,
              "#9c179e"
             ],
             [
              0.4444444444444444,
              "#bd3786"
             ],
             [
              0.5555555555555556,
              "#d8576b"
             ],
             [
              0.6666666666666666,
              "#ed7953"
             ],
             [
              0.7777777777777778,
              "#fb9f3a"
             ],
             [
              0.8888888888888888,
              "#fdca26"
             ],
             [
              1,
              "#f0f921"
             ]
            ],
            "type": "histogram2dcontour"
           }
          ],
          "mesh3d": [
           {
            "colorbar": {
             "outlinewidth": 0,
             "ticks": ""
            },
            "type": "mesh3d"
           }
          ],
          "parcoords": [
           {
            "line": {
             "colorbar": {
              "outlinewidth": 0,
              "ticks": ""
             }
            },
            "type": "parcoords"
           }
          ],
          "pie": [
           {
            "automargin": true,
            "type": "pie"
           }
          ],
          "scatter": [
           {
            "fillpattern": {
             "fillmode": "overlay",
             "size": 10,
             "solidity": 0.2
            },
            "type": "scatter"
           }
          ],
          "scatter3d": [
           {
            "line": {
             "colorbar": {
              "outlinewidth": 0,
              "ticks": ""
             }
            },
            "marker": {
             "colorbar": {
              "outlinewidth": 0,
              "ticks": ""
             }
            },
            "type": "scatter3d"
           }
          ],
          "scattercarpet": [
           {
            "marker": {
             "colorbar": {
              "outlinewidth": 0,
              "ticks": ""
             }
            },
            "type": "scattercarpet"
           }
          ],
          "scattergeo": [
           {
            "marker": {
             "colorbar": {
              "outlinewidth": 0,
              "ticks": ""
             }
            },
            "type": "scattergeo"
           }
          ],
          "scattergl": [
           {
            "marker": {
             "colorbar": {
              "outlinewidth": 0,
              "ticks": ""
             }
            },
            "type": "scattergl"
           }
          ],
          "scattermapbox": [
           {
            "marker": {
             "colorbar": {
              "outlinewidth": 0,
              "ticks": ""
             }
            },
            "type": "scattermapbox"
           }
          ],
          "scatterpolar": [
           {
            "marker": {
             "colorbar": {
              "outlinewidth": 0,
              "ticks": ""
             }
            },
            "type": "scatterpolar"
           }
          ],
          "scatterpolargl": [
           {
            "marker": {
             "colorbar": {
              "outlinewidth": 0,
              "ticks": ""
             }
            },
            "type": "scatterpolargl"
           }
          ],
          "scatterternary": [
           {
            "marker": {
             "colorbar": {
              "outlinewidth": 0,
              "ticks": ""
             }
            },
            "type": "scatterternary"
           }
          ],
          "surface": [
           {
            "colorbar": {
             "outlinewidth": 0,
             "ticks": ""
            },
            "colorscale": [
             [
              0,
              "#0d0887"
             ],
             [
              0.1111111111111111,
              "#46039f"
             ],
             [
              0.2222222222222222,
              "#7201a8"
             ],
             [
              0.3333333333333333,
              "#9c179e"
             ],
             [
              0.4444444444444444,
              "#bd3786"
             ],
             [
              0.5555555555555556,
              "#d8576b"
             ],
             [
              0.6666666666666666,
              "#ed7953"
             ],
             [
              0.7777777777777778,
              "#fb9f3a"
             ],
             [
              0.8888888888888888,
              "#fdca26"
             ],
             [
              1,
              "#f0f921"
             ]
            ],
            "type": "surface"
           }
          ],
          "table": [
           {
            "cells": {
             "fill": {
              "color": "#EBF0F8"
             },
             "line": {
              "color": "white"
             }
            },
            "header": {
             "fill": {
              "color": "#C8D4E3"
             },
             "line": {
              "color": "white"
             }
            },
            "type": "table"
           }
          ]
         },
         "layout": {
          "annotationdefaults": {
           "arrowcolor": "#2a3f5f",
           "arrowhead": 0,
           "arrowwidth": 1
          },
          "autotypenumbers": "strict",
          "coloraxis": {
           "colorbar": {
            "outlinewidth": 0,
            "ticks": ""
           }
          },
          "colorscale": {
           "diverging": [
            [
             0,
             "#8e0152"
            ],
            [
             0.1,
             "#c51b7d"
            ],
            [
             0.2,
             "#de77ae"
            ],
            [
             0.3,
             "#f1b6da"
            ],
            [
             0.4,
             "#fde0ef"
            ],
            [
             0.5,
             "#f7f7f7"
            ],
            [
             0.6,
             "#e6f5d0"
            ],
            [
             0.7,
             "#b8e186"
            ],
            [
             0.8,
             "#7fbc41"
            ],
            [
             0.9,
             "#4d9221"
            ],
            [
             1,
             "#276419"
            ]
           ],
           "sequential": [
            [
             0,
             "#0d0887"
            ],
            [
             0.1111111111111111,
             "#46039f"
            ],
            [
             0.2222222222222222,
             "#7201a8"
            ],
            [
             0.3333333333333333,
             "#9c179e"
            ],
            [
             0.4444444444444444,
             "#bd3786"
            ],
            [
             0.5555555555555556,
             "#d8576b"
            ],
            [
             0.6666666666666666,
             "#ed7953"
            ],
            [
             0.7777777777777778,
             "#fb9f3a"
            ],
            [
             0.8888888888888888,
             "#fdca26"
            ],
            [
             1,
             "#f0f921"
            ]
           ],
           "sequentialminus": [
            [
             0,
             "#0d0887"
            ],
            [
             0.1111111111111111,
             "#46039f"
            ],
            [
             0.2222222222222222,
             "#7201a8"
            ],
            [
             0.3333333333333333,
             "#9c179e"
            ],
            [
             0.4444444444444444,
             "#bd3786"
            ],
            [
             0.5555555555555556,
             "#d8576b"
            ],
            [
             0.6666666666666666,
             "#ed7953"
            ],
            [
             0.7777777777777778,
             "#fb9f3a"
            ],
            [
             0.8888888888888888,
             "#fdca26"
            ],
            [
             1,
             "#f0f921"
            ]
           ]
          },
          "colorway": [
           "#636efa",
           "#EF553B",
           "#00cc96",
           "#ab63fa",
           "#FFA15A",
           "#19d3f3",
           "#FF6692",
           "#B6E880",
           "#FF97FF",
           "#FECB52"
          ],
          "font": {
           "color": "#2a3f5f"
          },
          "geo": {
           "bgcolor": "white",
           "lakecolor": "white",
           "landcolor": "#E5ECF6",
           "showlakes": true,
           "showland": true,
           "subunitcolor": "white"
          },
          "hoverlabel": {
           "align": "left"
          },
          "hovermode": "closest",
          "mapbox": {
           "style": "light"
          },
          "paper_bgcolor": "white",
          "plot_bgcolor": "#E5ECF6",
          "polar": {
           "angularaxis": {
            "gridcolor": "white",
            "linecolor": "white",
            "ticks": ""
           },
           "bgcolor": "#E5ECF6",
           "radialaxis": {
            "gridcolor": "white",
            "linecolor": "white",
            "ticks": ""
           }
          },
          "scene": {
           "xaxis": {
            "backgroundcolor": "#E5ECF6",
            "gridcolor": "white",
            "gridwidth": 2,
            "linecolor": "white",
            "showbackground": true,
            "ticks": "",
            "zerolinecolor": "white"
           },
           "yaxis": {
            "backgroundcolor": "#E5ECF6",
            "gridcolor": "white",
            "gridwidth": 2,
            "linecolor": "white",
            "showbackground": true,
            "ticks": "",
            "zerolinecolor": "white"
           },
           "zaxis": {
            "backgroundcolor": "#E5ECF6",
            "gridcolor": "white",
            "gridwidth": 2,
            "linecolor": "white",
            "showbackground": true,
            "ticks": "",
            "zerolinecolor": "white"
           }
          },
          "shapedefaults": {
           "line": {
            "color": "#2a3f5f"
           }
          },
          "ternary": {
           "aaxis": {
            "gridcolor": "white",
            "linecolor": "white",
            "ticks": ""
           },
           "baxis": {
            "gridcolor": "white",
            "linecolor": "white",
            "ticks": ""
           },
           "bgcolor": "#E5ECF6",
           "caxis": {
            "gridcolor": "white",
            "linecolor": "white",
            "ticks": ""
           }
          },
          "title": {
           "x": 0.05
          },
          "xaxis": {
           "automargin": true,
           "gridcolor": "white",
           "linecolor": "white",
           "ticks": "",
           "title": {
            "standoff": 15
           },
           "zerolinecolor": "white",
           "zerolinewidth": 2
          },
          "yaxis": {
           "automargin": true,
           "gridcolor": "white",
           "linecolor": "white",
           "ticks": "",
           "title": {
            "standoff": 15
           },
           "zerolinecolor": "white",
           "zerolinewidth": 2
          }
         }
        },
        "xaxis": {
         "anchor": "y",
         "domain": [
          0,
          0.235
         ],
         "title": {
          "text": "Time"
         }
        },
        "xaxis2": {
         "anchor": "y2",
         "domain": [
          0.255,
          0.49
         ],
         "matches": "x",
         "title": {
          "text": "Time"
         }
        },
        "xaxis3": {
         "anchor": "y3",
         "domain": [
          0.51,
          0.745
         ],
         "matches": "x",
         "title": {
          "text": "Time"
         }
        },
        "xaxis4": {
         "anchor": "y4",
         "domain": [
          0.7649999999999999,
          0.9999999999999999
         ],
         "matches": "x",
         "title": {
          "text": "Time"
         }
        },
        "yaxis": {
         "anchor": "x",
         "domain": [
          0,
          1
         ],
         "range": [
          4.5,
          382.25000000000006
         ],
         "showticklabels": true,
         "title": {
          "text": "mean"
         }
        },
        "yaxis2": {
         "anchor": "x2",
         "domain": [
          0,
          1
         ],
         "matches": "y",
         "showticklabels": true
        },
        "yaxis3": {
         "anchor": "x3",
         "domain": [
          0,
          1
         ],
         "matches": "y",
         "showticklabels": true
        },
        "yaxis4": {
         "anchor": "x4",
         "domain": [
          0,
          1
         ],
         "matches": "y",
         "showticklabels": true
        }
       }
      }
     },
     "metadata": {},
     "output_type": "display_data"
    }
   ],
   "source": [
    "# Plot facet plots for individual raw values\n",
    "plot_data = melted_data\n",
    "\n",
    "fig = glo.plot_facet_line(plot_data, \n",
    "                          x_by = 'Time', \n",
    "                          y_by = 'mean', \n",
    "                          error_y_by = 'std',\n",
    "                          color_by='Odor_conc', \n",
    "                          facet_col_by='Group',\n",
    "                          #facet_row_by='Group', \n",
    "                          n_facet_col_wrap = 4)\n",
    "fig.show()\n",
    "# fig.write_html(f'./{file_extension}_raw_line.html')"
   ]
  },
  {
   "cell_type": "markdown",
   "id": "a78de251",
   "metadata": {},
   "source": [
    "#### Bar plot"
   ]
  },
  {
   "cell_type": "code",
   "execution_count": 10,
   "id": "b93b2611",
   "metadata": {},
   "outputs": [
    {
     "data": {
      "application/vnd.plotly.v1+json": {
       "config": {
        "plotlyServerURL": "https://plot.ly"
       },
       "data": [
        {
         "alignmentgroup": "True",
         "error_y": {
          "array": [
           4.094130525753262
          ]
         },
         "hovertemplate": "Odor_conc=%{x}<br>Group=A<br>AUC_mean=%{y}<extra></extra>",
         "legendgroup": "100.0",
         "marker": {
          "color": "#FFA15A",
          "pattern": {
           "shape": ""
          }
         },
         "name": "100.0",
         "offsetgroup": "100.0",
         "orientation": "v",
         "showlegend": true,
         "textposition": "auto",
         "type": "bar",
         "x": [
          "100.0"
         ],
         "xaxis": "x",
         "y": [
          198
         ],
         "yaxis": "y"
        },
        {
         "alignmentgroup": "True",
         "error_y": {
          "array": [
           63.20313999131617
          ]
         },
         "hovertemplate": "Odor_conc=%{x}<br>Group=B<br>AUC_mean=%{y}<extra></extra>",
         "legendgroup": "100.0",
         "marker": {
          "color": "#FFA15A",
          "pattern": {
           "shape": ""
          }
         },
         "name": "100.0",
         "offsetgroup": "100.0",
         "orientation": "v",
         "showlegend": false,
         "textposition": "auto",
         "type": "bar",
         "x": [
          "100.0"
         ],
         "xaxis": "x2",
         "y": [
          1118.25
         ],
         "yaxis": "y2"
        },
        {
         "alignmentgroup": "True",
         "error_y": {
          "array": [
           33.520693679604896
          ]
         },
         "hovertemplate": "Odor_conc=%{x}<br>Group=C<br>AUC_mean=%{y}<extra></extra>",
         "legendgroup": "100.0",
         "marker": {
          "color": "#FFA15A",
          "pattern": {
           "shape": ""
          }
         },
         "name": "100.0",
         "offsetgroup": "100.0",
         "orientation": "v",
         "showlegend": false,
         "textposition": "auto",
         "type": "bar",
         "x": [
          "100.0"
         ],
         "xaxis": "x3",
         "y": [
          252.75
         ],
         "yaxis": "y3"
        },
        {
         "alignmentgroup": "True",
         "error_y": {
          "array": [
           59.36489262342262
          ]
         },
         "hovertemplate": "Odor_conc=%{x}<br>Group=D<br>AUC_mean=%{y}<extra></extra>",
         "legendgroup": "100.0",
         "marker": {
          "color": "#FFA15A",
          "pattern": {
           "shape": ""
          }
         },
         "name": "100.0",
         "offsetgroup": "100.0",
         "orientation": "v",
         "showlegend": false,
         "textposition": "auto",
         "type": "bar",
         "x": [
          "100.0"
         ],
         "xaxis": "x4",
         "y": [
          2069
         ],
         "yaxis": "y4"
        },
        {
         "alignmentgroup": "True",
         "error_y": {
          "array": [
           21.2383021023451
          ]
         },
         "hovertemplate": "Odor_conc=%{x}<br>Group=A<br>AUC_mean=%{y}<extra></extra>",
         "legendgroup": "10.0",
         "marker": {
          "color": "#19d3f3",
          "pattern": {
           "shape": ""
          }
         },
         "name": "10.0",
         "offsetgroup": "10.0",
         "orientation": "v",
         "showlegend": true,
         "textposition": "auto",
         "type": "bar",
         "x": [
          "10.0"
         ],
         "xaxis": "x",
         "y": [
          171.25
         ],
         "yaxis": "y"
        },
        {
         "alignmentgroup": "True",
         "error_y": {
          "array": [
           47.338384204022155
          ]
         },
         "hovertemplate": "Odor_conc=%{x}<br>Group=B<br>AUC_mean=%{y}<extra></extra>",
         "legendgroup": "10.0",
         "marker": {
          "color": "#19d3f3",
          "pattern": {
           "shape": ""
          }
         },
         "name": "10.0",
         "offsetgroup": "10.0",
         "orientation": "v",
         "showlegend": false,
         "textposition": "auto",
         "type": "bar",
         "x": [
          "10.0"
         ],
         "xaxis": "x2",
         "y": [
          926.25
         ],
         "yaxis": "y2"
        },
        {
         "alignmentgroup": "True",
         "error_y": {
          "array": [
           62.179607359877835
          ]
         },
         "hovertemplate": "Odor_conc=%{x}<br>Group=C<br>AUC_mean=%{y}<extra></extra>",
         "legendgroup": "10.0",
         "marker": {
          "color": "#19d3f3",
          "pattern": {
           "shape": ""
          }
         },
         "name": "10.0",
         "offsetgroup": "10.0",
         "orientation": "v",
         "showlegend": false,
         "textposition": "auto",
         "type": "bar",
         "x": [
          "10.0"
         ],
         "xaxis": "x3",
         "y": [
          271.25
         ],
         "yaxis": "y3"
        },
        {
         "alignmentgroup": "True",
         "error_y": {
          "array": [
           112.0768231424959
          ]
         },
         "hovertemplate": "Odor_conc=%{x}<br>Group=D<br>AUC_mean=%{y}<extra></extra>",
         "legendgroup": "10.0",
         "marker": {
          "color": "#19d3f3",
          "pattern": {
           "shape": ""
          }
         },
         "name": "10.0",
         "offsetgroup": "10.0",
         "orientation": "v",
         "showlegend": false,
         "textposition": "auto",
         "type": "bar",
         "x": [
          "10.0"
         ],
         "xaxis": "x4",
         "y": [
          1395
         ],
         "yaxis": "y4"
        },
        {
         "alignmentgroup": "True",
         "error_y": {
          "array": [
           20.21476947090679
          ]
         },
         "hovertemplate": "Odor_conc=%{x}<br>Group=A<br>AUC_mean=%{y}<extra></extra>",
         "legendgroup": "1.0",
         "marker": {
          "color": "#FF6692",
          "pattern": {
           "shape": ""
          }
         },
         "name": "1.0",
         "offsetgroup": "1.0",
         "orientation": "v",
         "showlegend": true,
         "textposition": "auto",
         "type": "bar",
         "x": [
          "1.0"
         ],
         "xaxis": "x",
         "y": [
          173.25
         ],
         "yaxis": "y"
        },
        {
         "alignmentgroup": "True",
         "error_y": {
          "array": [
           200.8682789197699
          ]
         },
         "hovertemplate": "Odor_conc=%{x}<br>Group=B<br>AUC_mean=%{y}<extra></extra>",
         "legendgroup": "1.0",
         "marker": {
          "color": "#FF6692",
          "pattern": {
           "shape": ""
          }
         },
         "name": "1.0",
         "offsetgroup": "1.0",
         "orientation": "v",
         "showlegend": false,
         "textposition": "auto",
         "type": "bar",
         "x": [
          "1.0"
         ],
         "xaxis": "x2",
         "y": [
          620.75
         ],
         "yaxis": "y2"
        },
        {
         "alignmentgroup": "True",
         "error_y": {
          "array": [
           37.35894104749861
          ]
         },
         "hovertemplate": "Odor_conc=%{x}<br>Group=C<br>AUC_mean=%{y}<extra></extra>",
         "legendgroup": "1.0",
         "marker": {
          "color": "#FF6692",
          "pattern": {
           "shape": ""
          }
         },
         "name": "1.0",
         "offsetgroup": "1.0",
         "orientation": "v",
         "showlegend": false,
         "textposition": "auto",
         "type": "bar",
         "x": [
          "1.0"
         ],
         "xaxis": "x3",
         "y": [
          207.5
         ],
         "yaxis": "y3"
        },
        {
         "alignmentgroup": "True",
         "error_y": {
          "array": [
           149.94753050571362
          ]
         },
         "hovertemplate": "Odor_conc=%{x}<br>Group=D<br>AUC_mean=%{y}<extra></extra>",
         "legendgroup": "1.0",
         "marker": {
          "color": "#FF6692",
          "pattern": {
           "shape": ""
          }
         },
         "name": "1.0",
         "offsetgroup": "1.0",
         "orientation": "v",
         "showlegend": false,
         "textposition": "auto",
         "type": "bar",
         "x": [
          "1.0"
         ],
         "xaxis": "x4",
         "y": [
          959
         ],
         "yaxis": "y4"
        },
        {
         "alignmentgroup": "True",
         "error_y": {
          "array": [
           1.279415789297897
          ]
         },
         "hovertemplate": "Odor_conc=%{x}<br>Group=A<br>AUC_mean=%{y}<extra></extra>",
         "legendgroup": "0.0",
         "marker": {
          "color": "#B6E880",
          "pattern": {
           "shape": ""
          }
         },
         "name": "0.0",
         "offsetgroup": "0.0",
         "orientation": "v",
         "showlegend": true,
         "textposition": "auto",
         "type": "bar",
         "x": [
          "0.0"
         ],
         "xaxis": "x",
         "y": [
          158.25
         ],
         "yaxis": "y"
        },
        {
         "alignmentgroup": "True",
         "error_y": {
          "array": [
           38.6383568367965
          ]
         },
         "hovertemplate": "Odor_conc=%{x}<br>Group=B<br>AUC_mean=%{y}<extra></extra>",
         "legendgroup": "0.0",
         "marker": {
          "color": "#B6E880",
          "pattern": {
           "shape": ""
          }
         },
         "name": "0.0",
         "offsetgroup": "0.0",
         "orientation": "v",
         "showlegend": false,
         "textposition": "auto",
         "type": "bar",
         "x": [
          "0.0"
         ],
         "xaxis": "x2",
         "y": [
          334.75
         ],
         "yaxis": "y2"
        },
        {
         "alignmentgroup": "True",
         "error_y": {
          "array": [
           19.958886313047202
          ]
         },
         "hovertemplate": "Odor_conc=%{x}<br>Group=C<br>AUC_mean=%{y}<extra></extra>",
         "legendgroup": "0.0",
         "marker": {
          "color": "#B6E880",
          "pattern": {
           "shape": ""
          }
         },
         "name": "0.0",
         "offsetgroup": "0.0",
         "orientation": "v",
         "showlegend": false,
         "textposition": "auto",
         "type": "bar",
         "x": [
          "0.0"
         ],
         "xaxis": "x3",
         "y": [
          186
         ],
         "yaxis": "y3"
        },
        {
         "alignmentgroup": "True",
         "error_y": {
          "array": [
           57.31782736054582
          ]
         },
         "hovertemplate": "Odor_conc=%{x}<br>Group=D<br>AUC_mean=%{y}<extra></extra>",
         "legendgroup": "0.0",
         "marker": {
          "color": "#B6E880",
          "pattern": {
           "shape": ""
          }
         },
         "name": "0.0",
         "offsetgroup": "0.0",
         "orientation": "v",
         "showlegend": false,
         "textposition": "auto",
         "type": "bar",
         "x": [
          "0.0"
         ],
         "xaxis": "x4",
         "y": [
          530
         ],
         "yaxis": "y4"
        }
       ],
       "layout": {
        "annotations": [
         {
          "font": {},
          "showarrow": false,
          "text": "A",
          "x": 0.1175,
          "xanchor": "center",
          "xref": "paper",
          "y": 1,
          "yanchor": "bottom",
          "yref": "paper"
         },
         {
          "font": {},
          "showarrow": false,
          "text": "B",
          "x": 0.3725,
          "xanchor": "center",
          "xref": "paper",
          "y": 1,
          "yanchor": "bottom",
          "yref": "paper"
         },
         {
          "font": {},
          "showarrow": false,
          "text": "C",
          "x": 0.6275,
          "xanchor": "center",
          "xref": "paper",
          "y": 1,
          "yanchor": "bottom",
          "yref": "paper"
         },
         {
          "font": {},
          "showarrow": false,
          "text": "D",
          "x": 0.8824999999999998,
          "xanchor": "center",
          "xref": "paper",
          "y": 1,
          "yanchor": "bottom",
          "yref": "paper"
         }
        ],
        "barmode": "relative",
        "legend": {
         "title": {
          "text": "Odor_conc"
         },
         "tracegroupgap": 0
        },
        "margin": {
         "t": 60
        },
        "template": {
         "data": {
          "bar": [
           {
            "error_x": {
             "color": "#2a3f5f"
            },
            "error_y": {
             "color": "#2a3f5f"
            },
            "marker": {
             "line": {
              "color": "#E5ECF6",
              "width": 0.5
             },
             "pattern": {
              "fillmode": "overlay",
              "size": 10,
              "solidity": 0.2
             }
            },
            "type": "bar"
           }
          ],
          "barpolar": [
           {
            "marker": {
             "line": {
              "color": "#E5ECF6",
              "width": 0.5
             },
             "pattern": {
              "fillmode": "overlay",
              "size": 10,
              "solidity": 0.2
             }
            },
            "type": "barpolar"
           }
          ],
          "carpet": [
           {
            "aaxis": {
             "endlinecolor": "#2a3f5f",
             "gridcolor": "white",
             "linecolor": "white",
             "minorgridcolor": "white",
             "startlinecolor": "#2a3f5f"
            },
            "baxis": {
             "endlinecolor": "#2a3f5f",
             "gridcolor": "white",
             "linecolor": "white",
             "minorgridcolor": "white",
             "startlinecolor": "#2a3f5f"
            },
            "type": "carpet"
           }
          ],
          "choropleth": [
           {
            "colorbar": {
             "outlinewidth": 0,
             "ticks": ""
            },
            "type": "choropleth"
           }
          ],
          "contour": [
           {
            "colorbar": {
             "outlinewidth": 0,
             "ticks": ""
            },
            "colorscale": [
             [
              0,
              "#0d0887"
             ],
             [
              0.1111111111111111,
              "#46039f"
             ],
             [
              0.2222222222222222,
              "#7201a8"
             ],
             [
              0.3333333333333333,
              "#9c179e"
             ],
             [
              0.4444444444444444,
              "#bd3786"
             ],
             [
              0.5555555555555556,
              "#d8576b"
             ],
             [
              0.6666666666666666,
              "#ed7953"
             ],
             [
              0.7777777777777778,
              "#fb9f3a"
             ],
             [
              0.8888888888888888,
              "#fdca26"
             ],
             [
              1,
              "#f0f921"
             ]
            ],
            "type": "contour"
           }
          ],
          "contourcarpet": [
           {
            "colorbar": {
             "outlinewidth": 0,
             "ticks": ""
            },
            "type": "contourcarpet"
           }
          ],
          "heatmap": [
           {
            "colorbar": {
             "outlinewidth": 0,
             "ticks": ""
            },
            "colorscale": [
             [
              0,
              "#0d0887"
             ],
             [
              0.1111111111111111,
              "#46039f"
             ],
             [
              0.2222222222222222,
              "#7201a8"
             ],
             [
              0.3333333333333333,
              "#9c179e"
             ],
             [
              0.4444444444444444,
              "#bd3786"
             ],
             [
              0.5555555555555556,
              "#d8576b"
             ],
             [
              0.6666666666666666,
              "#ed7953"
             ],
             [
              0.7777777777777778,
              "#fb9f3a"
             ],
             [
              0.8888888888888888,
              "#fdca26"
             ],
             [
              1,
              "#f0f921"
             ]
            ],
            "type": "heatmap"
           }
          ],
          "heatmapgl": [
           {
            "colorbar": {
             "outlinewidth": 0,
             "ticks": ""
            },
            "colorscale": [
             [
              0,
              "#0d0887"
             ],
             [
              0.1111111111111111,
              "#46039f"
             ],
             [
              0.2222222222222222,
              "#7201a8"
             ],
             [
              0.3333333333333333,
              "#9c179e"
             ],
             [
              0.4444444444444444,
              "#bd3786"
             ],
             [
              0.5555555555555556,
              "#d8576b"
             ],
             [
              0.6666666666666666,
              "#ed7953"
             ],
             [
              0.7777777777777778,
              "#fb9f3a"
             ],
             [
              0.8888888888888888,
              "#fdca26"
             ],
             [
              1,
              "#f0f921"
             ]
            ],
            "type": "heatmapgl"
           }
          ],
          "histogram": [
           {
            "marker": {
             "pattern": {
              "fillmode": "overlay",
              "size": 10,
              "solidity": 0.2
             }
            },
            "type": "histogram"
           }
          ],
          "histogram2d": [
           {
            "colorbar": {
             "outlinewidth": 0,
             "ticks": ""
            },
            "colorscale": [
             [
              0,
              "#0d0887"
             ],
             [
              0.1111111111111111,
              "#46039f"
             ],
             [
              0.2222222222222222,
              "#7201a8"
             ],
             [
              0.3333333333333333,
              "#9c179e"
             ],
             [
              0.4444444444444444,
              "#bd3786"
             ],
             [
              0.5555555555555556,
              "#d8576b"
             ],
             [
              0.6666666666666666,
              "#ed7953"
             ],
             [
              0.7777777777777778,
              "#fb9f3a"
             ],
             [
              0.8888888888888888,
              "#fdca26"
             ],
             [
              1,
              "#f0f921"
             ]
            ],
            "type": "histogram2d"
           }
          ],
          "histogram2dcontour": [
           {
            "colorbar": {
             "outlinewidth": 0,
             "ticks": ""
            },
            "colorscale": [
             [
              0,
              "#0d0887"
             ],
             [
              0.1111111111111111,
              "#46039f"
             ],
             [
              0.2222222222222222,
              "#7201a8"
             ],
             [
              0.3333333333333333,
              "#9c179e"
             ],
             [
              0.4444444444444444,
              "#bd3786"
             ],
             [
              0.5555555555555556,
              "#d8576b"
             ],
             [
              0.6666666666666666,
              "#ed7953"
             ],
             [
              0.7777777777777778,
              "#fb9f3a"
             ],
             [
              0.8888888888888888,
              "#fdca26"
             ],
             [
              1,
              "#f0f921"
             ]
            ],
            "type": "histogram2dcontour"
           }
          ],
          "mesh3d": [
           {
            "colorbar": {
             "outlinewidth": 0,
             "ticks": ""
            },
            "type": "mesh3d"
           }
          ],
          "parcoords": [
           {
            "line": {
             "colorbar": {
              "outlinewidth": 0,
              "ticks": ""
             }
            },
            "type": "parcoords"
           }
          ],
          "pie": [
           {
            "automargin": true,
            "type": "pie"
           }
          ],
          "scatter": [
           {
            "fillpattern": {
             "fillmode": "overlay",
             "size": 10,
             "solidity": 0.2
            },
            "type": "scatter"
           }
          ],
          "scatter3d": [
           {
            "line": {
             "colorbar": {
              "outlinewidth": 0,
              "ticks": ""
             }
            },
            "marker": {
             "colorbar": {
              "outlinewidth": 0,
              "ticks": ""
             }
            },
            "type": "scatter3d"
           }
          ],
          "scattercarpet": [
           {
            "marker": {
             "colorbar": {
              "outlinewidth": 0,
              "ticks": ""
             }
            },
            "type": "scattercarpet"
           }
          ],
          "scattergeo": [
           {
            "marker": {
             "colorbar": {
              "outlinewidth": 0,
              "ticks": ""
             }
            },
            "type": "scattergeo"
           }
          ],
          "scattergl": [
           {
            "marker": {
             "colorbar": {
              "outlinewidth": 0,
              "ticks": ""
             }
            },
            "type": "scattergl"
           }
          ],
          "scattermapbox": [
           {
            "marker": {
             "colorbar": {
              "outlinewidth": 0,
              "ticks": ""
             }
            },
            "type": "scattermapbox"
           }
          ],
          "scatterpolar": [
           {
            "marker": {
             "colorbar": {
              "outlinewidth": 0,
              "ticks": ""
             }
            },
            "type": "scatterpolar"
           }
          ],
          "scatterpolargl": [
           {
            "marker": {
             "colorbar": {
              "outlinewidth": 0,
              "ticks": ""
             }
            },
            "type": "scatterpolargl"
           }
          ],
          "scatterternary": [
           {
            "marker": {
             "colorbar": {
              "outlinewidth": 0,
              "ticks": ""
             }
            },
            "type": "scatterternary"
           }
          ],
          "surface": [
           {
            "colorbar": {
             "outlinewidth": 0,
             "ticks": ""
            },
            "colorscale": [
             [
              0,
              "#0d0887"
             ],
             [
              0.1111111111111111,
              "#46039f"
             ],
             [
              0.2222222222222222,
              "#7201a8"
             ],
             [
              0.3333333333333333,
              "#9c179e"
             ],
             [
              0.4444444444444444,
              "#bd3786"
             ],
             [
              0.5555555555555556,
              "#d8576b"
             ],
             [
              0.6666666666666666,
              "#ed7953"
             ],
             [
              0.7777777777777778,
              "#fb9f3a"
             ],
             [
              0.8888888888888888,
              "#fdca26"
             ],
             [
              1,
              "#f0f921"
             ]
            ],
            "type": "surface"
           }
          ],
          "table": [
           {
            "cells": {
             "fill": {
              "color": "#EBF0F8"
             },
             "line": {
              "color": "white"
             }
            },
            "header": {
             "fill": {
              "color": "#C8D4E3"
             },
             "line": {
              "color": "white"
             }
            },
            "type": "table"
           }
          ]
         },
         "layout": {
          "annotationdefaults": {
           "arrowcolor": "#2a3f5f",
           "arrowhead": 0,
           "arrowwidth": 1
          },
          "autotypenumbers": "strict",
          "coloraxis": {
           "colorbar": {
            "outlinewidth": 0,
            "ticks": ""
           }
          },
          "colorscale": {
           "diverging": [
            [
             0,
             "#8e0152"
            ],
            [
             0.1,
             "#c51b7d"
            ],
            [
             0.2,
             "#de77ae"
            ],
            [
             0.3,
             "#f1b6da"
            ],
            [
             0.4,
             "#fde0ef"
            ],
            [
             0.5,
             "#f7f7f7"
            ],
            [
             0.6,
             "#e6f5d0"
            ],
            [
             0.7,
             "#b8e186"
            ],
            [
             0.8,
             "#7fbc41"
            ],
            [
             0.9,
             "#4d9221"
            ],
            [
             1,
             "#276419"
            ]
           ],
           "sequential": [
            [
             0,
             "#0d0887"
            ],
            [
             0.1111111111111111,
             "#46039f"
            ],
            [
             0.2222222222222222,
             "#7201a8"
            ],
            [
             0.3333333333333333,
             "#9c179e"
            ],
            [
             0.4444444444444444,
             "#bd3786"
            ],
            [
             0.5555555555555556,
             "#d8576b"
            ],
            [
             0.6666666666666666,
             "#ed7953"
            ],
            [
             0.7777777777777778,
             "#fb9f3a"
            ],
            [
             0.8888888888888888,
             "#fdca26"
            ],
            [
             1,
             "#f0f921"
            ]
           ],
           "sequentialminus": [
            [
             0,
             "#0d0887"
            ],
            [
             0.1111111111111111,
             "#46039f"
            ],
            [
             0.2222222222222222,
             "#7201a8"
            ],
            [
             0.3333333333333333,
             "#9c179e"
            ],
            [
             0.4444444444444444,
             "#bd3786"
            ],
            [
             0.5555555555555556,
             "#d8576b"
            ],
            [
             0.6666666666666666,
             "#ed7953"
            ],
            [
             0.7777777777777778,
             "#fb9f3a"
            ],
            [
             0.8888888888888888,
             "#fdca26"
            ],
            [
             1,
             "#f0f921"
            ]
           ]
          },
          "colorway": [
           "#636efa",
           "#EF553B",
           "#00cc96",
           "#ab63fa",
           "#FFA15A",
           "#19d3f3",
           "#FF6692",
           "#B6E880",
           "#FF97FF",
           "#FECB52"
          ],
          "font": {
           "color": "#2a3f5f"
          },
          "geo": {
           "bgcolor": "white",
           "lakecolor": "white",
           "landcolor": "#E5ECF6",
           "showlakes": true,
           "showland": true,
           "subunitcolor": "white"
          },
          "hoverlabel": {
           "align": "left"
          },
          "hovermode": "closest",
          "mapbox": {
           "style": "light"
          },
          "paper_bgcolor": "white",
          "plot_bgcolor": "#E5ECF6",
          "polar": {
           "angularaxis": {
            "gridcolor": "white",
            "linecolor": "white",
            "ticks": ""
           },
           "bgcolor": "#E5ECF6",
           "radialaxis": {
            "gridcolor": "white",
            "linecolor": "white",
            "ticks": ""
           }
          },
          "scene": {
           "xaxis": {
            "backgroundcolor": "#E5ECF6",
            "gridcolor": "white",
            "gridwidth": 2,
            "linecolor": "white",
            "showbackground": true,
            "ticks": "",
            "zerolinecolor": "white"
           },
           "yaxis": {
            "backgroundcolor": "#E5ECF6",
            "gridcolor": "white",
            "gridwidth": 2,
            "linecolor": "white",
            "showbackground": true,
            "ticks": "",
            "zerolinecolor": "white"
           },
           "zaxis": {
            "backgroundcolor": "#E5ECF6",
            "gridcolor": "white",
            "gridwidth": 2,
            "linecolor": "white",
            "showbackground": true,
            "ticks": "",
            "zerolinecolor": "white"
           }
          },
          "shapedefaults": {
           "line": {
            "color": "#2a3f5f"
           }
          },
          "ternary": {
           "aaxis": {
            "gridcolor": "white",
            "linecolor": "white",
            "ticks": ""
           },
           "baxis": {
            "gridcolor": "white",
            "linecolor": "white",
            "ticks": ""
           },
           "bgcolor": "#E5ECF6",
           "caxis": {
            "gridcolor": "white",
            "linecolor": "white",
            "ticks": ""
           }
          },
          "title": {
           "x": 0.05
          },
          "xaxis": {
           "automargin": true,
           "gridcolor": "white",
           "linecolor": "white",
           "ticks": "",
           "title": {
            "standoff": 15
           },
           "zerolinecolor": "white",
           "zerolinewidth": 2
          },
          "yaxis": {
           "automargin": true,
           "gridcolor": "white",
           "linecolor": "white",
           "ticks": "",
           "title": {
            "standoff": 15
           },
           "zerolinecolor": "white",
           "zerolinewidth": 2
          }
         }
        },
        "xaxis": {
         "anchor": "y",
         "categoryarray": [
          "0.0",
          "1.0",
          "10.0",
          "100.0"
         ],
         "categoryorder": "array",
         "domain": [
          0,
          0.235
         ],
         "title": {
          "text": "Odor_conc"
         }
        },
        "xaxis2": {
         "anchor": "y2",
         "categoryarray": [
          "0.0",
          "1.0",
          "10.0",
          "100.0"
         ],
         "categoryorder": "array",
         "domain": [
          0.255,
          0.49
         ],
         "matches": "x",
         "title": {
          "text": "Odor_conc"
         }
        },
        "xaxis3": {
         "anchor": "y3",
         "categoryarray": [
          "0.0",
          "1.0",
          "10.0",
          "100.0"
         ],
         "categoryorder": "array",
         "domain": [
          0.51,
          0.745
         ],
         "matches": "x",
         "title": {
          "text": "Odor_conc"
         }
        },
        "xaxis4": {
         "anchor": "y4",
         "categoryarray": [
          "0.0",
          "1.0",
          "10.0",
          "100.0"
         ],
         "categoryorder": "array",
         "domain": [
          0.7649999999999999,
          0.9999999999999999
         ],
         "matches": "x",
         "title": {
          "text": "Odor_conc"
         }
        },
        "yaxis": {
         "anchor": "x",
         "domain": [
          0,
          1
         ],
         "range": [
          142.425,
          2275.9
         ],
         "showticklabels": true,
         "title": {
          "text": "AUC_mean"
         }
        },
        "yaxis2": {
         "anchor": "x2",
         "domain": [
          0,
          1
         ],
         "matches": "y",
         "showticklabels": true
        },
        "yaxis3": {
         "anchor": "x3",
         "domain": [
          0,
          1
         ],
         "matches": "y",
         "showticklabels": true
        },
        "yaxis4": {
         "anchor": "x4",
         "domain": [
          0,
          1
         ],
         "matches": "y",
         "showticklabels": true
        }
       }
      }
     },
     "metadata": {},
     "output_type": "display_data"
    }
   ],
   "source": [
    "# Plot facet plots for AUC\n",
    "\n",
    "plot_data = AUC_data[['Odor_conc', 'Group', 'AUC_mean', 'AUC_std','Plate']]\n",
    "plot_data = plot_data[plot_data.Plate.isin([1,2])]\n",
    "plot_data = plot_data.sort_values('Group')\n",
    "plot_data = plot_data.drop('Plate', axis = 1)\n",
    "# Dropping duplicate is important for a functional bar graph \n",
    "plot_data = plot_data.drop_duplicates().reset_index(drop=True)\n",
    "\n",
    "plot_data = plot_data[plot_data.Group != 'pCI_p2']\n",
    "\n",
    "plot_data['Group'] = pd.Categorical(plot_data['Group'], categories=list(glo.data.Group.unique()), ordered=True)\n",
    "plot_data = plot_data.sort_values(['Group', 'Odor_conc'], ascending=[True, False])\n",
    "plot_data['Odor_conc'] = plot_data['Odor_conc'].astype(str)\n",
    "\n",
    "fig = glo.plot_facet_bar(plot_data, \n",
    "                         x_by = \"Odor_conc\", \n",
    "                         y_by = \"AUC_mean\", \n",
    "                         facet_col_by = 'Group',\n",
    "                        #  facet_row_by = 'Group',\n",
    "                         error_y_by='AUC_std', n_facet_col_wrap = 4)\n",
    "fig.show()\n",
    "# fig.write_html(f'./{file_extension}_raw_AUC.html')"
   ]
  },
  {
   "cell_type": "markdown",
   "id": "7858fb7b",
   "metadata": {},
   "source": [
    "#### Sigmoid Dose Curve"
   ]
  },
  {
   "cell_type": "code",
   "execution_count": 13,
   "id": "acc81009",
   "metadata": {},
   "outputs": [
    {
     "name": "stdout",
     "output_type": "stream",
     "text": [
      "          EC50      Max\n",
      "Odor_1_D -5.06  2165.95\n",
      "Odor_1_B -5.69  1096.84\n",
      "Odor_1_C -5.80   259.77\n",
      "Odor_1_A -4.22   211.98\n"
     ]
    },
    {
     "data": {
      "image/png": "[encoded data removed]",
      "text/plain": [
       "<Figure size 1000x700 with 2 Axes>"
      ]
     },
     "metadata": {},
     "output_type": "display_data"
    }
   ],
   "source": [
    "group_col = ['Odor', 'Group']\n",
    "\n",
    "custom_color = [value for key, value in distinct_colors((['x'] * len(AUC_data.Group.unique())), \n",
    "                                                        category='pastel').items()]\n",
    "# custom_color = ['#93aafa', '#beccfc', '#66c61c', '#a3dc76']\n",
    "# custom_marker = ['o','o', 'v', 'v']\n",
    "plot_data = AUC_data\n",
    "\n",
    "\n",
    "fig, stat = glo.plot_Dose_curves(plot_data.sort_values('AUC', ascending=False), \n",
    "                                groupby_col = group_col, \n",
    "                                # custom_color=custom_color, \n",
    "                                # custom_marker=custom_marker,\n",
    "                                figsize = (10,7), \n",
    "                                log_conc_offset=-6, \n",
    "                                # plot_points=True, \n",
    "                                x_by = 'Odor_conc', \n",
    "                                point_size = 12,\n",
    "                                std_capsize=10,\n",
    "                                std_linewidth=2.5,   \n",
    "                                curve_width=5, \n",
    "                                sortlegend_by=None)\n",
    "# fig.savefig(f'./{file_extension}_dosecurve.png', bbox_inches='tight')\n",
    "print(pd.DataFrame(stat).T)"
   ]
  },
  {
   "cell_type": "code",
   "execution_count": null,
   "id": "ace1e178",
   "metadata": {},
   "outputs": [],
   "source": []
  },
  {
   "cell_type": "code",
   "execution_count": null,
   "id": "7fe53c06",
   "metadata": {},
   "outputs": [],
   "source": []
  }
 ],
 "metadata": {
  "kernelspec": {
   "display_name": "Python 3 (ipykernel)",
   "language": "python",
   "name": "python3"
  },
  "language_info": {
   "codemirror_mode": {
    "name": "ipython",
    "version": 3
   },
   "file_extension": ".py",
   "mimetype": "text/x-python",
   "name": "python",
   "nbconvert_exporter": "python",
   "pygments_lexer": "ipython3",
   "version": "3.12.4"
  }
 },
 "nbformat": 4,
 "nbformat_minor": 5
}
